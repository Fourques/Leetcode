{
 "cells": [
  {
   "cell_type": "markdown",
   "id": "c6391e44",
   "metadata": {},
   "source": [
    "### 70. 爬楼梯\n",
    "\n",
    "假设你正在爬楼梯。需要 n 阶你才能到达楼顶。\n",
    "\n",
    "每次你可以爬 1 或 2 个台阶。你有多少种不同的方法可以爬到楼顶呢？"
   ]
  },
  {
   "cell_type": "code",
   "execution_count": 2,
   "id": "1854b2ee",
   "metadata": {},
   "outputs": [],
   "source": [
    "n = 5\n",
    "\n",
    "def climb(n):\n",
    "    if n<= 2:\n",
    "        return n\n",
    "    a, b = 1, 2\n",
    "    for _ in range(3, n+1):\n",
    "        a, b = b ,a+b\n",
    "    return b\n"
   ]
  },
  {
   "cell_type": "markdown",
   "id": "1a5b06e4",
   "metadata": {},
   "source": [
    "### 杨辉三角\n",
    "\n",
    "给定一个非负整数 numRows，生成「杨辉三角」的前 numRows 行。\n",
    "\n",
    "在「杨辉三角」中，每个数是它左上方和右上方的数的和。"
   ]
  },
  {
   "cell_type": "code",
   "execution_count": 5,
   "id": "2a291d46",
   "metadata": {},
   "outputs": [
    {
     "data": {
      "text/plain": [
       "[[1]]"
      ]
     },
     "execution_count": 5,
     "metadata": {},
     "output_type": "execute_result"
    }
   ],
   "source": [
    "numRows = 1\n",
    "\n",
    "def generate(numRows):\n",
    "    res = []\n",
    "    for i in range(numRows):\n",
    "        row = [1]*(i+1)\n",
    "        for j in range(1,i):\n",
    "            row[j] = res[i-1][j-1] +res[i-1][j]\n",
    "        res.append(row)\n",
    "    return res\n",
    "\n",
    "generate(numRows)"
   ]
  },
  {
   "cell_type": "markdown",
   "id": "3a8d7168",
   "metadata": {},
   "source": [
    "### 打家劫舍\n",
    "\n",
    "你是一个专业的小偷，计划偷窃沿街的房屋。每间房内都藏有一定的现金，影响你偷窃的唯一制约因素就是相邻的房屋装有相互连通的防盗系统，如果两间相邻的房屋在同一晚上被小偷闯入，系统会自动报警。\n",
    "\n",
    "给定一个代表每个房屋存放金额的非负整数数组，计算你 不触动警报装置的情况下 ，一夜之内能够偷窃到的最高金额。"
   ]
  },
  {
   "cell_type": "markdown",
   "id": "04d72137",
   "metadata": {},
   "source": [
    "- 偷窃第 k 间房屋，那么就不能偷窃第 k−1 间房屋，偷窃总金额为前 k−2 间房屋的最高总金额与第 k 间房屋的金额之和。\n",
    "\n",
    "- 不偷窃第 k 间房屋，偷窃总金额为前 k−1 间房屋的最高总金额。\n",
    "\n",
    "- dp[i]=max(dp[i−2]+nums[i],dp[i−1])"
   ]
  },
  {
   "cell_type": "code",
   "execution_count": 9,
   "id": "c92dd873",
   "metadata": {},
   "outputs": [
    {
     "data": {
      "text/plain": [
       "12"
      ]
     },
     "execution_count": 9,
     "metadata": {},
     "output_type": "execute_result"
    }
   ],
   "source": [
    "nums = [2,7,9,3,1]\n",
    "\n",
    "def rob(nums):\n",
    "    prev2 = 0  # 相当于 dp[i-2]\n",
    "    prev1 = 0  # 相当于 dp[i-1]\n",
    "    for x in nums:\n",
    "        cur = max(prev1 ,prev2+x)\n",
    "        prev2,prev1 = prev1,cur\n",
    "    return prev1\n",
    "\n",
    "rob(nums)\n"
   ]
  },
  {
   "cell_type": "markdown",
   "id": "c34f6ba2",
   "metadata": {},
   "source": [
    "### 完全平方数\n",
    "\n",
    "给你一个整数 n ，返回 和为 n 的完全平方数的最少数量 。\n",
    "\n",
    "完全平方数 是一个整数，其值等于另一个整数的平方；换句话说，其值等于一个整数自乘的积。例如，1、4、9 和 16 都是完全平方数，而 3 和 11 不是。\n",
    "\n",
    "- 任何正整数都可表示成 4 个以内的平方数和（拉格朗日四平方定理）\n",
    "\n",
    "- 一个正整数 $n$ 可以表示为三个平方数的和，当且仅当 $n \\neq 4^a \\cdot (8b+7)$。\n",
    "\n",
    "- 数论判定（最快） 和 动态规划（通用）"
   ]
  },
  {
   "cell_type": "code",
   "execution_count": 30,
   "id": "6944549c",
   "metadata": {},
   "outputs": [
    {
     "name": "stdout",
     "output_type": "stream",
     "text": [
      "[0, 1, inf, inf, inf, inf, inf, inf, inf, inf, inf, inf, inf, inf]\n",
      "[0, 1, 2, inf, inf, inf, inf, inf, inf, inf, inf, inf, inf, inf]\n",
      "[0, 1, 2, 3, inf, inf, inf, inf, inf, inf, inf, inf, inf, inf]\n",
      "[0, 1, 2, 3, 4, inf, inf, inf, inf, inf, inf, inf, inf, inf]\n",
      "[0, 1, 2, 3, 1, inf, inf, inf, inf, inf, inf, inf, inf, inf]\n",
      "[0, 1, 2, 3, 1, 2, inf, inf, inf, inf, inf, inf, inf, inf]\n",
      "[0, 1, 2, 3, 1, 2, inf, inf, inf, inf, inf, inf, inf, inf]\n",
      "[0, 1, 2, 3, 1, 2, 3, inf, inf, inf, inf, inf, inf, inf]\n",
      "[0, 1, 2, 3, 1, 2, 3, inf, inf, inf, inf, inf, inf, inf]\n",
      "[0, 1, 2, 3, 1, 2, 3, 4, inf, inf, inf, inf, inf, inf]\n",
      "[0, 1, 2, 3, 1, 2, 3, 4, inf, inf, inf, inf, inf, inf]\n",
      "[0, 1, 2, 3, 1, 2, 3, 4, 5, inf, inf, inf, inf, inf]\n",
      "[0, 1, 2, 3, 1, 2, 3, 4, 2, inf, inf, inf, inf, inf]\n",
      "[0, 1, 2, 3, 1, 2, 3, 4, 2, 3, inf, inf, inf, inf]\n",
      "[0, 1, 2, 3, 1, 2, 3, 4, 2, 3, inf, inf, inf, inf]\n",
      "[0, 1, 2, 3, 1, 2, 3, 4, 2, 1, inf, inf, inf, inf]\n",
      "[0, 1, 2, 3, 1, 2, 3, 4, 2, 1, 2, inf, inf, inf]\n",
      "[0, 1, 2, 3, 1, 2, 3, 4, 2, 1, 2, inf, inf, inf]\n",
      "[0, 1, 2, 3, 1, 2, 3, 4, 2, 1, 2, inf, inf, inf]\n",
      "[0, 1, 2, 3, 1, 2, 3, 4, 2, 1, 2, 3, inf, inf]\n",
      "[0, 1, 2, 3, 1, 2, 3, 4, 2, 1, 2, 3, inf, inf]\n",
      "[0, 1, 2, 3, 1, 2, 3, 4, 2, 1, 2, 3, inf, inf]\n",
      "[0, 1, 2, 3, 1, 2, 3, 4, 2, 1, 2, 3, 4, inf]\n",
      "[0, 1, 2, 3, 1, 2, 3, 4, 2, 1, 2, 3, 3, inf]\n",
      "[0, 1, 2, 3, 1, 2, 3, 4, 2, 1, 2, 3, 3, inf]\n",
      "[0, 1, 2, 3, 1, 2, 3, 4, 2, 1, 2, 3, 3, 4]\n",
      "[0, 1, 2, 3, 1, 2, 3, 4, 2, 1, 2, 3, 3, 2]\n",
      "[0, 1, 2, 3, 1, 2, 3, 4, 2, 1, 2, 3, 3, 2]\n"
     ]
    },
    {
     "data": {
      "text/plain": [
       "2"
      ]
     },
     "execution_count": 30,
     "metadata": {},
     "output_type": "execute_result"
    }
   ],
   "source": [
    "n = 13\n",
    "\n",
    "# 动态规划\n",
    "def numSquare(n):\n",
    "    squares = []\n",
    "    i = 1\n",
    "    while i*i<=n:\n",
    "        squares.append(i*i)\n",
    "        i += 1\n",
    "    \n",
    "    dp = [0]+ [float('inf')]*n\n",
    "    for x in range(1,n+1):\n",
    "        for s in squares:\n",
    "            if s>x:break\n",
    "            dp[x] = min(dp[x],dp[x-s]+1)\n",
    "            print(dp)\n",
    "    return dp[n]\n",
    "\n",
    "   \n",
    "        \n",
    "numSquare(n)"
   ]
  },
  {
   "cell_type": "code",
   "execution_count": 41,
   "id": "1400e112",
   "metadata": {},
   "outputs": [
    {
     "name": "stdout",
     "output_type": "stream",
     "text": [
      "2\n"
     ]
    },
    {
     "data": {
      "text/plain": [
       "2"
      ]
     },
     "execution_count": 41,
     "metadata": {},
     "output_type": "execute_result"
    }
   ],
   "source": [
    "n = 32\n",
    "def numSquares(n):\n",
    "    # 判断是否是平方数\n",
    "    def is_square(x):\n",
    "        r = int(x ** 0.5)   # 用 **0.5 取平方根\n",
    "        return r * r == x\n",
    "\n",
    "    if is_square(n):   # 1) 本身是平方\n",
    "        return 1\n",
    "\n",
    "    while n % 4 == 0:  # 2) 去掉 4 的因子\n",
    "        n //= 4\n",
    "\n",
    "    if n % 8 == 7:     # 3) 形如 8b+7\n",
    "        return 4\n",
    "    \n",
    "    print(n)\n",
    "\n",
    "    # 4) 判断是否是两个平方的和\n",
    "    r = int(n ** 0.5)\n",
    "    for i in range(1, r + 1):\n",
    "        if is_square(n - i * i):\n",
    "            return 2\n",
    "\n",
    "    # 5) 其余为 3\n",
    "    return 3\n",
    "\n",
    "numSquares(n)"
   ]
  },
  {
   "cell_type": "markdown",
   "id": "9d5e157f",
   "metadata": {},
   "source": [
    "### 零钱兑换\n",
    "\n",
    "给你一个整数数组 coins ，表示不同面额的硬币；以及一个整数 amount ，表示总金额。\n",
    "\n",
    "计算并返回可以凑成总金额所需的 最少的硬币个数 。如果没有任何一种硬币组合能组成总金额，返回 -1 。\n",
    "\n",
    "你可以认为每种硬币的数量是无限的。"
   ]
  },
  {
   "cell_type": "code",
   "execution_count": 34,
   "id": "4dcad235",
   "metadata": {},
   "outputs": [
    {
     "data": {
      "text/plain": [
       "-1"
      ]
     },
     "execution_count": 34,
     "metadata": {},
     "output_type": "execute_result"
    }
   ],
   "source": [
    "coins = [2147483647]\n",
    "amount = 2\n",
    "\n",
    "def coin(coins, amount):\n",
    "    dp = [0] + [float('inf')]*amount\n",
    "        \n",
    "    for x in range(1, amount+1):\n",
    "        for coin in coins:\n",
    "            # if coin > x :break    #coins排序后，才可以这样写，不然会跳过部分结果\n",
    "            if x >= coin :\n",
    "                dp[x] = min(dp[x-coin] +1,dp[x])\n",
    "    return dp[amount] if dp[amount] != float('inf') else -1\n",
    "            \n",
    "coin(coins,amount)\n"
   ]
  },
  {
   "cell_type": "markdown",
   "id": "9e3f5010",
   "metadata": {},
   "source": [
    "### 单词拆分\n",
    "\n",
    "给你一个字符串 s 和一个字符串列表 wordDict 作为字典。如果可以利用字典中出现的一个或多个单词拼接出 s 则返回 true。\n",
    "\n",
    "注意：不要求字典中出现的单词全部都使用，并且字典中的单词可以重复使用。"
   ]
  },
  {
   "cell_type": "code",
   "execution_count": null,
   "id": "9328e9fe",
   "metadata": {},
   "outputs": [
    {
     "data": {
      "text/plain": [
       "False"
      ]
     },
     "execution_count": 4,
     "metadata": {},
     "output_type": "execute_result"
    }
   ],
   "source": [
    "s = \"applepenapple\"\n",
    "wordDict = [\"apple\",\"pen\"]\n",
    "\n",
    "# 贪心算法，有很大问题\n",
    "def work(s,wordDict):\n",
    "    while len(s) != 0:\n",
    "        matched = False   # 本轮是否找到匹配前缀\n",
    "        for word in wordDict:\n",
    "            if word == s[0:len(word)]:\n",
    "                s = s[len(word):]\n",
    "                matched = True\n",
    "                break\n",
    "        if not matched:   # 没有任何单词匹配 → 失败 matched!!\n",
    "            return False\n",
    "    return True\n",
    "                    \n",
    "\n",
    "work(s,wordDict)"
   ]
  },
  {
   "cell_type": "code",
   "execution_count": null,
   "id": "fc7434b6",
   "metadata": {},
   "outputs": [],
   "source": [
    "def wordBreak(s, wordDict)\n",
    "    word_set = set(wordDict)          # O(1) 查询 加速查询字串是否在字典中\n",
    "    max_len = max((len(w) for w in word_set), default=0)  # 剪枝：最长单词长度\n",
    "    n = len(s)\n",
    "\n",
    "    dp = [False]*(n+1)     # dp[i]：表示 s 的前 i 个字符（s[:i]）是否能用字典拼出\n",
    "    dp[0] = True   # 空串可被“拼出”\n",
    "\n",
    "    for i in range(1, n+1):\n",
    "        # 只需回看至多 max_len 个字符，避免无谓切分\n",
    "        for j in range(max(0, i - max_len), i):\n",
    "            if dp[j] and s[j:i] in word_set:\n",
    "                dp[i] = True\n",
    "                break\n",
    "    return dp[n]"
   ]
  },
  {
   "cell_type": "markdown",
   "id": "90ea763f",
   "metadata": {},
   "source": [
    "### 最长递增子序列\n",
    "\n",
    "给你一个整数数组 nums ，找到其中最长严格递增子序列的长度。\n",
    "\n",
    "子序列 是由数组派生而来的序列，删除（或不删除）数组中的元素而不改变其余元素的顺序。例如，[3,6,2,7] 是数组 [0,3,1,6,2,2,7] 的子序列。"
   ]
  },
  {
   "cell_type": "code",
   "execution_count": 41,
   "id": "2ead16a8",
   "metadata": {},
   "outputs": [
    {
     "name": "stdout",
     "output_type": "stream",
     "text": [
      "deque([4, 10])\n",
      "deque([4, 10])\n",
      "deque([3, 10])\n",
      "deque([3, 8])\n",
      "deque([3, 8, 9])\n"
     ]
    },
    {
     "data": {
      "text/plain": [
       "3"
      ]
     },
     "execution_count": 41,
     "metadata": {},
     "output_type": "execute_result"
    }
   ],
   "source": [
    "from collections import deque\n",
    "\n",
    "nums = [4,10,4,3,8,9]\n",
    "\n",
    "def lenmax(nums):\n",
    "    n = len(nums)\n",
    "\n",
    "    es = deque()\n",
    "    es.append(nums[0])\n",
    "\n",
    "    for i in range(1,n):\n",
    "        if nums[i] > nums[i-1] and nums[i] > es[-1]:\n",
    "            es.append(nums[i])\n",
    "        else :\n",
    "            for j in range(len(es)):\n",
    "                if nums[i] == es[j]:\n",
    "                    break\n",
    "                elif nums[i] < es[j] :\n",
    "                    es[j] = nums[i]\n",
    "                    break\n",
    "        print(es)\n",
    "\n",
    "    return len(es)\n",
    "\n",
    "lenmax(nums)"
   ]
  },
  {
   "cell_type": "code",
   "execution_count": 3,
   "id": "3740e25a",
   "metadata": {},
   "outputs": [
    {
     "name": "stdout",
     "output_type": "stream",
     "text": [
      "[1, 2, 3, 1, 2, 3]\n"
     ]
    },
    {
     "data": {
      "text/plain": [
       "3"
      ]
     },
     "execution_count": 3,
     "metadata": {},
     "output_type": "execute_result"
    }
   ],
   "source": [
    "# 动态规划\n",
    "# dp[i] = 1 + max(dp[j])，其中 j<i 且 nums[j] < nums[i]；若没有这样的 j，则 dp[i]=1\n",
    "\n",
    "nums = [4,5,6,1,2,4]\n",
    "def lengthOfLIS(nums):\n",
    "        n = len(nums)\n",
    "        if n == 0: \n",
    "            return 0\n",
    "        dp = [1]*n\n",
    "        for i in range(n):\n",
    "            for j in range(i):\n",
    "                if nums[j] < nums[i]:\n",
    "                    dp[i] = max(dp[i], dp[j]+1)\n",
    "        print(dp)\n",
    "        return max(dp)\n",
    "\n",
    "lengthOfLIS(nums)"
   ]
  },
  {
   "cell_type": "markdown",
   "id": "f791c2b3",
   "metadata": {},
   "source": [
    "### 152. 乘积最大子数组\n",
    "\n",
    "给你一个整数数组 nums ，请你找出数组中乘积最大的非空连续 子数组（该子数组中至少包含一个数字），并返回该子数组所对应的乘积。\n",
    "\n",
    "测试用例的答案是一个 32-位 整数。"
   ]
  },
  {
   "cell_type": "code",
   "execution_count": null,
   "id": "0aece16c",
   "metadata": {},
   "outputs": [],
   "source": [
    "nums = [2,3,-2,4]\n",
    "\n",
    "def maxProduct(nums):\n",
    "    max_here = min_here = ans = nums[0]\n",
    "    for x in nums[1:]:\n",
    "        if x < 0:\n",
    "            max_here, min_here = min_here, max_here\n",
    "        max_here = max(x, max_here * x)\n",
    "        min_here = min(x, min_here * x)\n",
    "        ans = max(ans, max_here)\n",
    "    return ans\n"
   ]
  },
  {
   "cell_type": "markdown",
   "id": "6aa3968b",
   "metadata": {},
   "source": [
    "### 分割等和子集\n",
    "\n",
    "给你一个 只包含正整数 的 非空 数组 nums 。请你判断是否可以将这个数组分割成两个子集，使得两个子集的元素和相等。"
   ]
  },
  {
   "cell_type": "code",
   "execution_count": 2,
   "id": "55b2450b",
   "metadata": {},
   "outputs": [
    {
     "data": {
      "text/plain": [
       "True"
      ]
     },
     "execution_count": 2,
     "metadata": {},
     "output_type": "execute_result"
    }
   ],
   "source": [
    "nums = [1,5,11,5]\n",
    "\n",
    "def can(nums):\n",
    "    s = sum(nums)\n",
    "    if s % 2 == 1:\n",
    "        return False\n",
    "    target = s // 2\n",
    "    if max(nums) > target:\n",
    "        return False\n",
    "    \n",
    "    dp = [False]*(target + 1)\n",
    "    dp[0] = True\n",
    "    for num in nums:\n",
    "        for j in range(target, num - 1, -1):\n",
    "            dp[j] = dp[j] or dp[j-num]\n",
    "        if dp[target]:\n",
    "            return True\n",
    "    return dp[target]\n",
    "    \n",
    "\n",
    "can(nums)"
   ]
  },
  {
   "cell_type": "markdown",
   "id": "57ef5248",
   "metadata": {},
   "source": [
    "### 最长有效括号\n",
    "\n",
    "给你一个只包含 '(' 和 ')' 的字符串，找出最长有效（格式正确且连续）括号 子串 的长度。\n",
    "\n",
    "左右括号匹配，即每个左括号都有对应的右括号将其闭合的字符串是格式正确的，比如 \"(()())\"。"
   ]
  },
  {
   "cell_type": "code",
   "execution_count": 4,
   "id": "25b5e71a",
   "metadata": {},
   "outputs": [
    {
     "name": "stdout",
     "output_type": "stream",
     "text": [
      "6\n",
      ")\n",
      "(\n",
      ")\n",
      "(\n",
      ")\n",
      ")\n"
     ]
    }
   ],
   "source": [
    "s = \")()())\"\n",
    "\n",
    "print(len(s))\n",
    "for i in s:\n",
    "    print(i)"
   ]
  },
  {
   "cell_type": "code",
   "execution_count": null,
   "id": "9a9eda2e",
   "metadata": {},
   "outputs": [
    {
     "name": "stdout",
     "output_type": "stream",
     "text": [
      "[0, 0]\n",
      "0\n"
     ]
    },
    {
     "data": {
      "text/plain": [
       "0"
      ]
     },
     "execution_count": 44,
     "metadata": {},
     "output_type": "execute_result"
    }
   ],
   "source": [
    "s = \")()())\"\n",
    "s1 = \")(\"\n",
    "\n",
    "def longest(s):\n",
    "    if s == \"\":\n",
    "        return 0\n",
    "\n",
    "    dp = [0]*len(s)\n",
    "    max_len = 0\n",
    "    \n",
    "    for i in range(1, len(s)):\n",
    "        if s[i] == ')':\n",
    "            if s[i-1] == '(':\n",
    "                dp[i] = (dp[i - 2] if i >= 2 else 0) + 2\n",
    "            elif s[i - 1] == ')'  and i - dp[i - 1] - 1 >= 0 and s[i-1-dp[i-1]] =='(':\n",
    "                dp[i] = dp[i - 1] + 2\n",
    "                if i - dp[i - 1] - 2 >= 0:\n",
    "                    dp[i] += dp[i - dp[i - 1] - 2]\n",
    "    return max(dp[:])\n",
    "\n",
    "# longest(s)\n",
    "longest(s1)\n",
    "\n"
   ]
  },
  {
   "cell_type": "code",
   "execution_count": 41,
   "id": "6c01f3a7",
   "metadata": {},
   "outputs": [
    {
     "data": {
      "text/plain": [
       "0"
      ]
     },
     "execution_count": 41,
     "metadata": {},
     "output_type": "execute_result"
    }
   ],
   "source": [
    "def longestValidParentheses(s):\n",
    "    n = len(s)\n",
    "    dp = [0] * n  # dp[i] 表示以下标 i 结尾的最长有效括号子串长度\n",
    "    max_len = 0\n",
    "\n",
    "    for i in range(1, n):\n",
    "        if s[i] == ')':  # 只有右括号才可能闭合\n",
    "            if s[i - 1] == '(':  \n",
    "                # 情况 1: 形如 \"…()\"\n",
    "                dp[i] = (dp[i - 2] if i >= 2 else 0) + 2\n",
    "            elif s[i - 1] == ')' and i - dp[i - 1] - 1 >= 0 and s[i - dp[i - 1] - 1] == '(':\n",
    "                # 情况 2: 形如 \"…))\"\n",
    "                dp[i] = dp[i - 1] + 2\n",
    "                if i - dp[i - 1] - 2 >= 0:\n",
    "                    dp[i] += dp[i - dp[i - 1] - 2]\n",
    "            max_len = max(max_len, dp[i])\n",
    "\n",
    "    return max_len\n",
    "\n",
    "\n",
    "longestValidParentheses(s1)"
   ]
  }
 ],
 "metadata": {
  "kernelspec": {
   "display_name": "leetcode",
   "language": "python",
   "name": "python3"
  },
  "language_info": {
   "codemirror_mode": {
    "name": "ipython",
    "version": 3
   },
   "file_extension": ".py",
   "mimetype": "text/x-python",
   "name": "python",
   "nbconvert_exporter": "python",
   "pygments_lexer": "ipython3",
   "version": "3.10.6"
  }
 },
 "nbformat": 4,
 "nbformat_minor": 5
}
