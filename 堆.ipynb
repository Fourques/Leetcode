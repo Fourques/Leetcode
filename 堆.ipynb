{
 "cells": [
  {
   "cell_type": "markdown",
   "id": "c39d925d",
   "metadata": {},
   "source": [
    "### 数组中的第K个最大元素\n",
    "\n",
    "给定整数数组 nums 和整数 k，请返回数组中第 k 个最大的元素。\n",
    "\n",
    "请注意，你需要找的是数组排序后的第 k 个最大的元素，而不是第 k 个不同的元素。\n",
    "\n",
    "你必须设计并实现时间复杂度为 O(n) 的算法解决此问题。"
   ]
  },
  {
   "cell_type": "code",
   "execution_count": 15,
   "id": "2d2ee2f2",
   "metadata": {},
   "outputs": [
    {
     "data": {
      "text/plain": [
       "5"
      ]
     },
     "execution_count": 15,
     "metadata": {},
     "output_type": "execute_result"
    }
   ],
   "source": [
    "nums = [3,2,1,5,6,4]\n",
    "k = 2\n",
    "\n",
    "import heapq\n",
    "\n",
    "\n",
    "def findKthLargest(nums, k):\n",
    "    return heapq.nlargest(k, nums)[-1]\n",
    "\n",
    "findKthLargest(nums, k)"
   ]
  },
  {
   "cell_type": "markdown",
   "id": "90c764ee",
   "metadata": {},
   "source": [
    "### 前 K 个高频元素\n",
    "\n",
    "给你一个整数数组 nums 和一个整数 k ，请你返回其中出现频率前 k 高的元素。你可以按 任意顺序 返回答案。"
   ]
  },
  {
   "cell_type": "code",
   "execution_count": 12,
   "id": "461228ba",
   "metadata": {},
   "outputs": [
    {
     "name": "stdout",
     "output_type": "stream",
     "text": [
      "dict_items([(2, 4), (1, 3), (3, 4)])\n",
      "[(4, 2)]\n",
      "[(3, 1), (4, 2)]\n"
     ]
    },
    {
     "data": {
      "text/plain": [
       "[2, 3]"
      ]
     },
     "execution_count": 12,
     "metadata": {},
     "output_type": "execute_result"
    }
   ],
   "source": [
    "from collections import Counter\n",
    "import heapq\n",
    "\n",
    "nums = [2,1,2,1,2,3,1,3,2,3,3]\n",
    "k = 2\n",
    "def topKFrequent_heap(nums, k):\n",
    "    cnt = Counter(nums) \n",
    "    print(cnt.items())                # O(n)\n",
    "    h = []                              # (freq, num)\n",
    "    for num, f in cnt.items():          # O(m) 次，m 为不同元素个数\n",
    "        if len(h) < k:\n",
    "            heapq.heappush(h, (f, num))\n",
    "            print(h)\n",
    "        else:\n",
    "            if f > h[0][0]:\n",
    "                heapq.heapreplace(h, (f, num))\n",
    "    # 题目允许任意顺序返回；如需按频次降序，可再排序\n",
    "    return [num for _, num in h]\n",
    "\n",
    "topKFrequent_heap(nums,k)\n"
   ]
  },
  {
   "cell_type": "markdown",
   "id": "61fbbc59",
   "metadata": {},
   "source": [
    "### 295. 数据流的中位数\n",
    "\n",
    "中位数是有序整数列表中的中间值。如果列表的大小是偶数，则没有中间值，中位数是两个中间值的平均值。\n",
    "\n",
    "- 例如 arr = [2,3,4] 的中位数是 3 。\n",
    "\n",
    "- 例如 arr = [2,3] 的中位数是 (2 + 3) / 2 = 2.5 。\n",
    "\n",
    "实现 MedianFinder 类:\n",
    "\n",
    "- MedianFinder() 初始化 MedianFinder 对象。\n",
    "\n",
    "- void addNum(int num) 将数据流中的整数 num 添加到数据结构中。\n",
    "\n",
    "- double findMedian() 返回到目前为止所有元素的中位数。与实际答案相差 10-5 以内的答案将被接受。"
   ]
  },
  {
   "cell_type": "code",
   "execution_count": 17,
   "id": "d38e33a0",
   "metadata": {},
   "outputs": [
    {
     "name": "stdout",
     "output_type": "stream",
     "text": [
      "[-1]\n",
      "[-2, -1]\n",
      "[-3, -1, -2]\n",
      "[-4, -3, -2, -1]\n",
      "[-5, -4, -2, -1, -3]\n"
     ]
    }
   ],
   "source": [
    "import heapq\n",
    "arr =[]\n",
    "heapq.heappush(arr, -1)\n",
    "print(arr)\n",
    "heapq.heappush(arr, -2)\n",
    "print(arr)\n",
    "heapq.heappush(arr, -3)\n",
    "print(arr)\n",
    "heapq.heappush(arr, -4)\n",
    "print(arr)\n",
    "heapq.heappush(arr, -5)\n",
    "print(arr)"
   ]
  },
  {
   "cell_type": "code",
   "execution_count": 27,
   "id": "44bbb616",
   "metadata": {},
   "outputs": [
    {
     "data": {
      "text/plain": [
       "-3"
      ]
     },
     "execution_count": 27,
     "metadata": {},
     "output_type": "execute_result"
    }
   ],
   "source": [
    "import heapq\n",
    "\n",
    "class MedianFinder():\n",
    "    def __init__(self):\n",
    "        self.arr = []\n",
    "        self.arr_copy = []\n",
    "\n",
    "    def addNum(self, num: int) -> None:\n",
    "        heapq.heappush(self.arr, num)\n",
    "\n",
    "    def findMedian(self) -> float:\n",
    "        n = len(self.arr)\n",
    "        self.arr_copy = sorted(self.arr)\n",
    "        q = n//2\n",
    "        r = n%2\n",
    "\n",
    "        if r:\n",
    "            return self.arr_copy[q]\n",
    "        else:\n",
    "            return (self.arr_copy[q-1]+self.arr_copy[q])/2\n",
    "        \n",
    "\n",
    "\n",
    "med = MedianFinder()\n",
    "med.addNum(-1)\n",
    "med.findMedian()\n",
    "med.addNum(-2)\n",
    "med.findMedian()\n",
    "med.addNum(-3)\n",
    "med.findMedian()\n",
    "med.addNum(-4)\n",
    "med.findMedian()\n",
    "med.addNum(-5)\n",
    "med.findMedian()"
   ]
  },
  {
   "cell_type": "code",
   "execution_count": null,
   "id": "7699a468",
   "metadata": {},
   "outputs": [],
   "source": [
    "# 双堆\n",
    "\n"
   ]
  }
 ],
 "metadata": {
  "kernelspec": {
   "display_name": "LeetCode",
   "language": "python",
   "name": "python3"
  },
  "language_info": {
   "codemirror_mode": {
    "name": "ipython",
    "version": 3
   },
   "file_extension": ".py",
   "mimetype": "text/x-python",
   "name": "python",
   "nbconvert_exporter": "python",
   "pygments_lexer": "ipython3",
   "version": "3.13.5"
  }
 },
 "nbformat": 4,
 "nbformat_minor": 5
}
