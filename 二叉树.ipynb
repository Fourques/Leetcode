{
 "cells": [
  {
   "cell_type": "markdown",
   "id": "6da8ccee",
   "metadata": {},
   "source": [
    "### 二叉树的中序遍历\n",
    "\n",
    "给定一个二叉树的根节点 root ，返回 它的 中序 遍历 。"
   ]
  },
  {
   "cell_type": "code",
   "execution_count": 18,
   "id": "34985a48",
   "metadata": {},
   "outputs": [],
   "source": [
    "class TreeNode:\n",
    "    def __init__(self, val=0, left=None, right=None):\n",
    "        self.val = val\n",
    "        self.left = left\n",
    "        self.right = right\n",
    "\n",
    "    def __repr__(self):\n",
    "        return f\"TreeNode({self.val})\""
   ]
  },
  {
   "cell_type": "code",
   "execution_count": 12,
   "id": "96db50b7",
   "metadata": {},
   "outputs": [],
   "source": [
    "# 1. 递归写法\n",
    "def inorder_recursive(root):\n",
    "    res = []\n",
    "    def dfs(node):\n",
    "        if not node:\n",
    "            return\n",
    "        dfs(node.left)\n",
    "        res.append(node.val)   # 访问根\n",
    "        dfs(node.right)\n",
    "    dfs(root)\n",
    "    return res"
   ]
  },
  {
   "cell_type": "code",
   "execution_count": 20,
   "id": "d3479d99",
   "metadata": {},
   "outputs": [],
   "source": [
    "# 2. 迭代（栈）\n",
    "def inorder_iterative(root):\n",
    "    res, stack = [], []\n",
    "    cur = root\n",
    "    while cur or stack:\n",
    "        while cur:\n",
    "            stack.append(cur)\n",
    "            cur = cur.left\n",
    "        cur = stack.pop()\n",
    "        res.append(cur.val)\n",
    "        cur = cur.right\n",
    "    return res"
   ]
  },
  {
   "cell_type": "code",
   "execution_count": 21,
   "id": "3d81b6d8",
   "metadata": {},
   "outputs": [],
   "source": [
    "# 3. Morris 遍历（O(1)空间）\n",
    "def inorder_morris(root):\n",
    "    res = []\n",
    "    cur = root\n",
    "    while cur:\n",
    "        if not cur.left:\n",
    "            res.append(cur.val)\n",
    "            cur = cur.right\n",
    "        else:\n",
    "            pre = cur.left\n",
    "            while pre.right and pre.right is not cur:\n",
    "                pre = pre.right\n",
    "            if not pre.right:\n",
    "                pre.right = cur\n",
    "                cur = cur.left\n",
    "            else:\n",
    "                pre.right = None\n",
    "                res.append(cur.val)\n",
    "                cur = cur.right\n",
    "    return res"
   ]
  },
  {
   "cell_type": "code",
   "execution_count": 22,
   "id": "29f91217",
   "metadata": {},
   "outputs": [
    {
     "name": "stdout",
     "output_type": "stream",
     "text": [
      "递归中序遍历: [1, 2, 3, 4, 5, 6, 7]\n",
      "迭代中序遍历: [1, 2, 3, 4, 5, 6, 7]\n",
      "Morris中序遍历: [1, 2, 3, 4, 5, 6, 7]\n"
     ]
    }
   ],
   "source": [
    "root = TreeNode(4,\n",
    "    left=TreeNode(2, TreeNode(1), TreeNode(3)),\n",
    "    right=TreeNode(6, TreeNode(5), TreeNode(7))\n",
    ")\n",
    "\n",
    "# ---------- 测试三种遍历 ----------\n",
    "print(\"递归中序遍历:\", inorder_recursive(root))\n",
    "print(\"迭代中序遍历:\", inorder_iterative(root))\n",
    "print(\"Morris中序遍历:\", inorder_morris(root))"
   ]
  },
  {
   "cell_type": "markdown",
   "id": "bb08d4ed",
   "metadata": {},
   "source": [
    "104. 二叉树的最大深度\n",
    "\n",
    "给定一个二叉树 root ，返回其最大深度。\n",
    "\n",
    "二叉树的 最大深度 是指从根节点到最远叶子节点的最长路径上的节点数。"
   ]
  },
  {
   "cell_type": "code",
   "execution_count": 6,
   "id": "9e8aea48",
   "metadata": {},
   "outputs": [],
   "source": [
    "class TreeNode:\n",
    "    def __init__(self, val=0, left=None, right=None):\n",
    "        self.val = val\n",
    "        self.left = left\n",
    "        self.right = right\n",
    "\n",
    "root = TreeNode(3,\n",
    "                left = TreeNode(9),\n",
    "                right= TreeNode(20, TreeNode(15), TreeNode(7))\n",
    ")"
   ]
  },
  {
   "cell_type": "code",
   "execution_count": 8,
   "id": "175beb97",
   "metadata": {},
   "outputs": [
    {
     "name": "stdout",
     "output_type": "stream",
     "text": [
      "111\n"
     ]
    },
    {
     "data": {
      "text/plain": [
       "3"
      ]
     },
     "execution_count": 8,
     "metadata": {},
     "output_type": "execute_result"
    }
   ],
   "source": [
    "def maxDepth(root):\n",
    "    if not root:\n",
    "        return 0\n",
    "    return 1 + max(maxDepth(root.left), maxDepth(root.right))\n",
    "\n",
    "print(111)\n",
    "maxDepth(root)"
   ]
  },
  {
   "cell_type": "markdown",
   "id": "1c09ddba",
   "metadata": {},
   "source": [
    "### 翻转二叉树\n",
    "\n",
    "给你一棵二叉树的根节点 root ，翻转这棵二叉树，并返回其根节点。"
   ]
  },
  {
   "cell_type": "code",
   "execution_count": 14,
   "id": "da32bcf9",
   "metadata": {},
   "outputs": [],
   "source": [
    "class TreeNode:\n",
    "    def __init__(self, val=0, left=None, right=None):\n",
    "        self.val = val\n",
    "        self.left = left\n",
    "        self.right = right\n",
    "\n",
    "root = TreeNode(3,\n",
    "                left = TreeNode(9),\n",
    "                right= TreeNode(20, TreeNode(15), TreeNode(7))\n",
    ")"
   ]
  },
  {
   "cell_type": "code",
   "execution_count": 13,
   "id": "561f2468",
   "metadata": {},
   "outputs": [
    {
     "data": {
      "text/plain": [
       "[3, 20, 9, 7, 15]"
      ]
     },
     "execution_count": 13,
     "metadata": {},
     "output_type": "execute_result"
    }
   ],
   "source": [
    "def invertTree(root):\n",
    "    if root == [] :\n",
    "        return []\n",
    "\n",
    "    ans = []\n",
    "    ans.append(root.val)\n",
    "    def dfs(root):\n",
    "        if not root.left and not root.right:\n",
    "            return\n",
    "        if root.right:\n",
    "            ans.append(root.right.val)\n",
    "        if root.left:\n",
    "            ans.append(root.left.val)\n",
    "        dfs(root.right)\n",
    "        dfs(root.left)\n",
    "\n",
    "    dfs(root)\n",
    "    return ans\n",
    "\n",
    "invertTree(root)\n"
   ]
  },
  {
   "cell_type": "code",
   "execution_count": 19,
   "id": "b86b4544",
   "metadata": {},
   "outputs": [],
   "source": [
    "class TreeNode:\n",
    "    def __init__(self, val=0, left=None, right=None):\n",
    "        self.val = val\n",
    "        self.left = left\n",
    "        self.right = right\n",
    "\n",
    "root = TreeNode(1,\n",
    "                left = TreeNode(2),\n",
    ")"
   ]
  },
  {
   "cell_type": "code",
   "execution_count": 23,
   "id": "94d5a5f8",
   "metadata": {},
   "outputs": [
    {
     "data": {
      "text/plain": [
       "<__main__.TreeNode at 0x2478396ee90>"
      ]
     },
     "execution_count": 23,
     "metadata": {},
     "output_type": "execute_result"
    }
   ],
   "source": [
    "def invertTree(root):        \n",
    "    if not root:\n",
    "        return root\n",
    "\n",
    "    def dfs(root):\n",
    "        if not root:\n",
    "            return\n",
    "        root.right, root.left = root.left, root.right\n",
    "        dfs(root.right)\n",
    "        dfs(root.left)\n",
    "\n",
    "    dfs(root)\n",
    "    return root\n",
    "\n",
    "invertTree(root)"
   ]
  },
  {
   "cell_type": "markdown",
   "id": "2809dca6",
   "metadata": {},
   "source": [
    "### 对称二叉树\n",
    "\n",
    "给你一个二叉树的根节点 root ， 检查它是否轴对称。"
   ]
  },
  {
   "cell_type": "code",
   "execution_count": 1,
   "id": "a3702b98",
   "metadata": {},
   "outputs": [],
   "source": [
    "class TreeNode:\n",
    "    def __init__(self, val=0, left=None, right=None):\n",
    "        self.val = val\n",
    "        self.left = left\n",
    "        self.right = right\n",
    "\n",
    "root = TreeNode(3,\n",
    "                left = TreeNode(9),\n",
    "                right= TreeNode(20, TreeNode(15), TreeNode(7))\n",
    ")"
   ]
  },
  {
   "cell_type": "code",
   "execution_count": 2,
   "id": "56a3d991",
   "metadata": {},
   "outputs": [
    {
     "data": {
      "text/plain": [
       "False"
      ]
     },
     "execution_count": 2,
     "metadata": {},
     "output_type": "execute_result"
    }
   ],
   "source": [
    "def isSy(root):\n",
    "    if not root:\n",
    "        return True\n",
    "    \n",
    "    def mirror(a, b):\n",
    "        if not a and not b :\n",
    "            return True\n",
    "        if not a or not b:\n",
    "            return False\n",
    "        if a.val != b.val:\n",
    "            return False\n",
    "        return mirror(a.left, b.right) and mirror(a.right, b.left)\n",
    "    \n",
    "    return mirror(root.left, root.right)\n",
    "\n",
    "isSy(root)\n"
   ]
  },
  {
   "cell_type": "markdown",
   "id": "1bd26022",
   "metadata": {},
   "source": [
    "543. 二叉树的直径\n",
    "\n",
    "给你一棵二叉树的根节点，返回该树的 直径 。\n",
    "\n",
    "二叉树的 直径 是指树中任意两个节点之间最长路径的 长度 。这条路径可能经过也可能不经过根节点 root 。\n",
    "\n",
    "两节点之间路径的 长度 由它们之间边数表示。"
   ]
  },
  {
   "cell_type": "code",
   "execution_count": 2,
   "id": "163c02bc",
   "metadata": {},
   "outputs": [],
   "source": [
    "class TreeNode:\n",
    "    def __init__(self, val=0, left=None, right=None):\n",
    "        self.val = val\n",
    "        self.left = left\n",
    "        self.right = right\n",
    "\n",
    "root = TreeNode(1,\n",
    "                left = TreeNode(3),\n",
    "                right= TreeNode(2, TreeNode(4), TreeNode(5))\n",
    ")"
   ]
  },
  {
   "cell_type": "code",
   "execution_count": 4,
   "id": "0bc68668",
   "metadata": {},
   "outputs": [
    {
     "data": {
      "text/plain": [
       "3"
      ]
     },
     "execution_count": 4,
     "metadata": {},
     "output_type": "execute_result"
    }
   ],
   "source": [
    "def diama(root):\n",
    "\n",
    "    ans = 0\n",
    "    def dis(node):\n",
    "        nonlocal ans\n",
    "        if not node:\n",
    "            return 0\n",
    "        l = dis(node.left)\n",
    "        r = dis(node.right)\n",
    "\n",
    "        ans = max(l+r, ans)\n",
    "\n",
    "        return 1+max(l, r)\n",
    "    \n",
    "    dis(root)\n",
    "\n",
    "    return ans\n",
    "        \n",
    "diama(root)\n"
   ]
  },
  {
   "cell_type": "markdown",
   "id": "f0b6c656",
   "metadata": {},
   "source": [
    "### 二叉树的层序遍历\n",
    "\n",
    "给你二叉树的根节点 root ，返回其节点值的 层序遍历 。 （即逐层地，从左到右访问所有节点）。"
   ]
  },
  {
   "cell_type": "code",
   "execution_count": 6,
   "id": "0227522f",
   "metadata": {},
   "outputs": [
    {
     "data": {
      "text/plain": [
       "[[1], [3, 2], [4, 5]]"
      ]
     },
     "execution_count": 6,
     "metadata": {},
     "output_type": "execute_result"
    }
   ],
   "source": [
    "from collections import deque\n",
    "\n",
    "def levelOrder(root):\n",
    "    if not root:\n",
    "        return []\n",
    "    \n",
    "    ans = []\n",
    "    q = deque([root])\n",
    "\n",
    "    while q:\n",
    "        sz = len(q)\n",
    "        level = []\n",
    "        for _ in range(sz):\n",
    "            node = q.popleft()\n",
    "            level.append(node.val)\n",
    "\n",
    "            if node.left: q.append(node.left)\n",
    "            if node.right: q.append(node.right)\n",
    "\n",
    "        ans.append(level)\n",
    "    return ans\n",
    "\n",
    "    \n",
    "levelOrder(root)"
   ]
  },
  {
   "cell_type": "markdown",
   "id": "7208b442",
   "metadata": {},
   "source": [
    "### 将有序数组转换为二叉搜索树\n",
    "\n",
    "给你一个整数数组 nums ，其中元素已经按 升序 排列，请你将其转换为一棵 平衡 二叉搜索树。"
   ]
  },
  {
   "cell_type": "code",
   "execution_count": 7,
   "id": "69c400f3",
   "metadata": {},
   "outputs": [
    {
     "data": {
      "text/plain": [
       "<__main__.TreeNode at 0x28a8ee1fad0>"
      ]
     },
     "execution_count": 7,
     "metadata": {},
     "output_type": "execute_result"
    }
   ],
   "source": [
    "nums = [-10,-3,0,5,9]\n",
    "\n",
    "def sortedArrayToBST(nums):\n",
    "    def build(l, r):\n",
    "        if l > r:\n",
    "            return None\n",
    "        m = (l + r) // 2           # 或用 (l + r + 1) // 2 取右中位\n",
    "        root = TreeNode(nums[m])\n",
    "        root.left  = build(l, m - 1)\n",
    "        root.right = build(m + 1, r)\n",
    "        return root\n",
    "    return build(0, len(nums) - 1)\n",
    "\n",
    "sortedArrayToBST(nums)"
   ]
  },
  {
   "cell_type": "markdown",
   "id": "bb696297",
   "metadata": {},
   "source": [
    "### 验证二叉搜索树\n",
    "\n",
    "给你一个二叉树的根节点 root ，判断其是否是一个有效的二叉搜索树。\n",
    "\n",
    "有效 二叉搜索树定义如下：\n",
    "\n",
    "- 节点的左子树只包含 严格小于 当前节点的数。\n",
    "- 节点的右子树只包含 严格大于 当前节点的数。\n",
    "- 所有左子树和右子树自身必须也是二叉搜索树。"
   ]
  },
  {
   "cell_type": "code",
   "execution_count": 74,
   "id": "117a81d7",
   "metadata": {},
   "outputs": [],
   "source": [
    "class TreeNode:\n",
    "    def __init__(self, val=0, left=None, right=None):\n",
    "        self.val = val\n",
    "        self.left = left\n",
    "        self.right = right\n",
    "\n",
    "root = TreeNode(1,\n",
    "                left = TreeNode(2),\n",
    "                right= TreeNode(3)\n",
    ")"
   ]
  },
  {
   "cell_type": "code",
   "execution_count": null,
   "id": "151a953c",
   "metadata": {},
   "outputs": [
    {
     "data": {
      "text/plain": [
       "False"
      ]
     },
     "execution_count": 75,
     "metadata": {},
     "output_type": "execute_result"
    }
   ],
   "source": [
    "def isValid(root):\n",
    "\n",
    "    if not root:\n",
    "        return True\n",
    "    \n",
    "    def is_V(node):\n",
    "        l, r =1, 1\n",
    "        if not node:\n",
    "            return True\n",
    "        if node.left :\n",
    "            l = 0\n",
    "            if node.left.val < node.val:\n",
    "                l = 1\n",
    "            else:\n",
    "                return False\n",
    "        if node.right :\n",
    "            r = 0\n",
    "            if node.right.val > node.val:\n",
    "                r = 1\n",
    "            else:\n",
    "                return False\n",
    "            \n",
    "        if not min(l, r):\n",
    "            return False\n",
    "            \n",
    "        is_V(node.left)\n",
    "        is_V(node.right)\n",
    "\n",
    "        return True\n",
    "\n",
    "    return is_V(root)\n",
    "\n",
    "\n",
    "isValid(root)\n"
   ]
  },
  {
   "cell_type": "code",
   "execution_count": null,
   "id": "b95f716a",
   "metadata": {},
   "outputs": [],
   "source": [
    "def isValidBST(root):\n",
    "    def dfs(node, low, high):\n",
    "        if not node:\n",
    "            return True\n",
    "        if not (low < node.val < high):  \n",
    "            return False\n",
    "        return dfs(node.left, low, node.val) and dfs(node.right, node.val, high)\n",
    "    return dfs(root, float('-inf'), float('inf'))"
   ]
  },
  {
   "cell_type": "markdown",
   "id": "c2d36ac4",
   "metadata": {},
   "source": [
    "### 二叉搜索树中第 K 小的元素\n",
    "\n",
    "给定一个二叉搜索树的根节点 root ，和一个整数 k ，请你设计一个算法查找其中第 k 小的元素（从 1 开始计数）。"
   ]
  },
  {
   "cell_type": "code",
   "execution_count": 205,
   "id": "64d3a29b",
   "metadata": {},
   "outputs": [],
   "source": [
    "class TreeNode:\n",
    "    def __init__(self, val=0, left=None, right=None):\n",
    "        self.val = val\n",
    "        self.left = left\n",
    "        self.right = right\n",
    "\n",
    "root = TreeNode(3,\n",
    "                left = TreeNode(1,right=TreeNode(2)),\n",
    "                right= TreeNode(4)\n",
    ")"
   ]
  },
  {
   "cell_type": "code",
   "execution_count": 208,
   "id": "0aedd5c1",
   "metadata": {},
   "outputs": [
    {
     "data": {
      "text/plain": [
       "1"
      ]
     },
     "execution_count": 208,
     "metadata": {},
     "output_type": "execute_result"
    }
   ],
   "source": [
    "def kth(root, k):\n",
    "    res = []\n",
    "    def dfs(node):\n",
    "        if not node:\n",
    "            return \n",
    "        dfs(node.left)\n",
    "        res.append(node.val)\n",
    "        dfs(node.right)\n",
    "    dfs(root)\n",
    "    return res[k-1]\n",
    "\n",
    "\n",
    "kth(root, 1)"
   ]
  },
  {
   "cell_type": "markdown",
   "id": "59144f81",
   "metadata": {},
   "source": [
    "### 二叉树的右视图\n",
    "\n",
    "给定一个二叉树的 根节点 root，想象自己站在它的右侧，按照从顶部到底部的顺序，返回从右侧所能看到的节点值"
   ]
  },
  {
   "cell_type": "code",
   "execution_count": null,
   "id": "d847b391",
   "metadata": {},
   "outputs": [],
   "source": [
    "from collections import deque\n",
    "\n",
    "def levelOrder(root):\n",
    "    if not root:\n",
    "        return []\n",
    "    \n",
    "    ans = []\n",
    "    q = deque([root])\n",
    "\n",
    "    while q:\n",
    "        sz = len(q)\n",
    "        level = []\n",
    "        for _ in range(sz):\n",
    "            node = q.popleft()\n",
    "            level.append(node.val)\n",
    "\n",
    "            if node.right: q.append(node.right)\n",
    "            if node.left: q.append(node.left)\n",
    "\n",
    "        ans.append(level[0])\n",
    "    return ans"
   ]
  },
  {
   "cell_type": "code",
   "execution_count": null,
   "id": "8768a6fa",
   "metadata": {},
   "outputs": [],
   "source": [
    "class Solution:\n",
    "    def rightSideView(self, root: Optional[TreeNode]) -> list[int]:\n",
    "        ans = []\n",
    "        def dfs(node, depth):\n",
    "            if not node: return\n",
    "            if depth == len(ans):         # 第一次到这一层的是“最右边”\n",
    "                ans.append(node.val)\n",
    "            dfs(node.right, depth + 1)    # 先右后左\n",
    "            dfs(node.left,  depth + 1)\n",
    "        dfs(root, 0)\n",
    "        return ans"
   ]
  },
  {
   "cell_type": "markdown",
   "id": "e1680285",
   "metadata": {},
   "source": [
    "### 二叉树展开为链表\n",
    "\n",
    "给你二叉树的根结点 root ，请你将它展开为一个单链表：\n",
    "\n",
    "- 展开后的单链表应该同样使用 TreeNode ，其中 right 子指针指向链表中下一个结点，而左子指针始终为 null 。\n",
    "- 展开后的单链表应该与二叉树 先序遍历 顺序相同。"
   ]
  },
  {
   "cell_type": "code",
   "execution_count": null,
   "id": "911b2fc8",
   "metadata": {},
   "outputs": [],
   "source": [
    "class TreeNode:\n",
    "    def __init__(self, val=0, left=None, right=None):\n",
    "        self.val = val\n",
    "        self.left = left\n",
    "        self.right = right\n",
    "\n",
    "root = TreeNode(3,\n",
    "                left = TreeNode(1,right=TreeNode(2)),\n",
    "                right= TreeNode(4)\n",
    ")"
   ]
  },
  {
   "cell_type": "code",
   "execution_count": 209,
   "id": "21572b2f",
   "metadata": {},
   "outputs": [],
   "source": [
    "def flatten(root):\n",
    "    prev = None\n",
    "    def dfs(node):\n",
    "        nonlocal prev\n",
    "        if not node:\n",
    "            return\n",
    "        dfs(node.right)\n",
    "        dfs(node.left)\n",
    "        node.right = prev\n",
    "        node.left = None\n",
    "        prev = node\n",
    "    dfs(root)\n",
    "    "
   ]
  },
  {
   "cell_type": "markdown",
   "id": "69d79051",
   "metadata": {},
   "source": [
    "### 从前序与中序遍历序列构造二叉树\n",
    "\n",
    "给定两个整数数组 preorder 和 inorder ，其中 preorder 是二叉树的先序遍历， inorder 是同一棵树的中序遍历，请构造二叉树并返回其根节点。"
   ]
  },
  {
   "cell_type": "code",
   "execution_count": null,
   "id": "f1a70248",
   "metadata": {},
   "outputs": [
    {
     "data": {
      "text/plain": [
       "<__main__.TreeNode at 0x1f9728b50f0>"
      ]
     },
     "execution_count": 214,
     "metadata": {},
     "output_type": "execute_result"
    }
   ],
   "source": [
    "preorder = [3,9,20,15,7]\n",
    "inorder = [9,3,15,20,7]\n",
    "\n",
    "def buildTree(preorder, inorder):\n",
    "    if not preorder:\n",
    "        return None\n",
    "    \n",
    "    pos = {v: i for i,v in enumerate(inorder)}\n",
    "    \n",
    "    def build(preL,preR,inL,inR):\n",
    "        if preL>preR:\n",
    "            return None\n",
    "        root_val = preorder[preL]\n",
    "        root = TreeNode(root_val)\n",
    "        k = pos[root_val]              # 根在中序中的下标\n",
    "        left_size = k - inL            # 左子树大小\n",
    "        # 递归构建左右子树（严格用索引，避免 O(n^2) 切片）\n",
    "        root.left  = build(preL + 1, preL + left_size, inL, k - 1)\n",
    "        root.right = build(preL + left_size + 1, preR, k + 1, inR)\n",
    "        return root\n",
    "    \n",
    "    n = len(preorder)\n",
    "    return build(0, n - 1, 0, n - 1)\n",
    "\n",
    "\n",
    "\n",
    "\n",
    "\n",
    "buildTree(preorder,inorder)"
   ]
  },
  {
   "cell_type": "markdown",
   "id": "dfd161c0",
   "metadata": {},
   "source": [
    "### 路径总和 III\n",
    "\n",
    "给定一个二叉树的根节点 root ，和一个整数 targetSum ，求该二叉树里节点值之和等于 targetSum 的 路径 的数目。\n",
    "\n",
    "路径 不需要从根节点开始，也不需要在叶子节点结束，但是路径方向必须是向下的（只能从父节点到子节点）。"
   ]
  },
  {
   "cell_type": "code",
   "execution_count": 216,
   "id": "b66f3565",
   "metadata": {},
   "outputs": [],
   "source": [
    "class TreeNode:\n",
    "    def __init__(self, val=0, left=None, right=None):\n",
    "        self.val = val\n",
    "        self.left = left\n",
    "        self.right = right\n",
    "\n",
    "root = TreeNode(3,\n",
    "                left = TreeNode(1,right=TreeNode(2)),\n",
    "                right= TreeNode(4)\n",
    ")"
   ]
  },
  {
   "cell_type": "code",
   "execution_count": 217,
   "id": "41ff7a7e",
   "metadata": {},
   "outputs": [
    {
     "name": "stdout",
     "output_type": "stream",
     "text": [
      "defaultdict(<class 'int'>, {0: 1, -1: 0, 3: 0, 4: 0, 2: 0, 6: 0, 7: 0}) 2\n"
     ]
    },
    {
     "data": {
      "text/plain": [
       "2"
      ]
     },
     "execution_count": 217,
     "metadata": {},
     "output_type": "execute_result"
    }
   ],
   "source": [
    "from collections import defaultdict\n",
    "\n",
    "def pathSum(root, targetSum):\n",
    "    cnt = defaultdict(int)\n",
    "    cnt[0] = 1\n",
    "\n",
    "    ans = 0\n",
    "    def dfs(node, pre):\n",
    "        nonlocal ans\n",
    "        if not node:\n",
    "            return\n",
    "        pre += node.val\n",
    "        ans += cnt[pre - targetSum]   # 以当前为结尾、和为 target 的路径条数\n",
    "        cnt[pre] += 1                 # 进入当前结点\n",
    "        dfs(node.left,  pre)\n",
    "        dfs(node.right, pre)\n",
    "        cnt[pre] -= 1                 # 离开当前结点，回溯\n",
    "\n",
    "    dfs(root, 0)\n",
    "    print(cnt,ans)\n",
    "    return ans\n",
    "\n",
    "pathSum(root,4)"
   ]
  },
  {
   "cell_type": "markdown",
   "id": "6952b3c9",
   "metadata": {},
   "source": [
    "### 二叉树的最近公共祖先\n",
    "\n",
    "给定一个二叉树, 找到该树中两个指定节点的最近公共祖先。\n",
    "\n",
    "百度百科中最近公共祖先的定义为：“对于有根树 T 的两个节点 p、q，最近公共祖先表示为一个节点 x，满足 x 是 p、q 的祖先且 x 的深度尽可能大（一个节点也可以是它自己的祖先）。”"
   ]
  },
  {
   "cell_type": "code",
   "execution_count": null,
   "id": "17411363",
   "metadata": {},
   "outputs": [],
   "source": [
    "class Solution:\n",
    "    def lowestCommonAncestor(self, root: 'TreeNode', p: 'TreeNode', q: 'TreeNode') -> 'TreeNode':\n",
    "        # 如果 root 为空，或者 root 就是 p / q，则返回 root\n",
    "        if not root or root == p or root == q:\n",
    "            return root\n",
    "        \n",
    "        # 在左子树递归查找\n",
    "        left = self.lowestCommonAncestor(root.left, p, q)\n",
    "        # 在右子树递归查找\n",
    "        right = self.lowestCommonAncestor(root.right, p, q)\n",
    "        \n",
    "        # 如果左右都不为空，说明 p 和 q 分别在两边，root 就是最近公共祖先\n",
    "        if left and right:\n",
    "            return root\n",
    "        # 否则返回非空的一边\n",
    "        return left if left else right"
   ]
  },
  {
   "cell_type": "markdown",
   "id": "9c58e06e",
   "metadata": {},
   "source": [
    "124. 二叉树中的最大路径和\n",
    "\n",
    "二叉树中的 路径 被定义为一条节点序列，序列中每对相邻节点之间都存在一条边。同一个节点在一条路径序列中 至多出现一次 。该路径 至少包含一个 节点，且不一定经过根节点。\n",
    "\n",
    "路径和 是路径中各节点值的总和。\n",
    "\n",
    "给你一个二叉树的根节点 root ，返回其 最大路径和 。"
   ]
  },
  {
   "cell_type": "code",
   "execution_count": 1,
   "id": "7ac5daaf",
   "metadata": {},
   "outputs": [],
   "source": [
    "class TreeNode:\n",
    "    def __init__(self, val=0, left=None, right=None):\n",
    "        self.val = val\n",
    "        self.left = left\n",
    "        self.right = right\n",
    "\n",
    "root = TreeNode(-10,\n",
    "                left = TreeNode(9),\n",
    "                right= TreeNode(20,TreeNode(15), TreeNode(7))\n",
    ")"
   ]
  },
  {
   "cell_type": "code",
   "execution_count": null,
   "id": "176874a9",
   "metadata": {},
   "outputs": [
    {
     "name": "stdout",
     "output_type": "stream",
     "text": [
      "[9, -10, 15, 20, 7]\n"
     ]
    }
   ],
   "source": [
    "class Solution:\n",
    "    def maxPathSum(self, root: Optional[TreeNode]) -> int:\n",
    "        ans = float(\"-inf\")\n",
    "\n",
    "        def dfs(node: Optional[TreeNode]) -> int:\n",
    "            nonlocal ans\n",
    "            if not node:\n",
    "                return 0\n",
    "            # 左右子树的“向上最大贡献”，负数直接丢弃\n",
    "            left_gain = max(dfs(node.left), 0)\n",
    "            right_gain = max(dfs(node.right), 0)\n",
    "\n",
    "            # 以当前结点为“最高点”的最佳路径和（允许左右同时走）\n",
    "            ans = max(ans, node.val + left_gain + right_gain)\n",
    "\n",
    "            # 返回给父结点时只能走一条边\n",
    "            return node.val + max(left_gain, right_gain)\n",
    "\n",
    "        dfs(root)\n",
    "        return ans"
   ]
  }
 ],
 "metadata": {
  "kernelspec": {
   "display_name": "LeetCode",
   "language": "python",
   "name": "python3"
  },
  "language_info": {
   "codemirror_mode": {
    "name": "ipython",
    "version": 3
   },
   "file_extension": ".py",
   "mimetype": "text/x-python",
   "name": "python",
   "nbconvert_exporter": "python",
   "pygments_lexer": "ipython3",
   "version": "3.13.5"
  }
 },
 "nbformat": 4,
 "nbformat_minor": 5
}
