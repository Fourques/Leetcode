{
 "cells": [
  {
   "cell_type": "markdown",
   "id": "73a0e74e",
   "metadata": {},
   "source": [
    "小美有一个数字 n，小美打算按照如下规则对 n 进行操作（共 k 次）：\n",
    "\n",
    "- 如果 n 是 偶数，让 n 除以 2；\n",
    "\n",
    "- 否则（奇数），让 n 乘以 3 再加 1。\n",
    "\n",
    "小美想知道，操作 k 次后，n 会变成多少。\n",
    "\n",
    "- 输入：两个整数 n, k\n",
    "\n",
    "- 输出：n 操作 k 次后的结果。"
   ]
  },
  {
   "cell_type": "code",
   "execution_count": null,
   "id": "6f6675b7",
   "metadata": {},
   "outputs": [],
   "source": [
    "import sys\n",
    "from io import StringIO\n",
    "\n",
    "input_data = \"\"\"100 10\n",
    "\n",
    "\"\"\"\n",
    "\n",
    "sys.stdin = StringIO(input_data)"
   ]
  },
  {
   "cell_type": "code",
   "execution_count": null,
   "id": "d3f8c72a",
   "metadata": {},
   "outputs": [],
   "source": [
    "n, k = sys.stdin"
   ]
  },
  {
   "cell_type": "markdown",
   "id": "d3379e35",
   "metadata": {},
   "source": [
    "\n",
    "### 题目描述\n",
    "小美从一个原始的连续数列（各元素互不相同，且恰好是某个区间内的所有整数）中丢失了一些数字，剩余元素按原顺序形成了一个长度为 $n$ 的数组 $\\{a_1,a_2,\\ldots,a_n\\}$。\n",
    "\n",
    "选择区间 $[l,r]$ 后，必须可以通过插入若干元素，使得该子数组中的元素恰好构成从 $\\min(a_l,\\ldots,a_r)$ 到 $\\max(a_l,\\ldots,a_r)$ 的连续整数列。\n",
    "\n",
    "我们称这个子数组的**权值**为：插入的最少元素数量。\n",
    "\n",
    "请你计算数组中所有子数组的权值之和。\n",
    "\n",
    "- 输入描述\n",
    "\n",
    "第一行输入一个整数 $n$（$1 \\le n \\le 2\\times 10^5$），表示数组长度。\n",
    "\n",
    "第二行输入 $n$ 个互不相同的整数 $a_1,a_2,\\ldots,a_n$（$1 \\le a_i \\le 10^6$），表示数组元素。\n",
    "\n",
    "- 输出描述\n",
    "\n",
    "输出一个整数，表示数组中所有子数组的权值之和。"
   ]
  },
  {
   "cell_type": "code",
   "execution_count": 13,
   "id": "cf6a2517",
   "metadata": {},
   "outputs": [],
   "source": [
    "import sys\n",
    "from io import StringIO\n",
    "\n",
    "input_data = \"\"\"3\n",
    "3 1 2\n",
    "\"\"\"\n",
    "\n",
    "sys.stdin = StringIO(input_data)"
   ]
  },
  {
   "cell_type": "code",
   "execution_count": null,
   "id": "91312eaa",
   "metadata": {},
   "outputs": [
    {
     "name": "stdout",
     "output_type": "stream",
     "text": [
      "[3, 1, 2]\n"
     ]
    }
   ],
   "source": [
    "n = sys.stdin.readline()\n",
    "nums = list(map(int, sys.stdin.readline().split()))\n",
    "\n",
    "\n"
   ]
  }
 ],
 "metadata": {
  "kernelspec": {
   "display_name": "LeetCode",
   "language": "python",
   "name": "python3"
  },
  "language_info": {
   "codemirror_mode": {
    "name": "ipython",
    "version": 3
   },
   "file_extension": ".py",
   "mimetype": "text/x-python",
   "name": "python",
   "nbconvert_exporter": "python",
   "pygments_lexer": "ipython3",
   "version": "3.13.5"
  }
 },
 "nbformat": 4,
 "nbformat_minor": 5
}
