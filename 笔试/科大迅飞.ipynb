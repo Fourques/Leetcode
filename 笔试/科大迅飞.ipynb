{
 "cells": [
  {
   "cell_type": "markdown",
   "id": "98d359a3",
   "metadata": {},
   "source": [
    "给定三角形的三条边长 a, b, c，然后有 q 组询问：\n",
    "每组询问输入三个正整数 x, y, z， 需要判断边长为 x, y, z 的三条边是否能构成三角形；如果能构成三角形，是否与初始给定的三角形相似。\n",
    "\n",
    "在本题中，三角形指未退化的三角形，更具体地说，其面积不为零，需满足：\n",
    "\n",
    "- 任意两边之和大于第三边，\n",
    "\n",
    "- 任意两边之差小于第三边。\n",
    "\n",
    "### 输入描述\n",
    "\n",
    "第一行输入三个正整数 a, b, c (1 ≤ a, b, c ≤ 100)，代表给定三角形的三条边，保证这三条边一定能构成三角形。\n",
    "\n",
    "第二行输入一个正整数 q (1 ≤ q ≤ 100)，代表询问次数。\n",
    "\n",
    "接下来 q 行，每行三个正整数 x, y, z (1 ≤ x, y, z ≤ 100)，代表询问的三条边长。\n",
    "\n",
    "### 输出描述\n",
    "\n",
    "对每个询问：\n",
    "\n",
    "如果不能构成三角形，输出 \"Cannot form a triangle\"；\n",
    "\n",
    "如果能构成三角形，但与给定的三角形不相似，输出 \"Can form a triangle but not similar\"；\n",
    "\n",
    "如果能构成三角形并且与给定三角形相似，输出 \"similar\"。\n",
    "\n",
    "输出均不包含双引号。"
   ]
  },
  {
   "cell_type": "code",
   "execution_count": 1,
   "id": "eca92100",
   "metadata": {},
   "outputs": [],
   "source": [
    "import sys\n",
    "from io import StringIO\n",
    "\n",
    "\n",
    "sample_input = \"\"\"3 4 5\n",
    "3\n",
    "10 6 8\n",
    "3 6 9\n",
    "9 9 9\n",
    "\"\"\"\n",
    "\n",
    "sys.stdin = StringIO(sample_input)"
   ]
  },
  {
   "cell_type": "code",
   "execution_count": 2,
   "id": "b8409330",
   "metadata": {},
   "outputs": [
    {
     "name": "stdout",
     "output_type": "stream",
     "text": [
      "similar\n",
      "Cannot form a triangle\n",
      "Can form a triangle but not similar\n"
     ]
    }
   ],
   "source": [
    "import sys\n",
    "\n",
    "list_a = list(map(int, sys.stdin.readline().split()))\n",
    "list_a.sort()\n",
    "q = int(sys.stdin.readline().strip())\n",
    "\n",
    "for i in range(q):\n",
    "    line = sys.stdin.readline()\n",
    "    list_n = list(map(int, line.split()))\n",
    "    list_n.sort()\n",
    "\n",
    "    if list_n[0] + list_n[1] > list_n[2]:  # 能构成三角形\n",
    "        # 用交叉相乘避免浮点误差\n",
    "        if (list_n[0] * list_a[1] == list_n[1] * list_a[0] and\n",
    "            list_n[0] * list_a[2] == list_n[2] * list_a[0] and\n",
    "            list_n[1] * list_a[2] == list_n[2] * list_a[1]):\n",
    "            print(\"similar\")\n",
    "        else:\n",
    "            print(\"Can form a triangle but not similar\")\n",
    "    else:\n",
    "        print(\"Cannot form a triangle\")\n"
   ]
  },
  {
   "cell_type": "code",
   "execution_count": 6,
   "id": "5d793cd5",
   "metadata": {},
   "outputs": [],
   "source": [
    "import sys\n",
    "from io import StringIO\n",
    "\n",
    "\n",
    "sample_input = \"\"\"2\n",
    "6\n",
    "3 6 2 5 5 4\n",
    "3\n",
    "3 3 3\n",
    "\"\"\"\n",
    "\n",
    "sys.stdin = StringIO(sample_input)"
   ]
  },
  {
   "cell_type": "code",
   "execution_count": 4,
   "id": "571f0421",
   "metadata": {},
   "outputs": [
    {
     "name": "stdout",
     "output_type": "stream",
     "text": [
      "Yes\n",
      "Yes\n"
     ]
    }
   ],
   "source": [
    "import sys\n",
    "\n",
    "def solve_case(a):\n",
    "    n = len(a)\n",
    "    m0 = max(a)\n",
    "    c0 = a.count(m0)\n",
    "\n",
    "    # 情况 1：最大值已有 >=3 个，拆一个非最大值即可\n",
    "    if c0 >= 3:\n",
    "        return \"Yes\"\n",
    "\n",
    "    # 情况 2：最大值正好 2 个，无解\n",
    "    if c0 == 2:\n",
    "        return \"No\"\n",
    "\n",
    "    # 情况 3：最大值只有 1 个，必须拆它\n",
    "    # 去掉该最大值后的次大值 m2 及其次数 c2\n",
    "    b = [x for x in a if x != m0]\n",
    "    m2 = max(b)\n",
    "    c2 = b.count(m2)\n",
    "\n",
    "    # 要让拆分后的两个数都 <= m2，需 m0 <= 2*m2\n",
    "    if m0 > 2 * m2:\n",
    "        return \"No\"\n",
    "\n",
    "    # 能增加的 m2 次数（最多 2 次，等号成立时可取 x=y=m2）\n",
    "    add = 2 if m0 == 2 * m2 else 1\n",
    "\n",
    "    return \"Yes\" if c2 + add >= 3 else \"No\"\n",
    "\n",
    "\n",
    "def main():\n",
    "    data = list(map(int, sys.stdin.read().strip().split()))\n",
    "    t = data[0]\n",
    "    idx = 1\n",
    "    out_lines = []\n",
    "    for _ in range(t):\n",
    "        n = data[idx]; idx += 1\n",
    "        arr = data[idx:idx+n]; idx += n\n",
    "        out_lines.append(solve_case(arr))\n",
    "    print(\"\\n\".join(out_lines))\n",
    "\n",
    "if __name__ == \"__main__\":\n",
    "    main()\n"
   ]
  },
  {
   "cell_type": "markdown",
   "id": "022a8e34",
   "metadata": {},
   "source": []
  },
  {
   "cell_type": "code",
   "execution_count": 5,
   "id": "2d1fab75",
   "metadata": {},
   "outputs": [
    {
     "ename": "ValueError",
     "evalue": "invalid literal for int() with base 10: ''",
     "output_type": "error",
     "traceback": [
      "\u001b[0;31m---------------------------------------------------------------------------\u001b[0m",
      "\u001b[0;31mValueError\u001b[0m                                Traceback (most recent call last)",
      "Cell \u001b[0;32mIn[5], line 3\u001b[0m\n\u001b[1;32m      1\u001b[0m \u001b[38;5;28;01mimport\u001b[39;00m\u001b[38;5;250m \u001b[39m\u001b[38;5;21;01msys\u001b[39;00m\n\u001b[0;32m----> 3\u001b[0m T \u001b[38;5;241m=\u001b[39m \u001b[38;5;28;43mint\u001b[39;49m\u001b[43m(\u001b[49m\u001b[43msys\u001b[49m\u001b[38;5;241;43m.\u001b[39;49m\u001b[43mstdin\u001b[49m\u001b[38;5;241;43m.\u001b[39;49m\u001b[43mreadline\u001b[49m\u001b[43m(\u001b[49m\u001b[43m)\u001b[49m\u001b[38;5;241;43m.\u001b[39;49m\u001b[43mstrip\u001b[49m\u001b[43m(\u001b[49m\u001b[43m)\u001b[49m\u001b[43m)\u001b[49m\n\u001b[1;32m      4\u001b[0m \u001b[38;5;28;01mfor\u001b[39;00m _ \u001b[38;5;129;01min\u001b[39;00m \u001b[38;5;28mrange\u001b[39m(T):\n\u001b[1;32m      5\u001b[0m     n \u001b[38;5;241m=\u001b[39m \u001b[38;5;28mint\u001b[39m(sys\u001b[38;5;241m.\u001b[39mstdin\u001b[38;5;241m.\u001b[39mreadline()\u001b[38;5;241m.\u001b[39mstrip())\n",
      "\u001b[0;31mValueError\u001b[0m: invalid literal for int() with base 10: ''"
     ]
    }
   ],
   "source": [
    "import sys\n",
    "\n",
    "T = int(sys.stdin.readline().strip())\n",
    "for _ in range(T):\n",
    "    n = int(sys.stdin.readline().strip())\n",
    "    a = list(map(int, sys.stdin.readline().split()))\n",
    "    a.sort()\n",
    "    max_a = a[-1]\n",
    "    hasht = {}\n",
    "    for i in range(len(a)-1, -1, -1):\n",
    "        if a[i] in hasht:\n",
    "            hasht[a[i]] += 1\n",
    "        else:\n",
    "            hasht[a[i]] = 1\n",
    "\n",
    "    c0 = hasht[max_a] \n",
    "    if c0 >= 3:\n",
    "        if len(hasht) > 1:\n",
    "            print(\"Yes\")\n",
    "        else:\n",
    "            print(\"Yes\" if c0 >= 4 else \"No\")\n",
    "\n",
    "    elif c0 == 2:\n",
    "        print(\"No\")\n",
    "    else:  \n",
    "        second = None\n",
    "        for i in range(len(a)-2, -1, -1):\n",
    "            if a[i] < max_a:\n",
    "                second = a[i]\n",
    "                break\n",
    "        c2 = hasht.get(second, 0)\n",
    "\n",
    "        if max_a > 2 * second:\n",
    "            print(\"No\")\n",
    "        else:\n",
    "            add = 2 if max_a == 2 * second else 1  \n",
    "            print(\"Yes\" if c2 + add >= 3 else \"No\")\n"
   ]
  },
  {
   "cell_type": "code",
   "execution_count": 7,
   "id": "e07053d9",
   "metadata": {},
   "outputs": [
    {
     "name": "stdout",
     "output_type": "stream",
     "text": [
      "Yes\n",
      "No\n"
     ]
    }
   ],
   "source": [
    "import sys\n",
    "\n",
    "T = int(sys.stdin.readline().strip())\n",
    "for _ in range(T):\n",
    "    n = int(sys.stdin.readline().strip())\n",
    "    a = list(map(int, sys.stdin.readline().split()))\n",
    "    a.sort()\n",
    "\n",
    "    max_a = a[-1]\n",
    "    hasht = {}\n",
    "    for v in a:\n",
    "        hasht[v] = hasht.get(v, 0) + 1\n",
    "\n",
    "    c0 = hasht[max_a]  # 最大值出现次数\n",
    "\n",
    "    # 情况1: 最大值出现次数>=3\n",
    "    if c0 >= 3:\n",
    "        # 如果存在可拆的非最大元素(>=2)，拆它即可，Yes\n",
    "        ok = any(val != max_a and val >= 2 for val in hasht)\n",
    "        if ok:\n",
    "            print(\"Yes\")\n",
    "        else:\n",
    "            # 非最大元素全是1，只能拆最大值 -> 最大值个数会减1\n",
    "            print(\"Yes\" if c0 >= 4 else \"No\")\n",
    "\n",
    "    # 情况2: 最大值出现次数=2\n",
    "    elif c0 == 2:\n",
    "        print(\"No\")\n",
    "\n",
    "    # 情况3: 最大值出现次数=1\n",
    "    else:\n",
    "        # 找到次大值\n",
    "        sec_a = None\n",
    "        for i in range(n-2, -1, -1):\n",
    "            if a[i] < max_a:\n",
    "                sec_a = a[i]\n",
    "                break\n",
    "        c2 = hasht[sec_a]\n",
    "\n",
    "        if max_a > 2 * sec_a:\n",
    "            print(\"No\")\n",
    "        else:\n",
    "            add = 2 if max_a == 2 * sec_a else 1\n",
    "            print(\"Yes\" if c2 + add >= 3 else \"No\")\n"
   ]
  }
 ],
 "metadata": {
  "kernelspec": {
   "display_name": "leetcode",
   "language": "python",
   "name": "python3"
  },
  "language_info": {
   "codemirror_mode": {
    "name": "ipython",
    "version": 3
   },
   "file_extension": ".py",
   "mimetype": "text/x-python",
   "name": "python",
   "nbconvert_exporter": "python",
   "pygments_lexer": "ipython3",
   "version": "3.10.6"
  }
 },
 "nbformat": 4,
 "nbformat_minor": 5
}
