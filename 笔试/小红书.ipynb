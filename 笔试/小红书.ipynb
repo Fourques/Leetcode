{
 "cells": [
  {
   "cell_type": "markdown",
   "id": "d95af334",
   "metadata": {},
   "source": [
    "给定两个仅包含小写字符a和b的字符串A和B，长度分别为n和m，现在根据A和B构造一个n'm的字符矩阵C，其中C,的值由A和B;决定，具体计算方式如T\n"
   ]
  },
  {
   "cell_type": "code",
   "execution_count": null,
   "id": "1703ae3e",
   "metadata": {},
   "outputs": [],
   "source": [
    "import sys\n",
    "input = sys.stdin.readline\n",
    "n, m, k = map(int, input().split())\n",
    "A = input().strip()\n",
    "B = input().strip()\n",
    "inside = 0\n",
    "if k <= m:\n",
    "    run = 0\n",
    "    for ch in B:\n",
    "        if ch == 'a':\n",
    "            run += 1\n",
    "            if run >= k:\n",
    "                inside += 1\n",
    "        else:\n",
    "            run = 0\n",
    "pre = 0\n",
    "while pre < m and B[pre] == 'a':\n",
    "    pre += 1\n",
    "suf = 0\n",
    "while suf < m and B[m - 1 - suf] == 'a':\n",
    "    suf += 1\n",
    "allA = (pre == m)\n",
    "cross = max(0, pre + suf - k + 1)  \n",
    "runs = [len(seg) for seg in A.split('b') if seg]\n",
    "\n",
    "ans = 0\n",
    "if allA:\n",
    "    for L in runs:\n",
    "        length = L * m\n",
    "        if length >= k:\n",
    "            ans += length - k + 1\n",
    "else:\n",
    "    for L in runs:\n",
    "        ans += L * inside\n",
    "        if L >= 2 and cross > 0:\n",
    "            ans += (L - 1) * cross\n",
    "\n",
    "print(ans)\n"
   ]
  },
  {
   "cell_type": "code",
   "execution_count": null,
   "id": "603aded8",
   "metadata": {},
   "outputs": [
    {
     "name": "stdout",
     "output_type": "stream",
     "text": [
      "0\n"
     ]
    }
   ],
   "source": [
    "import sys\n",
    "sys.setrecursionlimit(2000000)\n",
    "\n",
    "\n",
    "\n",
    "T = 1\n",
    "for _ in range(T):\n",
    "    n, m = 3,8\n",
    "    a = [2,5,1]\n",
    "    b = [2,5,1]\n",
    "\n",
    "    # 建图\n",
    "    img = [[] for _ in range(m+1)]\n",
    "    for i, j in zip(a, b):\n",
    "        if i != j:   # 相等不用管\n",
    "            img[i].append(j)\n",
    "            img[j].append(i)\n",
    "\n",
    "    list_v = [False]*(m+1)\n",
    "    result = 0\n",
    "    for i in range(1, m+1):\n",
    "        if not list_v[i] and img[i]:\n",
    "            s = [i]\n",
    "            list_v[i] = True\n",
    "            count = 0\n",
    "            while s:\n",
    "                u = s.pop()\n",
    "                count += 1\n",
    "                for v in img[u]:\n",
    "                    if not list_v[v]:\n",
    "                        list_v[v] = True\n",
    "                        s.append(v)\n",
    "            result += count - 1\n",
    "    print(result)\n",
    "\n",
    "\n"
   ]
  },
  {
   "cell_type": "markdown",
   "id": "4229acb6",
   "metadata": {},
   "source": [
    "这天，小红需在小红书上看到了一道每日一题之编程题，如下\n",
    "定义一个字符串是包裹字符串为:字符串的首字母等于最后一个字母。求解一个字符串的全部子串中，有多少个不是包裹字符串。\n",
    "这两天小红薯正在学习字符串相关的知识，字符串的使用非常广泛，所以要认真的学习小虹营在评论区看到了这个问是的进"
   ]
  },
  {
   "cell_type": "code",
   "execution_count": null,
   "id": "aade8d7a",
   "metadata": {},
   "outputs": [
    {
     "name": "stdout",
     "output_type": "stream",
     "text": [
      "0\n",
      "1\n",
      "3\n",
      "5\n"
     ]
    }
   ],
   "source": [
    "from collections import Counter\n",
    "\n",
    "s = \"abda\"\n",
    "n = 4\n",
    "\n",
    "count = [0] * 26  \n",
    "wrap = 0          \n",
    "ans = []\n",
    "\n",
    "for i, ch in enumerate(s, 1):\n",
    "    idx = ord(ch) - ord('a')\n",
    "    # 去掉旧贡献，加上新贡献\n",
    "    wrap -= count[idx] * (count[idx] + 1) // 2\n",
    "    count[idx] += 1\n",
    "    wrap += count[idx] * (count[idx] + 1) // 2\n",
    "    \n",
    "    total = i * (i + 1) // 2\n",
    "    ans.append(total - wrap)\n",
    "\n",
    "print(\"\\n\".join(map(str, ans)))\n"
   ]
  },
  {
   "cell_type": "code",
   "execution_count": null,
   "id": "ff6c644d",
   "metadata": {},
   "outputs": [
    {
     "name": "stdout",
     "output_type": "stream",
     "text": [
      "0\n",
      "1\n",
      "3\n",
      "5\n"
     ]
    }
   ],
   "source": [
    "s = \"abda\"\n",
    "n = len(s)\n",
    "\n",
    "count = {} \n",
    "ans = []\n",
    "total_wrap = 0  \n",
    "\n",
    "for i in range(n):\n",
    "    ch = s[i]\n",
    "    count[ch] = count.get(ch, 0) + 1\n",
    "    total_wrap += count[ch]\n",
    "    total_sub = (i + 1) * (i + 2) // 2  \n",
    "    ans.append(total_sub - total_wrap)\n",
    "\n",
    "for x in ans:\n",
    "    print(x)\n",
    "\n"
   ]
  },
  {
   "cell_type": "code",
   "execution_count": null,
   "id": "704adf3e",
   "metadata": {},
   "outputs": [
    {
     "name": "stdout",
     "output_type": "stream",
     "text": [
      "0\n",
      "1\n",
      "3\n",
      "5\n"
     ]
    }
   ],
   "source": [
    "from collections import Counter\n",
    "\n",
    "s = \"abda\"\n",
    "n = len(s)\n",
    "\n",
    "ans = []\n",
    "cnt = Counter()\n",
    "for i in range(n):\n",
    "    cnt[s[i]] += 1\n",
    "    \n",
    "    total = (i+1) * (i+2) // 2\n",
    "    wrap = sum(v * (v+1) // 2 for v in cnt.values())\n",
    "    ans.append(total - wrap)\n",
    "\n",
    "for x in ans:\n",
    "    print(x)\n"
   ]
  },
  {
   "cell_type": "code",
   "execution_count": null,
   "id": "39b32b02",
   "metadata": {},
   "outputs": [
    {
     "name": "stdout",
     "output_type": "stream",
     "text": [
      "方法六: [0, 1, 3, 5]\n"
     ]
    }
   ],
   "source": [
    "s = \"abda\"\n",
    "n = len(s)\n",
    "\n",
    "ans = []\n",
    "for i in range(n):\n",
    "    cnt = 0\n",
    "    for l in range(i+1):\n",
    "        for r in range(l, i+1):\n",
    "            if s[l] != s[r]:\n",
    "                cnt += 1\n",
    "    ans.append(cnt)\n",
    "\n",
    "print(\"方法六:\", ans)\n"
   ]
  },
  {
   "cell_type": "code",
   "execution_count": null,
   "id": "b5517327",
   "metadata": {},
   "outputs": [
    {
     "name": "stdout",
     "output_type": "stream",
     "text": [
      "0\n",
      "1\n",
      "3\n",
      "5\n"
     ]
    }
   ],
   "source": [
    "s = \"abda\"\n",
    "n = len(s)\n",
    "\n",
    "ans = []\n",
    "for i in range(n):\n",
    "    cnt = 0\n",
    "    for l in range(i+1):\n",
    "        for r in range(l, i+1):\n",
    "            if s[l] != s[r]:\n",
    "                cnt += 1\n",
    "    ans.append(cnt)\n",
    "\n",
    "# 按行输出\n",
    "for x in ans:\n",
    "    print(x)\n"
   ]
  },
  {
   "cell_type": "code",
   "execution_count": null,
   "id": "4967228e",
   "metadata": {},
   "outputs": [
    {
     "name": "stdout",
     "output_type": "stream",
     "text": [
      "48\n"
     ]
    }
   ],
   "source": [
    "MOD = 10**9 + 7\n",
    "\n",
    "T = 1\n",
    "for _ in range(T):\n",
    "    n, a, b, c = 5,1,2,3\n",
    "    kinds = sum(x > 0 for x in (a, b, c))  # 有多少种不同字母\n",
    "\n",
    "    if kinds == 1:\n",
    "        print(1 if n == 1 else 0)\n",
    "    elif kinds == 2:\n",
    "        print(2)\n",
    "    else:  # kinds == 3\n",
    "        print((3 * pow(2, n-1, MOD)) % MOD)\n"
   ]
  },
  {
   "cell_type": "code",
   "execution_count": null,
   "id": "b601886a",
   "metadata": {},
   "outputs": [
    {
     "name": "stdout",
     "output_type": "stream",
     "text": [
      "3 8 19 38 60\n"
     ]
    }
   ],
   "source": [
    "MOD = 10**9 + 7\n",
    "MAXN = 100000\n",
    "\n",
    "# 预处理阶乘和逆元\n",
    "fact = [1] * (MAXN+1)\n",
    "invfact = [1] * (MAXN+1)\n",
    "for i in range(1, MAXN+1):\n",
    "    fact[i] = fact[i-1] * i % MOD\n",
    "\n",
    "# 快速幂\n",
    "def modpow(x, y):\n",
    "    res = 1\n",
    "    while y:\n",
    "        if y & 1:\n",
    "            res = res * x % MOD\n",
    "        x = x * x % MOD\n",
    "        y >>= 1\n",
    "    return res\n",
    "\n",
    "invfact[MAXN] = modpow(fact[MAXN], MOD-2)\n",
    "for i in range(MAXN, 0, -1):\n",
    "    invfact[i-1] = invfact[i] * i % MOD\n",
    "\n",
    "def C(n, k):\n",
    "    if k < 0 or k > n:\n",
    "        return 0\n",
    "    return fact[n] * invfact[k] % MOD * invfact[n-k] % MOD\n",
    "\n",
    "# 主逻辑\n",
    "T = 1\n",
    "for _ in range(T):\n",
    "    n, a, b, c = 5,1,2,3\n",
    "    ans = []\n",
    "    for k in range(1, n+1):\n",
    "        total = 0\n",
    "        for x in range(min(a, k)+1):\n",
    "            for y in range(min(b, k-x)+1):\n",
    "                z = k - x - y\n",
    "                if 0 <= z <= c:\n",
    "                    total += C(k, x) * C(k-x, y) % MOD\n",
    "                    total %= MOD\n",
    "        ans.append(total)\n",
    "    print(\" \".join(map(str, ans)))\n"
   ]
  },
  {
   "cell_type": "code",
   "execution_count": null,
   "id": "a0e9d003",
   "metadata": {},
   "outputs": [
    {
     "name": "stdout",
     "output_type": "stream",
     "text": [
      "0 0 0 0 0\n"
     ]
    }
   ],
   "source": [
    "MOD = 10**9 + 7\n",
    "\n",
    "\n",
    "import sys\n",
    "\n",
    "T = 1\n",
    "for _ in range(T):\n",
    "    n, a, b, c = 5,1,2,3\n",
    "    ans = []\n",
    "    # 如果a,b,c都很大，直接用公式\n",
    "    if a >= n and b >= n and c >= n:\n",
    "        val = 1\n",
    "        for k in range(1, n+1):\n",
    "            if k == 1:\n",
    "                ans.append(3)\n",
    "            else:\n",
    "                val = val * 2 % MOD\n",
    "                ans.append(3 * val // 2)  # = 3*2^(k-1)\n",
    "        print(\" \".join(map(str, ans)))\n",
    "        continue\n",
    "\n",
    "    # 否则做DP\n",
    "    dp = [[[0]*(c+1) for _ in range(b+1)] for _ in range(a+1)]\n",
    "    # dp[x][y][z] 表示用了x个a, y个b, z个c时的合法串数量\n",
    "    dp[0][0][0] = 1\n",
    "    for x in range(a+1):\n",
    "        for y in range(b+1):\n",
    "            for z in range(c+1):\n",
    "                total = x+y+z\n",
    "                if total == 0: continue\n",
    "                # 放a\n",
    "                if x > 0:\n",
    "                    dp[x][y][z] = (dp[x][y][z] + (dp[x-1][y][z]*( (y>0)+(z>0) ))) % MOD\n",
    "                # 放b\n",
    "                if y > 0:\n",
    "                    dp[x][y][z] = (dp[x][y][z] + (dp[x][y-1][z]*( (x>0)+(z>0) ))) % MOD\n",
    "                # 放c\n",
    "                if z > 0:\n",
    "                    dp[x][y][z] = (dp[x][y][z] + (dp[x][y][z-1]*( (x>0)+(y>0) ))) % MOD\n",
    "    # 收集答案\n",
    "    for k in range(1, n+1):\n",
    "        total = 0\n",
    "        for x in range(min(a,k)+1):\n",
    "            for y in range(min(b,k-x)+1):\n",
    "                z = k-x-y\n",
    "                if 0 <= z <= c:\n",
    "                    total = (total + dp[x][y][z]) % MOD\n",
    "        ans.append(total)\n",
    "    print(\" \".join(map(str, ans)))\n"
   ]
  },
  {
   "cell_type": "markdown",
   "id": "dc1b386a",
   "metadata": {},
   "source": [
    "在小红书“品牌的意工坊”中，营销人员可以为直檀和短码须活动创建定制化丝带AR特效，结合品雅D与礼金包装场景，实现动态丝带动画，为了支撑忆级日活的前端演染，后端需要在活动发布的预先计算并娠存所有可能的切割方案数，确保小程字组件和Web端秒级响应。观有一根虚被丝带长度为k，可以将其分割成若于段或保持一整段不动，但是每段长度尺能取整数 a b或c中的一个，且不允许任同长度为a的段后面直接跟随长度为c的段。请对所有长度k(1<=k<=n)，统计合法的切割方案数，供小红书前端短件批量加载与渲染。由于答案可能很大，请将答案对(10^9+7)取模后输出。顺字不同视为不同方案."
   ]
  },
  {
   "cell_type": "code",
   "execution_count": 1,
   "id": "93b177f7",
   "metadata": {},
   "outputs": [
    {
     "name": "stdout",
     "output_type": "stream",
     "text": [
      "1 2 4 6\n"
     ]
    }
   ],
   "source": [
    "import sys\n",
    "MOD = 10**9 + 7\n",
    "\n",
    "T = 1\n",
    "for _ in range(T):\n",
    "    n, a, b, c = 4,1,2,3\n",
    "    lengths = [a, b, c]\n",
    "    dp = [0] * (n + 1)\n",
    "    endA = [0] * (n + 1)\n",
    "    dp[0] = 1  \n",
    "\n",
    "    for i in range(1, n + 1):\n",
    "        for L in lengths:\n",
    "            if i >= L:\n",
    "                if L == a:\n",
    "                    dp[i] = (dp[i] + dp[i - L]) % MOD\n",
    "                    endA[i] = (endA[i] + dp[i - L]) % MOD \n",
    "                elif L == c:\n",
    "                    dp[i] = (dp[i] + dp[i - L] - endA[i - L]) % MOD\n",
    "                else:\n",
    "                    dp[i] = (dp[i] + dp[i - L]) % MOD\n",
    "\n",
    "    print(\" \".join(map(str, dp[1:n+1])))\n"
   ]
  },
  {
   "cell_type": "code",
   "execution_count": 23,
   "id": "02f9098d",
   "metadata": {},
   "outputs": [],
   "source": [
    "import sys\n",
    "from io import StringIO\n",
    "\n",
    "input_data = \"\"\"2\n",
    "5 1 2 3\n",
    "4 1 2 3\n",
    "\"\"\"\n",
    "\n",
    "sys.stdin = StringIO(input_data)"
   ]
  },
  {
   "cell_type": "code",
   "execution_count": 24,
   "id": "467e1c4a",
   "metadata": {},
   "outputs": [
    {
     "name": "stdout",
     "output_type": "stream",
     "text": [
      "1 2 4 6 11\n",
      "1 2 4 6"
     ]
    },
    {
     "data": {
      "text/plain": [
       "18"
      ]
     },
     "execution_count": 24,
     "metadata": {},
     "output_type": "execute_result"
    }
   ],
   "source": [
    "MOD = 10**9 + 7\n",
    "\n",
    "T = int(sys.stdin.readline())\n",
    "outs = []\n",
    "for _ in range(T):\n",
    "    n, a, b, c = map(int, sys.stdin.readline().split())\n",
    "    f = [0] * (n + 1)\n",
    "    f[0] = 1\n",
    "    for i in range(1, n + 1):\n",
    "        total = 0\n",
    "        if i >= a:\n",
    "            total += f[i - a]\n",
    "        if i >= b:\n",
    "            total += f[i - b]\n",
    "        if i >= c:\n",
    "            add_c = f[i - c]\n",
    "            if i - c >= a:\n",
    "                add_c -= f[i - c - a]\n",
    "            total += add_c\n",
    "        f[i] = total % MOD\n",
    "    outs.append(\" \".join(str(f[i]) for i in range(1, n + 1)))\n",
    "sys.stdout.write(\"\\n\".join(outs))\n"
   ]
  },
  {
   "cell_type": "code",
   "execution_count": 26,
   "id": "9ce61cc6",
   "metadata": {},
   "outputs": [
    {
     "name": "stdout",
     "output_type": "stream",
     "text": [
      "3\n",
      "2"
     ]
    },
    {
     "data": {
      "text/plain": [
       "3"
      ]
     },
     "execution_count": 26,
     "metadata": {},
     "output_type": "execute_result"
    }
   ],
   "source": [
    "import sys\n",
    "from io import StringIO\n",
    "\n",
    "input_data = \"\"\"2\n",
    "5 2\n",
    "1 2 4 7 9\n",
    "4 0\n",
    "1 1 2 5\n",
    "\"\"\"\n",
    "\n",
    "sys.stdin = StringIO(input_data)\n",
    "\n",
    "T = int(sys.stdin.readline())\n",
    "out_lines = []\n",
    "for _ in range(T):\n",
    "    n, d = map(int, sys.stdin.readline().split())\n",
    "    a = []\n",
    "    while len(a) < n:                      # 逐行读，直到凑够 n 个数\n",
    "        a.extend(map(int, sys.stdin.readline().split()))\n",
    "    a.sort()\n",
    "\n",
    "    # 贪心选取“任意两数差值 > d”的最大子集大小 m*\n",
    "    m = 0\n",
    "    last = -10**18\n",
    "    for x in a:\n",
    "        if x - last > d:\n",
    "            m += 1\n",
    "            last = x\n",
    "\n",
    "    # 只能成对删除，答案需与 n 同奇偶\n",
    "    if ((n - m) & 1) == 1:\n",
    "        m -= 1\n",
    "    out_lines.append(str(m))\n",
    "\n",
    "sys.stdout.write(\"\\n\".join(out_lines))\n"
   ]
  },
  {
   "cell_type": "code",
   "execution_count": 21,
   "id": "be1cb487",
   "metadata": {},
   "outputs": [
    {
     "name": "stdout",
     "output_type": "stream",
     "text": [
      "2\n",
      "1\n"
     ]
    }
   ],
   "source": [
    "import sys\n",
    "from io import StringIO\n",
    "\n",
    "input_data = \"\"\"2\n",
    "5 2\n",
    "1 2 4 7 9\n",
    "4 0\n",
    "1 1 2 5\n",
    "\"\"\"\n",
    "\n",
    "sys.stdin = StringIO(input_data)\n",
    "\n",
    "MOD = 10**9 + 7\n",
    "\n",
    "input = sys.stdin.read\n",
    "data = input().split()\n",
    "\n",
    "T = int(data[0])\n",
    "idx = 1\n",
    "\n",
    "results = []\n",
    "\n",
    "for _ in range(T):\n",
    "    a = int(data[idx])\n",
    "    b = int(data[idx+1])\n",
    "    c = int(data[idx+2])\n",
    "    k = int(data[idx+3])\n",
    "    idx += 4\n",
    "    \n",
    "    dp0 = [0] * (k + 1)  # 非a结尾\n",
    "    dp1 = [0] * (k + 1)  # a结尾\n",
    "    dp0[0] = 1\n",
    "    \n",
    "    for i in range(1, k + 1):\n",
    "        if i >= a:\n",
    "            dp1[i] = dp0[i - a] % MOD\n",
    "        if i >= b:\n",
    "            dp0[i] = (dp0[i] + dp0[i - b] + dp1[i - b]) % MOD\n",
    "        if i >= c:\n",
    "            dp0[i] = (dp0[i] + dp0[i - c]) % MOD  # 不能从dp1转移，防止a→c\n",
    "    \n",
    "    total = (dp0[k] + dp1[k]) % MOD\n",
    "    results.append(str(total))\n",
    "\n",
    "print('\\n'.join(results))"
   ]
  },
  {
   "cell_type": "markdown",
   "id": "7c0b6ebb",
   "metadata": {},
   "source": [
    "把一个正整数 \n",
    "x 称为“完美数字”，当且仅当满足下面两个条件：可以把 x 表示为若干个公差为 1、且所有元素均为正整数的等差数列的乘积；换言之，x 能写成 若干个相邻正整数的乘积。例如：6=1×2×3。\n",
    "\n",
    "上述相邻整数的个数（长度）不少于 3。\n",
    "\n",
    "任务：\n",
    "给定多次点赞查询。每次给出一个正整数 𝑥 ，判断是否为完美数字。\n",
    "\n",
    "输入：第一行是整数 𝑇，表示查询次数；接下来 𝑇行，每行一个整数 𝑥\n",
    "\n",
    "输出：对每个 x，若是完美数字输出 YES，否则输出 NO。"
   ]
  },
  {
   "cell_type": "code",
   "execution_count": 1,
   "id": "f979dbeb",
   "metadata": {},
   "outputs": [
    {
     "name": "stdout",
     "output_type": "stream",
     "text": [
      "YES\n",
      "NO\n",
      "YES\n"
     ]
    }
   ],
   "source": [
    "import sys\n",
    "\n",
    "from io import StringIO\n",
    "\n",
    "input_data = \"\"\"3\n",
    "6\n",
    "2\n",
    "24\n",
    "\"\"\"\n",
    "\n",
    "sys.stdin = StringIO(input_data)\n",
    "\n",
    "\n",
    "def is_perfect(x: int) -> bool:\n",
    "    if x < 6:  # 最小完美数是 6 = 1*2*3\n",
    "        return False\n",
    "    # 长度 L 从 3 到 12 即可（超过 12 连乘 > 1e9）\n",
    "    for L in range(3, 13):\n",
    "        a = 1\n",
    "        while True:\n",
    "            prod = 1\n",
    "            for k in range(L):\n",
    "                prod *= (a + k)\n",
    "                if prod > x:\n",
    "                    break\n",
    "            if prod == x:\n",
    "                return True\n",
    "            if prod > x:\n",
    "                break\n",
    "            a += 1\n",
    "    return False\n",
    "\n",
    "T = int(sys.stdin.readline().strip())\n",
    "for _ in range(T):\n",
    "    x = int(sys.stdin.readline().strip())\n",
    "    if is_perfect(x):\n",
    "        print(\"YES\")\n",
    "    else:\n",
    "        print(\"NO\")\n"
   ]
  },
  {
   "cell_type": "code",
   "execution_count": null,
   "id": "d02c9d82",
   "metadata": {},
   "outputs": [
    {
     "name": "stdout",
     "output_type": "stream",
     "text": [
      "YES\n",
      "NO\n",
      "YES"
     ]
    },
    {
     "data": {
      "text/plain": [
       "10"
      ]
     },
     "execution_count": 12,
     "metadata": {},
     "output_type": "execute_result"
    }
   ],
   "source": [
    "import sys\n",
    "\n",
    "from io import StringIO\n",
    "\n",
    "input_data = \"\"\"3\n",
    "6\n",
    "2\n",
    "24\n",
    "\"\"\"\n",
    "\n",
    "sys.stdin = StringIO(input_data)\n",
    "\n",
    "\n",
    "LIMIT = 10**9\n",
    "\n",
    "# 预生成所有 <= 1e9 的“连续正整数乘积（长度>=3）”\n",
    "perfects = set()\n",
    "for L in range(3, 13):                  # 长度 3..12 即可\n",
    "    # 初始 a=1 时的乘积 1*2*...*L\n",
    "    prod = 1\n",
    "    for k in range(1, L + 1):\n",
    "        prod *= k\n",
    "    a = 1\n",
    "    while prod <= LIMIT:\n",
    "        perfects.add(prod)\n",
    "        a += 1\n",
    "        # 利用滑动更新：去掉 a-1，加上 a+L-1\n",
    "        prod = prod // (a - 1) * (a + L - 1)\n",
    "\n",
    "data = sys.stdin.read().strip().split()\n",
    "T = int(data[0])\n",
    "idx = 1\n",
    "out = []\n",
    "for _ in range(T):\n",
    "    x = int(data[idx]); idx += 1\n",
    "    out.append(\"YES\" if x in perfects else \"NO\")\n"
   ]
  }
 ],
 "metadata": {
  "kernelspec": {
   "display_name": "LeetCode",
   "language": "python",
   "name": "python3"
  },
  "language_info": {
   "codemirror_mode": {
    "name": "ipython",
    "version": 3
   },
   "file_extension": ".py",
   "mimetype": "text/x-python",
   "name": "python",
   "nbconvert_exporter": "python",
   "pygments_lexer": "ipython3",
   "version": "3.13.5"
  }
 },
 "nbformat": 4,
 "nbformat_minor": 5
}
