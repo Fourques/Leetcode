{
 "cells": [
  {
   "cell_type": "code",
   "execution_count": 1,
   "id": "811d67f5",
   "metadata": {},
   "outputs": [],
   "source": [
    "import sys\n",
    "import sys\n",
    "from io import StringIO\n",
    "\n",
    "input_data = \"\"\"100 10\n",
    "\n",
    "\"\"\"\n",
    "\n",
    "sys.stdin = StringIO(input_data)"
   ]
  },
  {
   "cell_type": "code",
   "execution_count": 14,
   "id": "ae9ee248",
   "metadata": {},
   "outputs": [
    {
     "data": {
      "text/plain": [
       "2"
      ]
     },
     "execution_count": 14,
     "metadata": {},
     "output_type": "execute_result"
    }
   ],
   "source": [
    "staff = [1,0,0,0,0]\n",
    "\n",
    "\n",
    "def main(staff):\n",
    "    ans = 0 \n",
    "    n, m = len(staff), sum(staff)\n",
    "    ans = sum(staff)\n",
    "    z  = n-m\n",
    "    if z <= m:\n",
    "        return ans\n",
    "    if z>m:\n",
    "        ans+=(z-m+2)//3\n",
    "\n",
    "    return ans\n",
    "    \n",
    "    \n",
    "main(staff)"
   ]
  },
  {
   "cell_type": "code",
   "execution_count": 17,
   "id": "d98f13c0",
   "metadata": {},
   "outputs": [
    {
     "name": "stdout",
     "output_type": "stream",
     "text": [
      "deque([0])\n",
      "1 deque([0])\n",
      "deque([1])\n",
      "1 deque([0, 1])\n",
      "deque([1, 2])\n",
      "1 deque([2])\n",
      "deque([3])\n",
      "1 deque([2, 3])\n",
      "deque([3, 4])\n",
      "1 deque([2, 4])\n",
      "deque([3, 5])\n",
      "1 deque([2, 4, 5])\n",
      "deque([3, 5, 6])\n",
      "1 deque([4, 6])\n",
      "deque([7])\n",
      "1 deque([4, 6, 7])\n"
     ]
    },
    {
     "data": {
      "text/plain": [
       "[40, 70, 70, 50, 30, 30]"
      ]
     },
     "execution_count": 17,
     "metadata": {},
     "output_type": "execute_result"
    }
   ],
   "source": [
    "nums = [120, 150, 110, 180, 130, 160, 140, 170]\n",
    "n = 3\n",
    "from collections import deque\n",
    "\n",
    "def memory(nums, n):\n",
    "\n",
    "    if n <= 0 or n > len(nums):\n",
    "        return []\n",
    "    max_q = deque()  # 存下标，保持对应值单调递增（队尾小→弹），队头是最大\n",
    "    min_q = deque()  # 存下标，保持对应值单调递减（队尾大→弹），队头是最小\n",
    "    res = []\n",
    "\n",
    "    for i, x in enumerate(nums):\n",
    "        # 维护最大队列（使其对应值递减）\n",
    "        while max_q and nums[max_q[-1]] <= x:\n",
    "            max_q.pop()\n",
    "        max_q.append(i)\n",
    "        print(max_q)\n",
    "\n",
    "        # 维护最小队列（使其对应值递增）\n",
    "        while min_q and nums[min_q[-1]] >= x:\n",
    "            min_q.pop()\n",
    "        min_q.append(i)\n",
    "        print(1,min_q)\n",
    "\n",
    "        # 移除窗口左侧过期下标\n",
    "        left = i - n + 1\n",
    "        if left >= 0:\n",
    "            while max_q[0] < left:\n",
    "                max_q.popleft()\n",
    "            while min_q[0] < left:\n",
    "                min_q.popleft()\n",
    "            res.append(nums[max_q[0]] - nums[min_q[0]])\n",
    "    return res\n",
    "\n",
    "\n",
    "memory(nums, n)"
   ]
  },
  {
   "cell_type": "code",
   "execution_count": null,
   "id": "bbcf76ee",
   "metadata": {},
   "outputs": [],
   "source": [
    "nums = [5, 4, 1, 3, 2, 3, 2]\n",
    "n = 4\n",
    "\n",
    "def pvg(prices, k):\n",
    "    S = sum(prices)\n",
    "    if k <= 0 or S % k != 0:\n",
    "        return False\n",
    "    target = S // k\n",
    "\n",
    "    # 大的先放，能大幅减枝\n",
    "    prices.sort(reverse=True)\n",
    "    if prices[0] > target:  # 最大值都超过目标和，必不可能\n",
    "        return False\n",
    "    \n",
    "    buckets = [0] * k\n",
    "\n",
    "    def dfs(i):\n",
    "        if i == len(prices):\n",
    "            return True\n",
    "        x =prices[i]\n",
    "        seen = set()\n",
    "        for j in range(k):\n",
    "            if buckets[j] in seen:\n",
    "                continue\n",
    "            if buckets[j] + x <= target:\n",
    "                seen.add(buckets[j])\n",
    "                buckets[j] += x\n",
    "                if dfs(i + 1):\n",
    "                    return True\n",
    "                buckets[j] -= x\n",
    "            # 剪枝：若放到一个空桶都放不下，放到别的空桶也一样\n",
    "            if buckets[j] == 0:\n",
    "                break\n",
    "        return False\n",
    "    \n",
    "    return dfs(0)\n",
    "\n",
    "\n"
   ]
  }
 ],
 "metadata": {
  "kernelspec": {
   "display_name": "LeetCode",
   "language": "python",
   "name": "python3"
  },
  "language_info": {
   "codemirror_mode": {
    "name": "ipython",
    "version": 3
   },
   "file_extension": ".py",
   "mimetype": "text/x-python",
   "name": "python",
   "nbconvert_exporter": "python",
   "pygments_lexer": "ipython3",
   "version": "3.13.5"
  }
 },
 "nbformat": 4,
 "nbformat_minor": 5
}
