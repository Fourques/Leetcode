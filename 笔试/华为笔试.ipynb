{
 "cells": [
  {
   "cell_type": "markdown",
   "id": "20b80c9e",
   "metadata": {},
   "source": [
    "安全分析师小王正在开发一款先进的入侵检测系统（IDS），旨在实时监控网络流量并识别潜在的恶意活动：如何在一个复杂的网络环境中，从起始节点出发，到达终止节点（即最后一个监控点），同时最大化累积的安全评分。\n",
    "\n",
    "在这个系统中，整个网络被抽象为一个下标从 0 开始的整数数组 node_scores，其中每个元素表示对应位置的安全评分。正值表示该位置是安全的加分项，而负值则表示存在潜在风险或威胁。分析从起始位置 0（入口节点）开始，每一步可以前进最多 k 步，但不能超过数组边界。\n",
    "\n",
    "也就是说，如果当前位置下标 i，可以选择跳到 [i+1, min(n-1, i+k)] 区间内的任意一个位置。目标是到达数组的最后一个位置（即下标 n-1），并且使得沿途经过的节点安全评分和最大。\n",
    "\n",
    "你的任务是编写一个算法，给定一个整数数组 node_scores 和一个整数 k，该算法应返回能够获得的最大得分。这个得分是通过选择一条从起点到终点的最佳路径来实现的，这条路径上所有节点分数之和即为最大得分，即使某些位置的安全评分为负。"
   ]
  },
  {
   "cell_type": "markdown",
   "id": "6e444a05",
   "metadata": {},
   "source": [
    "每组数据输入三行：\n",
    "\n",
    "第一行：整数 k（最大前进步数）\n",
    "\n",
    "第二行：整数 n（节点数）\n",
    "\n",
    "第三行：n 个整数，表示每个节点的安全评分"
   ]
  },
  {
   "cell_type": "code",
   "execution_count": 11,
   "id": "b17cbc46",
   "metadata": {},
   "outputs": [],
   "source": [
    "import sys\n",
    "from io import StringIO\n",
    "\n",
    "input_data = \"\"\"2\n",
    "8\n",
    "3 -5 -1 0 2 -1 5 -6 -5\n",
    "\"\"\"\n",
    "\n",
    "sys.stdin = StringIO(input_data)"
   ]
  },
  {
   "cell_type": "code",
   "execution_count": 12,
   "id": "25cbf797",
   "metadata": {},
   "outputs": [
    {
     "name": "stdout",
     "output_type": "stream",
     "text": [
      "3\n"
     ]
    }
   ],
   "source": [
    "from collections import deque\n",
    "\n",
    "k = int(sys.stdin.readline().strip())\n",
    "n = int(sys.stdin.readline().strip())\n",
    "save_score = list(map(int,sys.stdin.readline().split()))\n",
    "# dp[n] = max(dp(n~n-k)+save(n-k))\n",
    "dp = [float('-inf')] * n\n",
    "dp[0] = save_score[0]\n",
    "\n",
    "dq = deque([0])\n",
    "\n",
    "for i in range(1,n):\n",
    "    while dq and dq[0] < i-k:\n",
    "        dq.popleft()\n",
    "\n",
    "    dp[i] = dp[dq[0]] + save_score[i]\n",
    "\n",
    "    while dq and dp[dq[-1]] <= dp[i]:\n",
    "        dq.pop()\n",
    "    dq.append(i)\n",
    "\n",
    "print(dp[n-1])\n",
    "\n",
    "\n"
   ]
  },
  {
   "cell_type": "markdown",
   "id": "7d590e5a",
   "metadata": {},
   "source": [
    "题目 2：虚拟货币挖矿算力匹配\n",
    "\n",
    "在一个虚拟货币挖矿系统中，每个矿工都有一定的算力值 n（范围在 1 到 10^18 之间）。\n",
    "系统要求为每个矿工分配一个算力密钥，这个密钥必须小于等于矿工当前算力 n，\n",
    "且密钥是 质数分配数。\n",
    "\n",
    "质数分配数定义：\n",
    "一个数的所有数位之和必须是质数。例如：\n",
    "\n",
    "123 的数位和 = 1 + 2 + 3 = 6，不是质数 ❌\n",
    "\n",
    "122 的数位和 = 1 + 2 + 2 = 5，是质数 ✅\n",
    "\n",
    "除此之外，密钥不能包含重复数字（即数字各位互不相同）。\n",
    "比如：\n",
    "\n",
    "123 ✅（不重复）\n",
    "\n",
    "111 ❌（重复）\n",
    "\n",
    "121 ❌（重复）"
   ]
  },
  {
   "cell_type": "markdown",
   "id": "e816a423",
   "metadata": {},
   "source": [
    "输入一个正整数 n (1 ≤ n ≤ 10^18)。\n",
    "\n",
    "输出 ≤ n 的最大算力密钥，如果不存在返回 -1。"
   ]
  },
  {
   "cell_type": "code",
   "execution_count": 24,
   "id": "a63eb417",
   "metadata": {},
   "outputs": [
    {
     "name": "stdout",
     "output_type": "stream",
     "text": [
      "122\n",
      "-1\n"
     ]
    }
   ],
   "source": [
    "import sys\n",
    "from io import StringIO\n",
    "import math\n",
    "\n",
    "input_data = \"\"\"123\n",
    "\"\"\"\n",
    "\n",
    "sys.stdin = StringIO(input_data)\n",
    "\n",
    "\n",
    "def is_prime(x):\n",
    "    if x < 2 :\n",
    "        return False\n",
    "    for i in range(2,int(math.isqrt(x))+ 1):\n",
    "        if x% i == 0:\n",
    "            return False\n",
    "    return True\n",
    "\n",
    "def valid(x):\n",
    "    s = str(x)\n",
    "    for i in range(len(s) - 1) :\n",
    "        if s[i] > s[i+1]:\n",
    "            return False\n",
    "    digit_sum = sum(int(c) for c in s)\n",
    "    return is_prime(digit_sum)\n",
    "\n",
    "\n",
    "n = int(sys.stdin.readline().strip())\n",
    "for num in range(n, 0, -1):   # 从 n 往下找\n",
    "    if valid(num):\n",
    "        print(num)\n",
    "        break\n",
    "print(-1)"
   ]
  },
  {
   "cell_type": "markdown",
   "id": "40cd1917",
   "metadata": {},
   "source": [
    "我们有一条线性的城市序列，编号 0 到 n-1。\n",
    "\n",
    "第 i 个城市已有的 CDN 机房数量是 cities[i]。\n",
    "\n",
    "如果在城市 i 新建一个 CDN 机房，它的服务范围是 [i-k, i+k]，即覆盖半径为 k 的区间。\n",
    "\n",
    "一个城市的服务质量 = 它能访问到的 CDN 机房总数（即覆盖它的所有机房数之和）。\n",
    "\n",
    "我们现在可以再建 r 个 CDN 机房（可放在任意城市，允许放在已有机房的城市）。\n",
    "\n",
    "目标是：合理选择新建位置，使得所有城市的 最小服务质量 尽可能大，并输出这个最大化后的最小服务质量\n",
    "\n",
    "输入输出\n",
    "\n",
    "输入：\n",
    "\n",
    "第一行：整数 r\n",
    "\n",
    "第二行：整数 k\n",
    "\n",
    "第三行：整数 n\n",
    "\n",
    "第四行：n 个整数，表示 cities 数组\n",
    "\n",
    "输出：\n",
    "\n",
    "一个整数，表示经过最优建设后，全体城市的最小服务质量。"
   ]
  },
  {
   "cell_type": "code",
   "execution_count": null,
   "id": "df5e632b",
   "metadata": {},
   "outputs": [
    {
     "ename": "IndexError",
     "evalue": "list index out of range",
     "output_type": "error",
     "traceback": [
      "\u001b[0;31m---------------------------------------------------------------------------\u001b[0m",
      "\u001b[0;31mIndexError\u001b[0m                                Traceback (most recent call last)",
      "Cell \u001b[0;32mIn[25], line 34\u001b[0m\n\u001b[1;32m     32\u001b[0m \u001b[38;5;28;01mfor\u001b[39;00m i \u001b[38;5;129;01min\u001b[39;00m \u001b[38;5;28mrange\u001b[39m(n):\n\u001b[1;32m     33\u001b[0m     curr_add \u001b[38;5;241m+\u001b[39m\u001b[38;5;241m=\u001b[39m add[i]\n\u001b[0;32m---> 34\u001b[0m     coverage \u001b[38;5;241m=\u001b[39m \u001b[43mcities\u001b[49m\u001b[43m[\u001b[49m\u001b[43mi\u001b[49m\u001b[43m]\u001b[49m \u001b[38;5;241m+\u001b[39m curr_add\n\u001b[1;32m     35\u001b[0m     \u001b[38;5;28;01mif\u001b[39;00m coverage \u001b[38;5;241m<\u001b[39m mid:\n\u001b[1;32m     36\u001b[0m         diff \u001b[38;5;241m=\u001b[39m mid \u001b[38;5;241m-\u001b[39m coverage\n",
      "\u001b[0;31mIndexError\u001b[0m: list index out of range"
     ]
    }
   ],
   "source": [
    "from operator import truediv\n",
    "import sys\n",
    "from io import StringIO\n",
    "import math\n",
    "from turtle import left\n",
    "\n",
    "input_data = \"\"\"0\n",
    "3\n",
    "4\n",
    "5555\n",
    "\"\"\"\n",
    "\n",
    "sys.stdin = StringIO(input_data)\n",
    "\n",
    "\n",
    "input = sys.stdin.readline\n",
    "r = int(input().strip())\n",
    "k = int(input().strip())\n",
    "n = int(input().strip())\n",
    "cities = list(map(int, input().split()))\n",
    "\n",
    "low, high = 0, sum(cities) + r\n",
    "ans = 0\n",
    "\n",
    "while low<high:\n",
    "    mid = (low + high) //2\n",
    "    add = [0] * (n+1)\n",
    "    curr_add = 0\n",
    "    need = 0\n",
    "    ok =True\n",
    "\n",
    "    for i in range(n):\n",
    "        curr_add += add[i\n",
    "        coverage = cities[i] + curr_add\n",
    "        if coverage < mid:\n",
    "            diff = mid - coverage\n",
    "            pos = min(i + k, n - 1)\n",
    "            left = max(0, pos - k)\n",
    "            right = min(n - 1, pos + k)\n",
    "            add[left] += diff\n",
    "            if right + 1 < n:\n",
    "                add[right + 1] -= diff\n",
    "            curr_add += diff\n",
    "            need += diff\n",
    "            if need > r:\n",
    "                ok = False\n",
    "                break\n",
    "\n",
    "    if ok:\n",
    "        ans = mid\n",
    "        low = mid + 1\n",
    "    else:\n",
    "        high = mid - 1\n",
    "\n",
    "print(ans)"
   ]
  }
 ],
 "metadata": {
  "kernelspec": {
   "display_name": "leetcode",
   "language": "python",
   "name": "python3"
  },
  "language_info": {
   "codemirror_mode": {
    "name": "ipython",
    "version": 3
   },
   "file_extension": ".py",
   "mimetype": "text/x-python",
   "name": "python",
   "nbconvert_exporter": "python",
   "pygments_lexer": "ipython3",
   "version": "3.10.6"
  }
 },
 "nbformat": 4,
 "nbformat_minor": 5
}
