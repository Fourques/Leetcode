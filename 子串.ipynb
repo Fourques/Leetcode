{
 "cells": [
  {
   "cell_type": "markdown",
   "id": "d070319b",
   "metadata": {},
   "source": [
    "### 和为 K 的子数组\n",
    "\n",
    "给你一个整数数组 nums 和一个整数 k ，请你统计并返回 该数组中和为 k 的子数组的个数 。\n",
    "\n",
    "子数组是数组中元素的连续非空序列。"
   ]
  },
  {
   "cell_type": "code",
   "execution_count": 91,
   "id": "16df33fc",
   "metadata": {},
   "outputs": [
    {
     "data": {
      "text/plain": [
       "4"
      ]
     },
     "execution_count": 91,
     "metadata": {},
     "output_type": "execute_result"
    }
   ],
   "source": [
    "nums = [1,1,1,0,0]\n",
    "k = 2\n",
    "\n",
    "def add(nums, k):\n",
    "    count = 0\n",
    "    pre_sum = 0\n",
    "    ef = {}\n",
    "    ef[0] = 1\n",
    "    \n",
    "    for i,num in enumerate(nums):\n",
    "        pre_sum += num\n",
    "        res = pre_sum - k\n",
    "        if res in ef:\n",
    "            count += ef[res]\n",
    "\n",
    "        if pre_sum in ef:\n",
    "            ef[pre_sum] +=1\n",
    "        else:\n",
    "            ef[pre_sum] =1\n",
    "    return count\n",
    "\n",
    "add(nums, k)"
   ]
  },
  {
   "cell_type": "code",
   "execution_count": 93,
   "id": "1f7b304b",
   "metadata": {},
   "outputs": [
    {
     "data": {
      "text/plain": [
       "4"
      ]
     },
     "execution_count": 93,
     "metadata": {},
     "output_type": "execute_result"
    }
   ],
   "source": [
    "from collections import defaultdict\n",
    "\n",
    "def subarraySum(nums, k):\n",
    "    count = 0\n",
    "    pre_sum = 0\n",
    "    freq = defaultdict(int)\n",
    "    freq[0] = 1   # 初始情况：前缀和为 0 出现一次\n",
    "\n",
    "    for num in nums:\n",
    "        pre_sum += num                   # 更新累计和\n",
    "        count += freq[pre_sum - k]       # 看看 pre_sum-k 出现过几次\n",
    "        freq[pre_sum] += 1               # 记录这个累计和\n",
    "    return count\n",
    "\n",
    "subarraySum(nums,k)"
   ]
  },
  {
   "cell_type": "markdown",
   "id": "2c761026",
   "metadata": {},
   "source": [
    "### 滑动窗口最大值\n",
    "\n",
    "给你一个整数数组 nums，有一个大小为 k 的滑动窗口从数组的最左侧移动到数组的最右侧。你只可以看到在滑动窗口内的 k 个数字。滑动窗口每次只向右移动一位。\n",
    "\n",
    "返回 滑动窗口中的最大值 。"
   ]
  },
  {
   "cell_type": "code",
   "execution_count": 59,
   "id": "08b3c500",
   "metadata": {},
   "outputs": [
    {
     "data": {
      "text/plain": [
       "[3, 3, 5, 5, 6, 7]"
      ]
     },
     "execution_count": 59,
     "metadata": {},
     "output_type": "execute_result"
    }
   ],
   "source": [
    "nums = [1,3,-1,-3,5,3,6,7]\n",
    "k = 3\n",
    "\n",
    "def find_max(nums, k):\n",
    "    ef = []\n",
    "    for i in range(0,len(nums)-k+1):\n",
    "        max_num = max(nums[i:i+k])\n",
    "        ef.append(max_num)\n",
    "    return ef\n",
    "\n",
    "find_max(nums,k)"
   ]
  },
  {
   "cell_type": "code",
   "execution_count": 86,
   "id": "6c626cf6",
   "metadata": {},
   "outputs": [
    {
     "name": "stdout",
     "output_type": "stream",
     "text": [
      "[1, 3, 3, 5, 6, 7]\n"
     ]
    },
    {
     "data": {
      "text/plain": [
       "[1, 3, 5, 3, 6, 7]"
      ]
     },
     "execution_count": 86,
     "metadata": {},
     "output_type": "execute_result"
    }
   ],
   "source": [
    "nums = [1,3,-1,-3,5,3,6,7]\n",
    "k = 3\n",
    "\n",
    "def find_max_1(nums, k):\n",
    "    nums_sort = sorted(nums)\n",
    "    count = len(nums)-k+1\n",
    "    choose = nums_sort[len(nums)-count:]\n",
    "    print(choose)\n",
    "    ef = []\n",
    "    for num in nums:\n",
    "        if num in choose:\n",
    "            ef.append(num)\n",
    "    return ef\n",
    "\n",
    "find_max_1(nums,k)"
   ]
  },
  {
   "cell_type": "code",
   "execution_count": 90,
   "id": "622746e6",
   "metadata": {},
   "outputs": [
    {
     "data": {
      "text/plain": [
       "[3, 3, 5, 5, 6, 7]"
      ]
     },
     "execution_count": 90,
     "metadata": {},
     "output_type": "execute_result"
    }
   ],
   "source": [
    "from collections import deque\n",
    "nums = [1,3,-1,-3,5,3,6,7]\n",
    "k = 3\n",
    "\n",
    "def look_max(nums, k):\n",
    "    n = len(nums)\n",
    "    if k == 1:\n",
    "        return nums[:]\n",
    "    if n==0  or k ==0 :\n",
    "        return []\n",
    "    \n",
    "    dq = deque()\n",
    "    res = []\n",
    "\n",
    "    for i, num in enumerate(nums):\n",
    "        while dq and nums[dq[-1]] <= num:\n",
    "            dq.pop()\n",
    "        dq.append(i)\n",
    "\n",
    "        if dq[0] <= i-k:\n",
    "            dq.popleft()\n",
    "\n",
    "        if i>= k-1:\n",
    "            res.append(nums[dq[0]])\n",
    "    return res\n",
    "\n",
    "\n",
    "look_max(nums,k)"
   ]
  },
  {
   "cell_type": "markdown",
   "id": "687af2b6",
   "metadata": {},
   "source": [
    "### 最小覆盖子串\n",
    "\n",
    "给你一个字符串 s 、一个字符串 t 。返回 s 中涵盖 t 所有字符的最小子串。如果 s 中不存在涵盖 t 所有字符的子串，则返回空字符串 \"\" 。\n",
    "\n",
    "#### 注意：\n",
    "\n",
    "- 对于 t 中重复字符，我们寻找的子字符串中该字符数量必须不少于 t 中该字符数量。\n",
    "- 如果 s 中存在这样的子串，我们保证它是唯一的答案。\n",
    " "
   ]
  },
  {
   "cell_type": "code",
   "execution_count": 97,
   "id": "916dbfe6",
   "metadata": {},
   "outputs": [
    {
     "data": {
      "text/plain": [
       "'BANC'"
      ]
     },
     "execution_count": 97,
     "metadata": {},
     "output_type": "execute_result"
    }
   ],
   "source": [
    "from collections import Counter\n",
    "\n",
    "s = \"ADOBECODEBANC\"\n",
    "t = \"ABC\"\n",
    "\n",
    "def minWindow(s,t):\n",
    "    if not s or not t:\n",
    "        return \"\"\n",
    "    \n",
    "    need = Counter(t)\n",
    "    Windows = Counter()\n",
    "    required = len(need)\n",
    "    formed = 0\n",
    "\n",
    "    ans_len,ans_l,ans_r = float(\"inf\"),0,0\n",
    "    left = 0\n",
    "\n",
    "    for right,ch in enumerate(s):\n",
    "        if ch in need:\n",
    "            Windows[ch] += 1\n",
    "            if Windows[ch] == need[ch]:\n",
    "                formed += 1\n",
    "        \n",
    "        while formed == required:\n",
    "            if right - left + 1 < ans_len:\n",
    "                ans_len,ans_l,ans_r = right - left + 1,left,right\n",
    "\n",
    "            lc = s[left]\n",
    "            if lc in need:\n",
    "                Windows[lc] -= 1\n",
    "                if Windows[lc] < need[lc]:\n",
    "                    formed -= 1\n",
    "            left += 1\n",
    "\n",
    "    return \"\" if ans_len == float(\"inf\") else s[ans_l:ans_r+1]\n",
    "\n",
    "\n",
    "minWindow(s,t)\n",
    "\n",
    "        \n",
    "\n",
    "                "
   ]
  },
  {
   "cell_type": "code",
   "execution_count": null,
   "id": "f9f05174",
   "metadata": {},
   "outputs": [],
   "source": []
  }
 ],
 "metadata": {
  "kernelspec": {
   "display_name": "LeetCode",
   "language": "python",
   "name": "python3"
  },
  "language_info": {
   "codemirror_mode": {
    "name": "ipython",
    "version": 3
   },
   "file_extension": ".py",
   "mimetype": "text/x-python",
   "name": "python",
   "nbconvert_exporter": "python",
   "pygments_lexer": "ipython3",
   "version": "3.13.5"
  }
 },
 "nbformat": 4,
 "nbformat_minor": 5
}
