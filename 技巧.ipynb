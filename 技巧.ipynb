{
 "cells": [
  {
   "cell_type": "markdown",
   "id": "df81bdc4",
   "metadata": {},
   "source": [
    "### 只出现一次的数字\n",
    "\n",
    "给你一个 非空 整数数组 nums ，除了某个元素只出现一次以外，其余每个元素均出现两次。找出那个只出现了一次的元素。\n",
    "\n",
    "你必须设计并实现线性时间复杂度的算法来解决此问题，且该算法只使用常量额外空间。"
   ]
  },
  {
   "cell_type": "code",
   "execution_count": 2,
   "id": "7f46d7ed",
   "metadata": {},
   "outputs": [
    {
     "data": {
      "text/plain": [
       "4"
      ]
     },
     "execution_count": 2,
     "metadata": {},
     "output_type": "execute_result"
    }
   ],
   "source": [
    "nums = [4,1,2,1,2]\n",
    "\n",
    "# 技巧：按位异或\n",
    "# a ^ a = 0\n",
    "# a ^ 0 = a\n",
    "def sinn(nums):\n",
    "    x = 0\n",
    "    for v in nums:\n",
    "        x ^= v\n",
    "    return x\n",
    "\n",
    "sinn(nums)"
   ]
  },
  {
   "cell_type": "markdown",
   "id": "4d3d94b6",
   "metadata": {},
   "source": [
    "### 多数元素\n",
    "\n",
    "给定一个大小为 n 的数组 nums ，返回其中的多数元素。多数元素是指在数组中出现次数 大于 ⌊ n/2 ⌋ 的元素。\n",
    "\n",
    "你可以假设数组是非空的，并且给定的数组总是存在多数元素。"
   ]
  },
  {
   "cell_type": "code",
   "execution_count": null,
   "id": "3d536a6e",
   "metadata": {},
   "outputs": [],
   "source": [
    "# 数组里的元素两两“不同就互相抵消”\n",
    "\n",
    "def majorityElement(nums):\n",
    "    cand = None\n",
    "    count = 0\n",
    "    for x in nums:\n",
    "        if count == 0:\n",
    "            cand = x\n",
    "            count = 1\n",
    "        elif x == cand:\n",
    "            count += 1\n",
    "        else:\n",
    "            count -= 1\n",
    "    return cand\n"
   ]
  },
  {
   "cell_type": "markdown",
   "id": "1993c5a6",
   "metadata": {},
   "source": [
    "### 75. 颜色分类\n",
    "\n",
    "给定一个包含红色、白色和蓝色、共 n 个元素的数组 nums ，原地 对它们进行排序，使得相同颜色的元素相邻，并按照红色、白色、蓝色顺序排列。\n",
    "\n",
    "我们使用整数 0、 1 和 2 分别表示红色、白色和蓝色。\n",
    "\n",
    "必须在不使用库内置的 sort 函数的情况下解决这个问题。"
   ]
  },
  {
   "cell_type": "code",
   "execution_count": 3,
   "id": "35b7a438",
   "metadata": {},
   "outputs": [],
   "source": [
    "nums = [2,0,2,1,1,0]\n",
    "\n",
    "def sortC(nums):\n",
    "    c0 = c1 = c2 = 0\n",
    "    for x in nums:\n",
    "        if x == 0: c0 += 1\n",
    "        elif x == 1: c1 += 1\n",
    "        else: c2 += 1\n",
    "    i = 0\n",
    "    for _ in range(c0): nums[i] = 0; i += 1\n",
    "    for _ in range(c1): nums[i] = 1; i += 1\n",
    "    for _ in range(c2): nums[i] = 2; i += 1\n",
    "\n",
    "sortC(nums)\n"
   ]
  },
  {
   "cell_type": "markdown",
   "id": "bbb67c8d",
   "metadata": {},
   "source": [
    "### 31. 下一个排列\n",
    "\n",
    "整数数组的一个 排列  就是将其所有成员以序列或线性顺序排列。\n",
    "\n",
    "- 例如，arr = [1,2,3] ，以下这些都可以视作 arr 的排列：[1,2,3]、[1,3,2]、[3,1,2]、[2,3,1] 。\n",
    "\n",
    "整数数组的 下一个排列 是指其整数的下一个字典序更大的排列。更正式地，如果数组的所有排列根据其字典顺序从小到大排列在一个容器中，那么数组的 下一个排列 就是在这个有序容器中排在它后面的那个排列。如果不存在下一个更大的排列，那么这个数组必须重排为字典序最小的排列（即，其元素按升序排列）。\n",
    "\n",
    "- 例如，arr = [1,2,3] 的下一个排列是 [1,3,2] 。\n",
    "- 类似地，arr = [2,3,1] 的下一个排列是 [3,1,2] 。\n",
    "- 而 arr = [3,2,1] 的下一个排列是 [1,2,3] ，因为 [3,2,1] 不存在一个字典序更大的排列。\n",
    "\n",
    "给你一个整数数组 nums ，找出 nums 的下一个排列。\n",
    "\n",
    "必须 原地 修改，只允许使用额外常数空间。"
   ]
  },
  {
   "cell_type": "code",
   "execution_count": null,
   "id": "e4826b3a",
   "metadata": {},
   "outputs": [],
   "source": [
    "nums = [3,2,1]\n",
    "\n",
    "def nextPermutation(nums):\n",
    "    \n",
    "    n = len(nums)\n",
    "    # 1) 找枢轴\n",
    "    i = n - 2\n",
    "    while i >= 0 and nums[i] >= nums[i+1]:\n",
    "        i -= 1\n",
    "\n",
    "    if i >= 0:\n",
    "        # 2) 找后继（从右往左第一个 > nums[i]）\n",
    "        j = n - 1\n",
    "        while nums[j] <= nums[i]:\n",
    "            j -= 1\n",
    "        nums[i], nums[j] = nums[j], nums[i]\n",
    "\n",
    "    # 3) 反转后缀 i+1..n-1\n",
    "    l, r = i + 1, n - 1\n",
    "    while l < r:\n",
    "        nums[l], nums[r] = nums[r], nums[l]\n",
    "        l += 1\n",
    "        r -= 1"
   ]
  },
  {
   "cell_type": "markdown",
   "id": "1d3d1113",
   "metadata": {},
   "source": [
    "### 寻找重复数\n",
    "\n",
    "给定一个包含 n + 1 个整数的数组 nums ，其数字都在 [1, n] 范围内（包括 1 和 n），可知至少存在一个重复的整数。\n",
    "\n",
    "假设 nums 只有 一个重复的整数 ，返回 这个重复的数 。\n",
    "\n",
    "你设计的解决方案必须 不修改 数组 nums 且只用常量级 O(1) 的额外空间。"
   ]
  },
  {
   "cell_type": "code",
   "execution_count": null,
   "id": "8ad61a2d",
   "metadata": {},
   "outputs": [
    {
     "name": "stdout",
     "output_type": "stream",
     "text": [
      "4 3\n",
      "2 2\n",
      "1 3 3\n"
     ]
    },
    {
     "data": {
      "text/plain": [
       "3"
      ]
     },
     "execution_count": 20,
     "metadata": {},
     "output_type": "execute_result"
    }
   ],
   "source": [
    "nums = [3,1,3,4,2]\n",
    "\n",
    "def findn(nums):\n",
    "    # 1) 相遇：慢指针走一步，快指针走两步\n",
    "    slow = nums[0]\n",
    "    fast = nums[nums[0]]\n",
    "    while slow != fast:\n",
    "        slow = nums[slow]\n",
    "        fast = nums[nums[fast]]\n",
    "        print(slow, fast)\n",
    "\n",
    "    # 2) 找环入口：一指针回到起点0，两指针同步走\n",
    "    slow = 0\n",
    "    while slow != fast:\n",
    "        slow = nums[slow]\n",
    "        fast = nums[fast]\n",
    "        print(1,slow,fast)\n",
    "    return slow  # 或 fast\n",
    "\n",
    "findn(nums)\n",
    "\n",
    "    "
   ]
  }
 ],
 "metadata": {
  "kernelspec": {
   "display_name": "LeetCode",
   "language": "python",
   "name": "python3"
  },
  "language_info": {
   "codemirror_mode": {
    "name": "ipython",
    "version": 3
   },
   "file_extension": ".py",
   "mimetype": "text/x-python",
   "name": "python",
   "nbconvert_exporter": "python",
   "pygments_lexer": "ipython3",
   "version": "3.13.5"
  }
 },
 "nbformat": 4,
 "nbformat_minor": 5
}
