{
 "cells": [
  {
   "cell_type": "markdown",
   "id": "1494de40",
   "metadata": {},
   "source": [
    "### 最大子数组和\n",
    "\n",
    "给你一个整数数组 nums ，请你找出一个具有最大和的连续子数组（子数组最少包含一个元素），返回其最大和。\n",
    "\n",
    "子数组是数组中的一个连续部分。"
   ]
  },
  {
   "cell_type": "code",
   "execution_count": 1,
   "id": "f6f9d830",
   "metadata": {},
   "outputs": [
    {
     "data": {
      "text/plain": [
       "6"
      ]
     },
     "execution_count": 1,
     "metadata": {},
     "output_type": "execute_result"
    }
   ],
   "source": [
    "nums = [-2,1,-3,4,-1,2,1,-5,4]\n",
    "\n",
    "def find_max(nums):\n",
    "    max_sum = nums[0]\n",
    "    current_num = nums[0]\n",
    "\n",
    "    for num in nums[1:]:\n",
    "        current_num = max(current_num+num, num)\n",
    "\n",
    "        max_sum = max(current_num, max_sum)\n",
    "\n",
    "    return max_sum\n",
    "\n",
    "find_max(nums)\n",
    "    "
   ]
  },
  {
   "cell_type": "markdown",
   "id": "1e44fcb8",
   "metadata": {},
   "source": [
    "### 合并区间\n",
    "\n",
    "以数组 intervals 表示若干个区间的集合，其中单个区间为 intervals[i] = [starti, endi] 。请你合并所有重叠的区间，并返回 一个不重叠的区间数组，该数组需恰好覆盖输入中的所有区间 。"
   ]
  },
  {
   "cell_type": "code",
   "execution_count": 16,
   "id": "efd5a881",
   "metadata": {},
   "outputs": [
    {
     "name": "stdout",
     "output_type": "stream",
     "text": [
      "[[1, 4]]\n"
     ]
    },
    {
     "data": {
      "text/plain": [
       "[[1, 4]]"
      ]
     },
     "execution_count": 16,
     "metadata": {},
     "output_type": "execute_result"
    }
   ],
   "source": [
    "intervals = [[1,3],[2,6],[8,10],[15,18]]\n",
    "a = [[1,4],[2,3]]\n",
    "def merge(intervals):\n",
    "    output = []\n",
    "    sort_intervals = sorted(intervals)\n",
    "    output.append(sort_intervals[0])\n",
    "    print(output)\n",
    "    for i,inter in enumerate(sort_intervals[1:]):\n",
    "        if inter[0] <= output[-1][1]:\n",
    "            if inter[1] <= output[-1][1]:\n",
    "                continue\n",
    "            else:\n",
    "                output[-1][1] = inter[1]\n",
    "        else:\n",
    "            output.append(inter)\n",
    "    return output\n",
    "\n",
    "merge(a)\n"
   ]
  },
  {
   "cell_type": "markdown",
   "id": "651ce4b7",
   "metadata": {},
   "source": [
    "### 轮转数组\n",
    "\n",
    "给定一个整数数组 nums，将数组中的元素向右轮转 k 个位置，其中 k 是非负数。\n",
    "\n"
   ]
  },
  {
   "cell_type": "code",
   "execution_count": 21,
   "id": "ee6f2b03",
   "metadata": {},
   "outputs": [
    {
     "name": "stdout",
     "output_type": "stream",
     "text": [
      "2\n"
     ]
    }
   ],
   "source": [
    "print(5%3)"
   ]
  },
  {
   "cell_type": "code",
   "execution_count": null,
   "id": "198be6c2",
   "metadata": {},
   "outputs": [],
   "source": [
    "nums = [1,2,3,4,5,6,7]\n",
    "k = 3\n",
    "\n",
    "def rotate(nums, k):\n",
    "    k = k%len(nums)\n",
    "    num_k = nums[-k:]\n",
    "    nums[k:] = nums[0:-k]\n",
    "    nums[:k] = num_k \n",
    "\n",
    "\n",
    "rotate(nums, k)"
   ]
  },
  {
   "cell_type": "code",
   "execution_count": null,
   "id": "fc1a08d8",
   "metadata": {},
   "outputs": [],
   "source": [
    "def rotate(nums, k):\n",
    "    n = len(nums)\n",
    "    k %= n\n",
    "    \n",
    "    def reverse(l, r):\n",
    "        while l < r:\n",
    "            nums[l], nums[r] = nums[r], nums[l]\n",
    "            l += 1\n",
    "            r -= 1\n",
    "\n",
    "    reverse(0, n-1)      # 整体翻转\n",
    "    reverse(0, k-1)      # 翻转前 k 个\n",
    "    reverse(k, n-1)      # 翻转后 n-k 个\n",
    "\n",
    "# 示例 O(1)复杂度\n",
    "nums = [1,2,3,4,5,6,7]\n",
    "rotate(nums, 3)\n",
    "print(nums)  # [5,6,7,1,2,3,4]\n"
   ]
  },
  {
   "cell_type": "markdown",
   "id": "903d6453",
   "metadata": {},
   "source": [
    "### 除自身以外数组的乘积\n",
    "\n",
    "给你一个整数数组 nums，返回 数组 answer ，其中 answer[i] 等于 nums 中除 nums[i] 之外其余各元素的乘积 。\n",
    "\n",
    "题目数据 保证 数组 nums之中任意元素的全部前缀元素和后缀的乘积都在  32 位 整数范围内。\n",
    "\n",
    "请 不要使用除法，且在 O(n) 时间复杂度内完成此题。"
   ]
  },
  {
   "cell_type": "code",
   "execution_count": 3,
   "id": "aa9d29ef",
   "metadata": {},
   "outputs": [
    {
     "data": {
      "text/plain": [
       "[24, 12, 8, 6]"
      ]
     },
     "execution_count": 3,
     "metadata": {},
     "output_type": "execute_result"
    }
   ],
   "source": [
    "nums = [1,2,3,4]\n",
    "\n",
    "def product(nums):\n",
    "    n = len(nums)\n",
    "    answer = [1]*n\n",
    "\n",
    "    prefix = 1 \n",
    "    for i in range(n):\n",
    "        answer[i] = prefix\n",
    "        prefix *= nums[i]\n",
    "\n",
    "    suffix = 1\n",
    "    for i in range(n-1,-1,-1):\n",
    "        answer[i]*=suffix\n",
    "        suffix *= nums[i]\n",
    "\n",
    "    return answer\n",
    "\n",
    "product(nums)"
   ]
  },
  {
   "cell_type": "markdown",
   "id": "70463b48",
   "metadata": {},
   "source": [
    "### 缺失的第一个正数\n",
    "\n",
    "给你一个未排序的整数数组 nums ，请你找出其中没有出现的最小的正整数。\n",
    "\n",
    "请你实现时间复杂度为 O(n) 并且只使用常数级别额外空间的解决方案。"
   ]
  },
  {
   "cell_type": "code",
   "execution_count": 18,
   "id": "fd57a5bd",
   "metadata": {},
   "outputs": [
    {
     "data": {
      "text/plain": [
       "3"
      ]
     },
     "execution_count": 18,
     "metadata": {},
     "output_type": "execute_result"
    }
   ],
   "source": [
    "nums = [1,2,0]\n",
    "\n",
    "def first(nums):\n",
    "    for i in range(1,len(nums)+2):\n",
    "        if i in nums:\n",
    "            continue\n",
    "        else:\n",
    "            return i\n",
    "        \n",
    "first(nums)"
   ]
  },
  {
   "cell_type": "code",
   "execution_count": null,
   "id": "0f40c060",
   "metadata": {},
   "outputs": [
    {
     "data": {
      "text/plain": [
       "3"
      ]
     },
     "execution_count": 20,
     "metadata": {},
     "output_type": "execute_result"
    }
   ],
   "source": [
    "def first_1(nums):\n",
    "    i = 1\n",
    "    while i in nums:\n",
    "        i += 1\n",
    "    return i \n",
    "\n",
    "first_1(nums)"
   ]
  },
  {
   "cell_type": "code",
   "execution_count": null,
   "id": "96c8a8ac",
   "metadata": {},
   "outputs": [],
   "source": [
    "def first_2(nums):\n",
    "    n = len(nums)\n",
    "    for i in range(n):\n",
    "        while 1<=nums[i]<=n and nums[i] != nums[nums[i]-1]:\n",
    "            j = nums[i] - 1\n",
    "            nums[i],nums[j] =nums[j],nums[i]\n",
    "    for i in range(n):\n",
    "        if nums[i] != i + 1:\n",
    "            return i + 1\n",
    "    return n + 1\n"
   ]
  },
  {
   "cell_type": "markdown",
   "id": "edfe81a7",
   "metadata": {},
   "source": [
    "### 拥有最多糖果的孩子\n",
    "\n",
    "有 n 个有糖果的孩子。给你一个数组 candies，其中 candies[i] 代表第 i 个孩子拥有的糖果数目，和一个整数 extraCandies 表示你所有的额外糖果的数量。\n",
    "\n",
    "返回一个长度为 n 的布尔数组 result，如果把所有的 extraCandies 给第 i 个孩子之后，他会拥有所有孩子中 最多 的糖果，那么 result[i] 为 true，否则为 false。\n",
    "\n",
    "注意，允许有多个孩子同时拥有 最多 的糖果数目。\n",
    "\n"
   ]
  },
  {
   "cell_type": "code",
   "execution_count": 1,
   "id": "b209de09",
   "metadata": {},
   "outputs": [
    {
     "data": {
      "text/plain": [
       "[True, True, True, False, True]"
      ]
     },
     "execution_count": 1,
     "metadata": {},
     "output_type": "execute_result"
    }
   ],
   "source": [
    "candies = [2,3,5,1,3]\n",
    "extraCandies = 3\n",
    "\n",
    "def kids(candies, extraCandies):\n",
    "    max_num = max(candies)\n",
    "    for i in range(len(candies)):\n",
    "        if candies[i] >= max_num - extraCandies:\n",
    "            candies[i] = True\n",
    "        else:\n",
    "            candies[i] = False\n",
    "    return candies\n",
    "kids(candies, extraCandies)"
   ]
  },
  {
   "cell_type": "markdown",
   "id": "3b006a16",
   "metadata": {},
   "source": [
    "### 种花问题\n",
    "\n",
    "假设有一个很长的花坛，一部分地块种植了花，另一部分却没有。可是，花不能种植在相邻的地块上，它们会争夺水源，两者都会死去。\n",
    "\n",
    "给你一个整数数组 flowerbed 表示花坛，由若干 0 和 1 组成，其中 0 表示没种植花，1 表示种植了花。另有一个数 n ，能否在不打破种植规则的情况下种入 n 朵花？能则返回 true ，不能则返回 false 。\n",
    "\n"
   ]
  },
  {
   "cell_type": "code",
   "execution_count": 1,
   "id": "e2db1854",
   "metadata": {},
   "outputs": [],
   "source": [
    "from operator import truediv\n",
    "\n",
    "\n",
    "flowerbed = [1,0,0,0,1]\n",
    "n = 1\n",
    "\n",
    "def canflower(flowerbed, n):\n",
    "    i = 0\n",
    "    m = len(flowerbed)\n",
    "    while i<m and n>0:\n",
    "        if flowerbed[i] == 0:\n",
    "            left_ok = (i==0) or (flowerbed[i-1] == 0)\n",
    "            right_ok = (i == m-1) or (flowerbed[i+1] ==0)\n",
    "            if left_ok and right_ok:\n",
    "                flowerbed[i] = 1\n",
    "                n -= 1 \n",
    "                i+=2\n",
    "                continue\n",
    "        i+=1\n",
    "    return n<=0"
   ]
  },
  {
   "cell_type": "markdown",
   "id": "542ea1b7",
   "metadata": {},
   "source": [
    "### 反转字符串中的元音字母\n",
    "\n",
    "给你一个字符串 s ，仅反转字符串中的所有元音字母，并返回结果字符串。\n",
    "\n",
    "元音字母包括 'a'、'e'、'i'、'o'、'u'，且可能以大小写两种形式出现不止一次。"
   ]
  },
  {
   "cell_type": "code",
   "execution_count": null,
   "id": "abcce6f2",
   "metadata": {},
   "outputs": [],
   "source": [
    "s = \"IceCreAm\"\n",
    "\n",
    "def rever(s):\n",
    "    vowels = set(\"aeiouAEIOU\")\n",
    "    s_list = list(s)\n",
    "    i, j = 0, len(s_list) - 1\n",
    "\n",
    "    while i < j:\n",
    "        while i < j and s_list[i] not in vowels:\n",
    "            i += 1\n",
    "        while i < j and s_list[j] not in vowels:\n",
    "            j -= 1\n",
    "        if i < j:\n",
    "            s_list[i], s_list[j] = s_list[j], s_list[i]\n",
    "            i += 1\n",
    "            j -= 1\n",
    "\n",
    "    return \"\".join(s_list)"
   ]
  }
 ],
 "metadata": {
  "kernelspec": {
   "display_name": "leetcode",
   "language": "python",
   "name": "python3"
  },
  "language_info": {
   "codemirror_mode": {
    "name": "ipython",
    "version": 3
   },
   "file_extension": ".py",
   "mimetype": "text/x-python",
   "name": "python",
   "nbconvert_exporter": "python",
   "pygments_lexer": "ipython3",
   "version": "3.10.6"
  }
 },
 "nbformat": 4,
 "nbformat_minor": 5
}
