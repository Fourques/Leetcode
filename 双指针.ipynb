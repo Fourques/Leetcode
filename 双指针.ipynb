{
 "cells": [
  {
   "cell_type": "markdown",
   "id": "9f8d4819",
   "metadata": {},
   "source": [
    "### 移动零\n",
    "\n",
    "给定一个数组 nums，编写一个函数将所有 0 移动到数组的末尾，同时\" 保持非零元素 \"的相对顺序。\n",
    "\n",
    "请注意 ，必须在不复制数组的情况下原地对数组进行操作"
   ]
  },
  {
   "cell_type": "code",
   "execution_count": 4,
   "id": "7f7b02e3",
   "metadata": {},
   "outputs": [
    {
     "name": "stdout",
     "output_type": "stream",
     "text": [
      "{0, 1, 3, 12}\n"
     ]
    },
    {
     "data": {
      "text/plain": [
       "0"
      ]
     },
     "execution_count": 4,
     "metadata": {},
     "output_type": "execute_result"
    }
   ],
   "source": [
    "nums = [0,1,0,3,12]\n",
    "sr = []\n",
    "sr.extend([0])\n",
    "print(set(nums))\n",
    "\n",
    "nums[0]"
   ]
  },
  {
   "cell_type": "code",
   "execution_count": 59,
   "id": "80b516d5",
   "metadata": {},
   "outputs": [
    {
     "data": {
      "text/plain": [
       "[1, 3, 12, 0, 0]"
      ]
     },
     "execution_count": 59,
     "metadata": {},
     "output_type": "execute_result"
    }
   ],
   "source": [
    "nums = [0,1,0,3,12]\n",
    "def move_zero(nums):\n",
    "    nums_zero = []\n",
    "    for i,num in enumerate(nums):\n",
    "        if num == 0:\n",
    "            nums.remove(nums[i])\n",
    "            nums_zero.extend([0])\n",
    "    nums = sorted(nums) + nums_zero\n",
    "    return nums\n",
    "\n",
    "move_zero(nums)"
   ]
  },
  {
   "cell_type": "code",
   "execution_count": 66,
   "id": "b8f44f2b",
   "metadata": {},
   "outputs": [
    {
     "name": "stdout",
     "output_type": "stream",
     "text": [
      "[1, 3, 12, 0, 0]\n"
     ]
    }
   ],
   "source": [
    "nums = [0,1,0,3,12]\n",
    "\n",
    "def moveZeroes(nums):\n",
    "    j = 0  # 下一个非零元素放的位置\n",
    "    for i in range(len(nums)):\n",
    "        if nums[i] != 0:\n",
    "            nums[j] = nums[i]\n",
    "            j += 1\n",
    "\n",
    "    # 把剩余位置填 0\n",
    "    for i in range(j, len(nums)):\n",
    "        nums[i] = 0\n",
    "\n",
    "moveZeroes(nums)\n",
    "print(nums)"
   ]
  },
  {
   "cell_type": "markdown",
   "id": "a1436c7f",
   "metadata": {},
   "source": [
    "### 盛最多水的容器\n",
    "\n",
    "给定一个长度为 n 的整数数组 height 。有 n 条垂线，第 i 条线的两个端点是 (i, 0) 和 (i, height[i]) 。\n",
    "\n",
    "找出其中的两条线，使得它们与 x 轴共同构成的容器可以容纳最多的水。\n",
    "\n",
    "返回容器可以储存的最大水量。\n",
    "\n",
    "说明：你不能倾斜容器。"
   ]
  },
  {
   "cell_type": "code",
   "execution_count": null,
   "id": "f1b91b4a",
   "metadata": {},
   "outputs": [
    {
     "data": {
      "text/plain": [
       "49"
      ]
     },
     "execution_count": 10,
     "metadata": {},
     "output_type": "execute_result"
    }
   ],
   "source": [
    "height = [1,8,6,2,5,4,8,3,7]\n",
    "\n",
    "def max_water(height):\n",
    "    s_max = 0\n",
    "    for i in range(0, len(height)-1):\n",
    "        for j in range(i+1,len(height)):\n",
    "            s = (j-i) * min(height[i],height[j])\n",
    "            if s >= s_max:\n",
    "                s_max = s\n",
    "    return s_max\n",
    "\n",
    "def max_water_1(height):\n",
    "    s_max = 0\n",
    "    left , right = 0,len(height)-1\n",
    "    while left<right:\n",
    "        s = (right-left) * min(height[right],height[left])\n",
    "        # if s >= s_max:\n",
    "        #     s_max = s\n",
    "        # 优化\n",
    "        s_max = max(s,s_max)\n",
    "        if height[left]> height[right]:\n",
    "            right -= 1\n",
    "        else:\n",
    "            left += 1\n",
    "    return s_max\n",
    "max_water(height)\n",
    "\n",
    "max_water_1(height)"
   ]
  },
  {
   "cell_type": "markdown",
   "id": "14f19b21",
   "metadata": {},
   "source": [
    "### 三数之和\n",
    "\n",
    "给你一个整数数组 nums ，判断是否存在三元组 [nums[i], nums[j], nums[k]] 满足 i != j、i != k 且 j != k ，同时还满足 nums[i] + nums[j] + nums[k] == 0 。请你返回所有和为 0 且不重复的三元组。\n",
    "\n",
    "注意：答案中不可以包含重复的三元组。"
   ]
  },
  {
   "cell_type": "code",
   "execution_count": null,
   "id": "5da90721",
   "metadata": {},
   "outputs": [
    {
     "name": "stdout",
     "output_type": "stream",
     "text": [
      "[-4, -1, -1, 0, 1, 2]\n"
     ]
    },
    {
     "data": {
      "text/plain": [
       "[[-1, -1, 2], [-1, 0, 1]]"
      ]
     },
     "execution_count": 40,
     "metadata": {},
     "output_type": "execute_result"
    }
   ],
   "source": [
    "nums = [-1,0,1,2,-1,-4]\n",
    "print(sorted(nums))\n",
    "## t=0 无法判断指针走向\n",
    "def add_nums(nums):\n",
    "    nums_sorted = sorted(nums)\n",
    "    l, r = 0, len(nums_sorted)-1\n",
    "    S_mix =[]\n",
    "    while r>l+1:\n",
    "        t = -(nums_sorted[l] +nums_sorted[r])\n",
    "        if t in nums_sorted[l+1:r]:\n",
    "            S_mix.append([nums_sorted[l],t,nums_sorted[r]])\n",
    "        if t>0:\n",
    "            l +=1\n",
    "        else:\n",
    "            r -=1\n",
    "    return S_mix\n",
    "\n",
    "add_nums(nums)\n"
   ]
  },
  {
   "cell_type": "code",
   "execution_count": 28,
   "id": "55f1c8e4",
   "metadata": {},
   "outputs": [
    {
     "name": "stdout",
     "output_type": "stream",
     "text": [
      "[-10, -5, -5, -4, -4, -3, -2, -2, 0, 0, 1, 2, 2, 2, 2, 5, 5]\n",
      "None\n"
     ]
    }
   ],
   "source": [
    "nums = [2,-3,0,-2,-5,-5,-4,1,2,-2,2,0,2,-4,5,5,-10]\n",
    "\n",
    "a = set(nums)\n",
    "print(sorted(nums))\n",
    "\n",
    "m = [[-1,-1,2],[-1,0,1]]\n",
    "print(m.append(nums))"
   ]
  },
  {
   "cell_type": "code",
   "execution_count": null,
   "id": "c0904098",
   "metadata": {},
   "outputs": [
    {
     "name": "stdout",
     "output_type": "stream",
     "text": [
      "0\n",
      "1\n",
      "2\n",
      "3\n",
      "4\n",
      "5\n"
     ]
    },
    {
     "data": {
      "text/plain": [
       "[[-1, -1, 2], [-1, 0, 1]]"
      ]
     },
     "execution_count": 45,
     "metadata": {},
     "output_type": "execute_result"
    }
   ],
   "source": [
    "nums = [-1,0,1,2,-1,-4]\n",
    "\n",
    "def threeSum(nums):\n",
    "    nums.sort()\n",
    "    n = len(nums)\n",
    "    res = []\n",
    "    for i in range(n):\n",
    "        if i > 0 and nums[i] == nums[i - 1]:\n",
    "            continue\n",
    "        left, right = i + 1, n - 1\n",
    "        target = -nums[i]     # i 固定，去i后面的列表中，寻找与i求和是0的数\n",
    "        while left < right:\n",
    "            s = nums[left] + nums[right]\n",
    "            if s == target:\n",
    "                res.append([nums[i], nums[left], nums[right]])\n",
    "                # 跳过重复的 left / right\n",
    "                left += 1\n",
    "                while left < right and nums[left] == nums[left - 1]:\n",
    "                    left += 1\n",
    "                right -= 1\n",
    "                while left < right and nums[right] == nums[right + 1]:\n",
    "                    right -= 1\n",
    "            elif s < target:\n",
    "                left += 1\n",
    "            else:\n",
    "                right -= 1\n",
    "    return res\n",
    "\n",
    "threeSum(nums)"
   ]
  },
  {
   "cell_type": "markdown",
   "id": "30dbb859",
   "metadata": {},
   "source": [
    "### 接雨水\n",
    " \n",
    "给定 n 个非负整数表示每个宽度为 1 的柱子的高度图，计算按此排列的柱子，下雨之后能接多少雨水。"
   ]
  },
  {
   "cell_type": "code",
   "execution_count": 7,
   "id": "723548d7",
   "metadata": {},
   "outputs": [
    {
     "data": {
      "text/plain": [
       "6"
      ]
     },
     "execution_count": 7,
     "metadata": {},
     "output_type": "execute_result"
    }
   ],
   "source": [
    "height = [0,1,0,2,1,0,1,3,2,1,2,1]\n",
    "\n",
    "def rain(height):\n",
    "    n = len(height)\n",
    "    if n < 3:\n",
    "        return 0\n",
    "    left, right = 0, n-1\n",
    "    left_max = 0\n",
    "    right_max = 0\n",
    "    water = 0\n",
    "    while left <right:\n",
    "        if height[left] <height[right]:\n",
    "            if height[left] >= left_max:\n",
    "                left_max = height[left]\n",
    "            else:\n",
    "                water += left_max -height[left]\n",
    "            left +=1\n",
    "        else:\n",
    "            if height[right] >= right_max:\n",
    "                right_max = height[right]\n",
    "            else:\n",
    "                water += right_max -height[right]\n",
    "            right -=1\n",
    "    return water\n",
    "\n",
    "rain(height)"
   ]
  }
 ],
 "metadata": {
  "kernelspec": {
   "display_name": "LeetCode",
   "language": "python",
   "name": "python3"
  },
  "language_info": {
   "codemirror_mode": {
    "name": "ipython",
    "version": 3
   },
   "file_extension": ".py",
   "mimetype": "text/x-python",
   "name": "python",
   "nbconvert_exporter": "python",
   "pygments_lexer": "ipython3",
   "version": "3.13.5"
  }
 },
 "nbformat": 4,
 "nbformat_minor": 5
}
