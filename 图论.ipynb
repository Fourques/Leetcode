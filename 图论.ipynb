{
 "cells": [
  {
   "cell_type": "markdown",
   "id": "7a2d9614",
   "metadata": {},
   "source": [
    "### 岛屿数量\n",
    "\n",
    "给你一个由 '1'（陆地）和 '0'（水）组成的的二维网格，请你计算网格中岛屿的数量。\n",
    "\n",
    "岛屿总是被水包围，并且每座岛屿只能由水平方向和/或竖直方向上相邻的陆地连接形成。\n",
    "\n",
    "此外，你可以假设该网格的四条边均被水包围。"
   ]
  },
  {
   "cell_type": "code",
   "execution_count": 20,
   "id": "f624d2b9",
   "metadata": {},
   "outputs": [
    {
     "name": "stdout",
     "output_type": "stream",
     "text": [
      "True\n",
      "False\n",
      "True\n"
     ]
    }
   ],
   "source": [
    "grid = []        # 整个网格是空的\n",
    "print(not grid)  # True\n",
    "# print(not grid[0])  # 会报错，因为 grid[0] 不存在\n",
    "\n",
    "grid = [[]]      # 有一行，但这一行是空的\n",
    "print(not grid)    # False\n",
    "print(not grid[0]) # True，因为 grid[0] == []\n"
   ]
  },
  {
   "cell_type": "markdown",
   "id": "14b42006",
   "metadata": {},
   "source": [
    "![DFS](题库图像\\dfs_islands_4x5.gif)"
   ]
  },
  {
   "cell_type": "code",
   "execution_count": null,
   "id": "e854abc3",
   "metadata": {},
   "outputs": [
    {
     "name": "stdout",
     "output_type": "stream",
     "text": [
      "1111111111111111111\n",
      "[(1, 0)]\n",
      "[(1, 0), (0, 1)]\n",
      "1111111111111111111\n",
      "[(1, 0), (1, 1)]\n",
      "[(1, 0), (1, 1), (0, 2)]\n",
      "1111111111111111111\n",
      "[(1, 0), (1, 1), (0, 3)]\n",
      "1111111111111111111\n",
      "[(1, 0), (1, 1), (1, 3)]\n",
      "1111111111111111111\n",
      "1111111111111111111\n",
      "[(1, 0), (2, 1)]\n",
      "1111111111111111111\n",
      "[(1, 0), (2, 0)]\n",
      "1111111111111111111\n",
      "1111111111111111111\n"
     ]
    },
    {
     "data": {
      "text/plain": [
       "1"
      ]
     },
     "execution_count": 7,
     "metadata": {},
     "output_type": "execute_result"
    }
   ],
   "source": [
    "grid = [\n",
    "  [\"1\",\"1\",\"1\",\"1\",\"0\"],\n",
    "  [\"1\",\"1\",\"0\",\"1\",\"0\"],\n",
    "  [\"1\",\"1\",\"0\",\"0\",\"0\"],\n",
    "  [\"0\",\"0\",\"0\",\"0\",\"0\"]\n",
    "]\n",
    "\n",
    "# DFS 深度优先搜索（用显式栈，避免递归深度）\n",
    "def numisland(grid):\n",
    "    if not grid or not grid[0]:\n",
    "        return 0\n",
    "    m, n = len(grid),len(grid[0])\n",
    "    count = 0 \n",
    "    \n",
    "    # 把网格每个格子当“起点”看一眼\n",
    "    for i in range(m):\n",
    "        for j in range(n):\n",
    "            if grid[i][j] == \"1\":\n",
    "                count += 1\n",
    "                stack = [(i, j)]\n",
    "                grid[i][j] = \"0\"\n",
    "                while stack :\n",
    "                    r, c = stack.pop()\n",
    "                    for nr, nc in ((r+1,c),(r-1,c),(r,c+1),(r,c-1)):\n",
    "                        if 0 <= nr <m and 0<=nc<n and grid[nr][nc]==\"1\":     # 边界保护\n",
    "                            grid[nr][nc] = '0'\n",
    "                            stack.append((nr,nc))\n",
    "    return count\n",
    "\n",
    "\n",
    "numisland(grid)"
   ]
  },
  {
   "cell_type": "code",
   "execution_count": null,
   "id": "68c1d0a9",
   "metadata": {},
   "outputs": [],
   "source": [
    "from collections import deque\n",
    "# 双端队列\n",
    "q = deque([(0, 0)])\n",
    "print(q)        # 输出 deque([(0, 0)])\n",
    "print(q.popleft())  # 从队头取出，得到 (0, 0)\n"
   ]
  },
  {
   "cell_type": "markdown",
   "id": "4b83db61",
   "metadata": {},
   "source": [
    "![BFS](题库图像\\bfs_islands_4x5.gif)"
   ]
  },
  {
   "cell_type": "code",
   "execution_count": null,
   "id": "db0e0914",
   "metadata": {},
   "outputs": [
    {
     "name": "stdout",
     "output_type": "stream",
     "text": [
      "popleft\n",
      "deque([(1, 0)])\n",
      "deque([(1, 0), (0, 1)])\n",
      "popleft\n",
      "deque([(0, 1), (2, 0)])\n",
      "deque([(0, 1), (2, 0), (1, 1)])\n",
      "popleft\n",
      "deque([(2, 0), (1, 1), (0, 2)])\n",
      "popleft\n",
      "deque([(1, 1), (0, 2), (2, 1)])\n",
      "popleft\n",
      "popleft\n",
      "deque([(2, 1), (0, 3)])\n",
      "popleft\n",
      "popleft\n",
      "deque([(1, 3)])\n",
      "popleft\n"
     ]
    },
    {
     "data": {
      "text/plain": [
       "1"
      ]
     },
     "execution_count": 10,
     "metadata": {},
     "output_type": "execute_result"
    }
   ],
   "source": [
    "grid = [\n",
    "  [\"1\",\"1\",\"1\",\"1\",\"0\"],\n",
    "  [\"1\",\"1\",\"0\",\"1\",\"0\"],\n",
    "  [\"1\",\"1\",\"0\",\"0\",\"0\"],\n",
    "  [\"0\",\"0\",\"0\",\"0\",\"0\"]\n",
    "]\n",
    "\n",
    "from collections import deque\n",
    "# BFS 广度优先搜索（用队列分层扩散）\n",
    "def numisland(grid):\n",
    "    if not grid or not grid[0]:\n",
    "        return 0\n",
    "    m, n = len(grid),len(grid[0])\n",
    "    count = 0 \n",
    "    \n",
    "    # 把网格每个格子当“起点”看一眼\n",
    "    for i in range(m):\n",
    "        for j in range(n):\n",
    "            if grid[i][j] == \"1\":\n",
    "                count += 1\n",
    "                q = deque([(i, j)])\n",
    "                grid[i][j] = \"0\"\n",
    "                while q:\n",
    "                    print(\"popleft\")\n",
    "                    r, c = q.popleft()\n",
    "                    for nr, nc in ((r+1,c),(r-1,c),(r,c+1),(r,c-1)):\n",
    "                        if 0 <= nr <m and 0<=nc<n and grid[nr][nc]==\"1\":     # 边界保护\n",
    "                            grid[nr][nc] = '0'\n",
    "                            q.append((nr,nc))\n",
    "                            print(q)\n",
    "    return count\n",
    "\n",
    "\n",
    "numisland(grid)"
   ]
  },
  {
   "cell_type": "markdown",
   "id": "a752f687",
   "metadata": {},
   "source": [
    "### 腐烂的橘子\n",
    "\n",
    "在给定的 m x n 网格 grid 中，每个单元格可以有以下三个值之一：\n",
    "\n",
    "- 值 0 代表空单元格；\n",
    "- 值 1 代表新鲜橘子；\n",
    "- 值 2 代表腐烂的橘子。\n",
    "\n",
    "每分钟，腐烂的橘子 周围 4 个方向上相邻 的新鲜橘子都会腐烂。\n",
    "\n",
    "返回 直到单元格中没有新鲜橘子为止所必须经过的最小分钟数。如果不可能，返回 -1 。"
   ]
  },
  {
   "cell_type": "code",
   "execution_count": 56,
   "id": "944a10a7",
   "metadata": {},
   "outputs": [
    {
     "name": "stdout",
     "output_type": "stream",
     "text": [
      "deque([(0, 0)])\n",
      "0 0\n",
      "deque([(1, 0), (0, 1)])\n",
      "1 0\n",
      "deque([(0, 1), (1, 1)])\n",
      "0 1\n",
      "deque([(1, 1), (0, 2)])\n",
      "1 1\n",
      "deque([(0, 2), (2, 1)])\n",
      "deque([(2, 1)])\n",
      "2 1\n",
      "deque([(2, 2)])\n"
     ]
    },
    {
     "data": {
      "text/plain": [
       "5"
      ]
     },
     "execution_count": 56,
     "metadata": {},
     "output_type": "execute_result"
    }
   ],
   "source": [
    "grid = [[2,1,1],[1,1,0],[0,1,1]]\n",
    "\n",
    "from collections import deque\n",
    "\n",
    "def oranges(grid):\n",
    "    if not grid or not grid[0]:\n",
    "        return 0\n",
    "    m, n = len(grid),len(grid[0])\n",
    "    time = -1\n",
    "    vrid = grid\n",
    "\n",
    "    for i in range(m):\n",
    "        for j in range(n):\n",
    "            grid = vrid\n",
    "            if grid[i][j] == 2:\n",
    "                grid[i][j] = 0\n",
    "                q = deque([(i, j)])\n",
    "                t = 0\n",
    "                while q:\n",
    "                    print(q)\n",
    "                    r, c = q.popleft()\n",
    "                    change = 0\n",
    "                    for k1,k2 in ((r+1,c),(r-1,c),(r,c+1),(r,c-1)):\n",
    "                        if 0<=k1<m and 0<=k2<n and grid[k1][k2] == 1:\n",
    "                                grid[k1][k2] = 0\n",
    "                                q.append((k1,k2)) \n",
    "                                change = 1\n",
    "                    if change == 1 :\n",
    "                         print(r,c)\n",
    "                         t +=1\n",
    "                    time = max(time, t)\n",
    "    return time\n",
    "\n",
    "\n",
    "# 没有用“多源 BFS”\n",
    "# 你是“找到一个 2 就从它单独 BFS 一次”，而正确做法是先把所有 2 一起入队，再按**层（每层=1 分钟）**扩散。这是题目的关键。\n",
    "\n",
    "# 时间统计不按“层”计\n",
    "# 你在每次弹出节点时用 change 来决定 t += 1，这是按节点计时，不对。应该是：每一轮处理当前队列长度那么多的节点（这一层），层处理完再 minutes += 1。\n",
    "\n",
    "# 错误的就地修改与复用\n",
    "\n",
    "# vrid = grid、grid = vrid 只是引用同一个对象，不是拷贝。你在第一轮改了，后面循环再用就是被改过的 grid。\n",
    "\n",
    "# 把腐烂橘子和新鲜橘子标成 0 会和“空格”混淆（0 本来表示空）。通常把新鲜橘子从 1 -> 2（被感染）即可，无需变成 0。\n",
    "\n",
    "# 返回值边界\n",
    "# 空网格一般返回 0（没有新鲜橘子需要腐烂），不是 -1。\n",
    "\n",
    "oranges(grid)"
   ]
  },
  {
   "cell_type": "code",
   "execution_count": 49,
   "id": "c48b9d44",
   "metadata": {},
   "outputs": [
    {
     "data": {
      "text/plain": [
       "4"
      ]
     },
     "execution_count": 49,
     "metadata": {},
     "output_type": "execute_result"
    }
   ],
   "source": [
    "grid = [[2,1,1],[1,1,0],[0,1,1]]\n",
    "\n",
    "from collections import deque\n",
    "\n",
    "# 多源 BFS 队列按层推进，每一层代表 1 分钟\n",
    "def orange(grid):\n",
    "    if not grid or not grid[0]:\n",
    "        return 0\n",
    "    m, n = len(grid),len(grid[0])\n",
    "    q = deque()\n",
    "    fresh = 0\n",
    "\n",
    "    # 初始化：把所有腐烂橘子(2)加入队列；统计新鲜橘子(1)数量\n",
    "    for i in range(m):\n",
    "        for j in range(n):\n",
    "            if grid[i][j] == 2:\n",
    "                q.append((i,j))\n",
    "            elif grid[i][j] == 1:\n",
    "                fresh += 1\n",
    "\n",
    "    if fresh == 0:\n",
    "        return 0\n",
    "    \n",
    "    minutes = 0\n",
    "    dirs = [(1,0), (-1,0), (0,1), (0,-1)]\n",
    "    while q and fresh > 0:\n",
    "        for _ in range(len(q)): # 把每一层的所有点pop出，并引入新一层的所有点\n",
    "            r, c = q.popleft()\n",
    "            for dr, dc in dirs:\n",
    "                nr, nc = r + dr, c + dc\n",
    "                if 0 <= nr < m and 0 <= nc < n and grid[nr][nc] == 1:\n",
    "                    grid[nr][nc] = 2  # 感染\n",
    "                    fresh -= 1\n",
    "                    q.append((nr, nc))\n",
    "        minutes += 1  # 一层结束，时间+1\n",
    "\n",
    "    return minutes if fresh == 0 else -1\n",
    "\n",
    "orange(grid)"
   ]
  },
  {
   "cell_type": "markdown",
   "id": "cc82dcc5",
   "metadata": {},
   "source": [
    "### 课程表\n",
    "\n",
    "你这个学期必须选修 numCourses 门课程，记为 0 到 numCourses - 1 。\n",
    "\n",
    "在选修某些课程之前需要一些先修课程。 先修课程按数组 prerequisites 给出，其中 prerequisites[i] = [ai, bi] ，表示如果要学习课程 ai 则 必须 先学习课程  bi 。\n",
    "\n",
    "例如，先修课程对 [0, 1] 表示：想要学习课程 0 ，你需要先完成课程 1 。\n",
    "请你判断是否可能完成所有课程的学习？如果可以，返回 true ；否则，返回 false 。"
   ]
  },
  {
   "cell_type": "code",
   "execution_count": 51,
   "id": "6ef8fd20",
   "metadata": {},
   "outputs": [
    {
     "name": "stdout",
     "output_type": "stream",
     "text": [
      "[[1, 0], [1, 2], [2, 0]]\n"
     ]
    }
   ],
   "source": [
    "a = [[1,0],[1,2],[2,0]]\n",
    "\n",
    "print(sorted(a))"
   ]
  },
  {
   "cell_type": "code",
   "execution_count": null,
   "id": "73ffc996",
   "metadata": {},
   "outputs": [
    {
     "data": {
      "text/plain": [
       "False"
      ]
     },
     "execution_count": 52,
     "metadata": {},
     "output_type": "execute_result"
    }
   ],
   "source": [
    "numCourses = 2\n",
    "prerequisites = [[1,0],[0,1]]\n",
    "\n",
    "from collections import deque\n",
    "\n",
    "# Kahn 拓扑排序（多源 BFS）\n",
    "def canfinish(numCourses, prerequisites):\n",
    "    graph =[[] for _ in range(numCourses)] \n",
    "    indeg = [0]*numCourses\n",
    "    for a, b in prerequisites:\n",
    "        graph[b].append(a)\n",
    "        indeg[a]+=1\n",
    "\n",
    "    q = deque([i for i in range(numCourses) if indeg[i] == 0])\n",
    "    done = 0 \n",
    "\n",
    "    while q:\n",
    "        u = q.popleft()\n",
    "        done += 1\n",
    "        for v in graph[u]:\n",
    "            indeg[v] -= 1\n",
    "            if indeg[v] == 0:\n",
    "                q.append(v)\n",
    "\n",
    "    return done == numCourses \n",
    "\n",
    "canfinish(numCourses, prerequisites)"
   ]
  },
  {
   "cell_type": "code",
   "execution_count": 55,
   "id": "0d2484eb",
   "metadata": {},
   "outputs": [
    {
     "data": {
      "text/plain": [
       "False"
      ]
     },
     "execution_count": 55,
     "metadata": {},
     "output_type": "execute_result"
    }
   ],
   "source": [
    "numCourses = 2\n",
    "prerequisites = [[1,0],[0,1]]\n",
    "\n",
    "from collections import deque\n",
    "\n",
    "# DFS 检测环（颜色标记）\n",
    "def canfinish(numCourses, prerequisites):\n",
    "    graph =[[] for _ in range(numCourses)] \n",
    "    for a, b in prerequisites:\n",
    "        graph[b].append(a)\n",
    "\n",
    "    state = [0] * numCourses\n",
    "\n",
    "    def dfs(u):\n",
    "        if state[u] == 1:\n",
    "            return False\n",
    "        if state[u] == 2:   # 该节点已处理过 => 无需再搜\n",
    "            return True\n",
    "\n",
    "        state[u] = 1        # 标记访问中\n",
    "        for v in graph[u]:\n",
    "            if not dfs(v):\n",
    "                return False\n",
    "        state[u] = 2        # 该节点及其可达后继“无环”\n",
    "        return True\n",
    "\n",
    "    # 3) 可能是非连通图，逐点尝试\n",
    "    for i in range(numCourses):\n",
    "        if state[i] == 0:\n",
    "            if not dfs(i):\n",
    "                return False\n",
    "    return True\n",
    "        \n",
    "\n",
    "canfinish(numCourses, prerequisites)"
   ]
  },
  {
   "cell_type": "markdown",
   "id": "c077cb3f",
   "metadata": {},
   "source": [
    "### 实现 Trie (前缀树)\n",
    "\n",
    "Trie（发音类似 \"try\"）或者说 前缀树 是一种树形数据结构，用于高效地存储和检索字符串数据集中的键。这一数据结构有相当多的应用情景，例如自动补全和拼写检查。\n",
    "\n",
    "请你实现 Trie 类：\n",
    "\n",
    "- Trie() 初始化前缀树对象。\n",
    "\n",
    "- void insert(String word) 向前缀树中插入字符串 word 。\n",
    "\n",
    "- boolean search(String word) 如果字符串 word 在前缀树中，返回 true（即，在检索之前已经插入）；否则，返回 false 。\n",
    "\n",
    "- boolean startsWith(String prefix) 如果之前已经插入的字符串 word 的前缀之一为 prefix ，返回 true ；否则，返回 false 。\n",
    " "
   ]
  },
  {
   "cell_type": "code",
   "execution_count": 65,
   "id": "bc281254",
   "metadata": {},
   "outputs": [
    {
     "name": "stdout",
     "output_type": "stream",
     "text": [
      "apple\n",
      "a\n",
      "all\n",
      "a\n"
     ]
    }
   ],
   "source": [
    "words = ['apple','all']\n",
    "for word in words:\n",
    "    print(word)\n",
    "    print(word[0:1])"
   ]
  },
  {
   "cell_type": "code",
   "execution_count": null,
   "id": "22b85dbe",
   "metadata": {},
   "outputs": [
    {
     "name": "stdout",
     "output_type": "stream",
     "text": [
      "['apple']\n"
     ]
    },
    {
     "data": {
      "text/plain": [
       "False"
      ]
     },
     "execution_count": 74,
     "metadata": {},
     "output_type": "execute_result"
    }
   ],
   "source": [
    "class Trie:\n",
    "\n",
    "    def __init__(self):\n",
    "        self.words = []\n",
    "        \n",
    "\n",
    "    def insert(self, word: str) -> None:\n",
    "        self.words.append(word)\n",
    "        \n",
    "\n",
    "    def search(self, word: str) -> bool:\n",
    "        if word in self.words:\n",
    "            return True\n",
    "        else:\n",
    "            return False\n",
    "        \n",
    "\n",
    "    def startsWith(self, prefix: str) -> bool:\n",
    "        l = len(prefix)\n",
    "        for word in self.words:\n",
    "            if len(word) and word[0:l] == prefix:\n",
    "                return True\n",
    "            else:\n",
    "                continue\n",
    "        return False\n",
    "        \n",
    "trie = Trie()\n",
    "trie.insert(\"apple\")\n",
    "trie.search(\"apple\")\n",
    "trie.search(\"app\")\n",
    "\n",
    "trie.startsWith(\"app\")\n",
    "trie.insert(\"app\")\n",
    "trie.search(\"app\")\n",
    " \n"
   ]
  },
  {
   "cell_type": "code",
   "execution_count": 79,
   "id": "c8765132",
   "metadata": {},
   "outputs": [
    {
     "data": {
      "text/plain": [
       "True"
      ]
     },
     "execution_count": 79,
     "metadata": {},
     "output_type": "execute_result"
    }
   ],
   "source": [
    "class TrieNode:\n",
    "    def __init__(self):\n",
    "        self.children = {}\n",
    "        self.is_end = False\n",
    "    \n",
    "class Trie:\n",
    "    def __init__(self):\n",
    "        self.root = TrieNode()\n",
    "\n",
    "    def insert(self, word: str) -> None:\n",
    "        cur = self.root\n",
    "        for ch in word:\n",
    "            if ch not in cur.children:\n",
    "                cur.children[ch] = TrieNode()\n",
    "            cur = cur.children[ch]\n",
    "        cur.is_end = True\n",
    "\n",
    "    def search(self,word:str) -> bool:\n",
    "        cur = self.root\n",
    "        for ch in word:\n",
    "            if ch not in cur.children:\n",
    "                return False\n",
    "            cur = cur.children[ch]\n",
    "        return cur.is_end\n",
    "    \n",
    "    def startsWith(self,prefix:str)->bool:\n",
    "        cur = self.root\n",
    "        for ch in word:\n",
    "            if ch not in cur.children:\n",
    "                return False\n",
    "            cur = cur.children[ch]\n",
    "        return True\n",
    "            \n",
    "\n",
    "trie = Trie()\n",
    "trie.insert(\"apple\")\n",
    "trie.search(\"apple\")\n",
    "trie.search(\"app\")\n",
    "\n",
    "trie.startsWith(\"app\")\n",
    "trie.insert(\"app\")\n",
    "trie.search(\"app\")"
   ]
  }
 ],
 "metadata": {
  "kernelspec": {
   "display_name": "LeetCode",
   "language": "python",
   "name": "python3"
  },
  "language_info": {
   "codemirror_mode": {
    "name": "ipython",
    "version": 3
   },
   "file_extension": ".py",
   "mimetype": "text/x-python",
   "name": "python",
   "nbconvert_exporter": "python",
   "pygments_lexer": "ipython3",
   "version": "3.13.5"
  }
 },
 "nbformat": 4,
 "nbformat_minor": 5
}
