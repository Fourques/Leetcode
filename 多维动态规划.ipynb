{
 "cells": [
  {
   "cell_type": "markdown",
   "id": "4bcccf35",
   "metadata": {},
   "source": [
    "### 不同路径\n",
    "\n",
    "一个机器人位于一个 m x n 网格的左上角 （起始点在下图中标记为 “Start” ）。\n",
    "\n",
    "机器人每次只能向下或者向右移动一步。机器人试图达到网格的右下角（在下图中标记为 “Finish” ）。\n",
    "\n",
    "问总共有多少条不同的路径？"
   ]
  },
  {
   "cell_type": "code",
   "execution_count": 4,
   "id": "75a10046",
   "metadata": {},
   "outputs": [
    {
     "name": "stdout",
     "output_type": "stream",
     "text": [
      "[[1, 1, 1, 1, 1], [1, 2, 3, 4, 5], [1, 3, 6, 10, 15]]\n"
     ]
    },
    {
     "data": {
      "text/plain": [
       "15"
      ]
     },
     "execution_count": 4,
     "metadata": {},
     "output_type": "execute_result"
    }
   ],
   "source": [
    "m = 3\n",
    "n = 5\n",
    "\n",
    "# dp[i][j]=dp[i−1][j]+dp[i][j−1]\n",
    "def uniquePaths(m, n):\n",
    "    dp = [[1]*n for _ in range(m)]\n",
    "    for i in range(1, m):\n",
    "        for j in range(1, n):\n",
    "            dp[i][j] = dp[i-1][j] + dp[i][j-1]\n",
    "    print(dp)\n",
    "    return dp[m-1][n-1]\n",
    "\n",
    "uniquePaths(m, n)"
   ]
  },
  {
   "cell_type": "markdown",
   "id": "b45393a7",
   "metadata": {},
   "source": [
    "### 64. 最小路径和\n",
    "\n",
    "给定一个包含非负整数的 m x n 网格 grid ，请找出一条从左上角到右下角的路径，使得路径上的数字总和为最小。\n",
    "\n",
    "说明：每次只能向下或者向右移动一步。"
   ]
  },
  {
   "cell_type": "code",
   "execution_count": 12,
   "id": "dc216e20",
   "metadata": {},
   "outputs": [
    {
     "data": {
      "text/plain": [
       "7"
      ]
     },
     "execution_count": 12,
     "metadata": {},
     "output_type": "execute_result"
    }
   ],
   "source": [
    "grid = [[1,3,1],[1,5,1],[4,2,1]]\n",
    "\n",
    "# dp[i][j]=min(dp[i−1][j],dp[i][j-1])+grid[i][j]\n",
    "def minpath(grid):\n",
    "    m , n = len(grid),len(grid[0])\n",
    "\n",
    "    dp = [[0]*n for _ in range(m)]\n",
    "\n",
    "    for i in range(m):\n",
    "        for j in range(n):\n",
    "            if i-1<0 :\n",
    "                dp[i][j] = dp[i][j-1]+grid[i][j]\n",
    "            elif j-1<0:\n",
    "                dp[i][j] = dp[i-1][j]+grid[i][j]\n",
    "            else:\n",
    "                dp[i][j] = min(dp[i-1][j],dp[i][j-1])+grid[i][j]\n",
    "\n",
    "    return dp[m-1][n-1]\n",
    "\n",
    "minpath(grid)"
   ]
  },
  {
   "cell_type": "markdown",
   "id": "ccb52da0",
   "metadata": {},
   "source": [
    "### 最长回文子串\n",
    "\n",
    "给你一个字符串 s，找到 s 中最长的 回文 子串。"
   ]
  },
  {
   "cell_type": "code",
   "execution_count": 77,
   "id": "055ea9ec",
   "metadata": {},
   "outputs": [
    {
     "name": "stdout",
     "output_type": "stream",
     "text": [
      "baba\n",
      "0 1 1\n",
      "0\n",
      "b a\n"
     ]
    },
    {
     "data": {
      "text/plain": [
       "0"
      ]
     },
     "execution_count": 77,
     "metadata": {},
     "output_type": "execute_result"
    }
   ],
   "source": [
    "s = \"babad\"\n",
    "print(s[0:4])\n",
    "print(1//2,2//2,3//2)\n",
    "\n",
    "st = \"baba\"\n",
    "def is_ch(st):\n",
    "    if len(st) == 1:\n",
    "        return 1\n",
    "    for i in range(len(st)//2):\n",
    "        print(i)\n",
    "        print(st[i],st[-i-1])\n",
    "        if st[i] != st[-i-1]:\n",
    "            return 0\n",
    "    return len(st)\n",
    "\n",
    "is_ch(st)"
   ]
  },
  {
   "cell_type": "code",
   "execution_count": 79,
   "id": "e97d7267",
   "metadata": {},
   "outputs": [
    {
     "data": {
      "text/plain": [
       "'bab'"
      ]
     },
     "execution_count": 79,
     "metadata": {},
     "output_type": "execute_result"
    }
   ],
   "source": [
    "s = \"babad\"\n",
    "\n",
    "\n",
    "def long(s):\n",
    "    n =len(s)\n",
    "\n",
    "    dp = []\n",
    "\n",
    "    def is_ch(st):\n",
    "        for i in range(len(st)//2):\n",
    "            if st[i] != st[-i-1]:\n",
    "                return 0\n",
    "        return 1\n",
    "\n",
    "\n",
    "    for i in range(n):\n",
    "        for j in range(i+1):\n",
    "            if is_ch(s[i-j:i+1]):\n",
    "                dp = s[i-j:i+1] if len(s[i-j:i+1]) > len(dp) else dp\n",
    "\n",
    "    return dp\n",
    "\n",
    "long(s)\n",
    "\n"
   ]
  },
  {
   "cell_type": "code",
   "execution_count": null,
   "id": "8ebe7c52",
   "metadata": {},
   "outputs": [],
   "source": [
    "# 回文对称，围绕“中心”向两边比\n",
    "\n",
    "def longestPalindrome(s: str) -> str:\n",
    "    n = len(s)\n",
    "    if n <= 1:\n",
    "        return s\n",
    "\n",
    "    start = end = 0  # 记录答案的左右边界（闭区间）\n",
    "\n",
    "    def expand(l: int, r: int) -> tuple[int, int]:\n",
    "        # 向两侧扩展，返回最长回文的 [L, R]\n",
    "        while l >= 0 and r < n and s[l] == s[r]:\n",
    "            l -= 1\n",
    "            r += 1\n",
    "        return l + 1, r - 1\n",
    "\n",
    "    for i in range(n):\n",
    "        l1, r1 = expand(i, i)       # 奇数中心\n",
    "        if r1 - l1 > end - start:\n",
    "            start, end = l1, r1\n",
    "\n",
    "        l2, r2 = expand(i, i + 1)   # 偶数中心\n",
    "        if r2 - l2 > end - start:\n",
    "            start, end = l2, r2\n",
    "\n",
    "    return s[start:end + 1]\n"
   ]
  },
  {
   "cell_type": "markdown",
   "id": "a040e2d2",
   "metadata": {},
   "source": [
    "### 1143. 最长公共子序列\n",
    "\n",
    "给定两个字符串 text1 和 text2，返回这两个字符串的最长 公共子序列 的长度。如果不存在 公共子序列 ，返回 0 。\n",
    "\n",
    "一个字符串的 子序列 是指这样一个新的字符串：它是由原字符串在不改变字符的相对顺序的情况下删除某些字符（也可以不删除任何字符）后组成的新字符串。\n",
    "\n",
    "- 例如，\"ace\" 是 \"abcde\" 的子序列，但 \"aec\" 不是 \"abcde\" 的子序列。\n",
    "\n",
    "两个字符串的 公共子序列 是这两个字符串所共同拥有的子序列。"
   ]
  },
  {
   "cell_type": "code",
   "execution_count": null,
   "id": "2096331c",
   "metadata": {},
   "outputs": [],
   "source": [
    "text1 = \"abcde\"\n",
    "text2 = \"ace\"\n",
    "\n",
    "# dp[i][j] 表示 text1 的前 i 个字符与 text2 的前 j 个字符的 LCS 长度（即 text1[:i] 与 text2[:j]）。\n",
    "def long_common(text1, text2):\n",
    "    m, n = len(text1), len(text2)\n",
    "    dp = [[0]*(n+1) for _ in range(m+1)]\n",
    "    for i in range(1, m+1):\n",
    "        for j in range(1, n+1):\n",
    "            if text1[i-1] == text2[j-1]:\n",
    "                dp[i][j] = dp[i-1][j-1] + 1\n",
    "            else:\n",
    "                dp[i][j] = max(dp[i-1][j], dp[i][j-1])\n",
    "    return dp[m][n]"
   ]
  },
  {
   "cell_type": "markdown",
   "id": "ffe8c931",
   "metadata": {},
   "source": [
    "### 72. 编辑距离\n",
    "\n",
    "给你两个单词 word1 和 word2， 请返回将 word1 转换成 word2 所使用的最少操作数  。\n",
    "\n",
    "你可以对一个单词进行如下三种操作：\n",
    "\n",
    "插入一个字符\n",
    "删除一个字符\n",
    "替换一个字符"
   ]
  },
  {
   "cell_type": "code",
   "execution_count": null,
   "id": "c1e63acd",
   "metadata": {},
   "outputs": [
    {
     "data": {
      "text/plain": [
       "3"
      ]
     },
     "execution_count": 82,
     "metadata": {},
     "output_type": "execute_result"
    }
   ],
   "source": [
    "word1 = \"horse\"\n",
    "word2 = \"ros\"\n",
    "\n",
    "def mindie(word1,word2):\n",
    "    m, n = len(word1), len(word2)\n",
    "    dp = [[0]*(n+1) for _ in range(m+1)]\n",
    "    for i in range(m+1):\n",
    "        dp[i][0] = i\n",
    "    for j in range(n+1):\n",
    "        dp[0][j] = j\n",
    "\n",
    "    for i in range(1, m+1):\n",
    "        for j in range(1, n+1):\n",
    "            if word1[i-1] == word2[j-1]:\n",
    "                dp[i][j] = dp[i-1][j-1]\n",
    "            else:\n",
    "                dp[i][j] = min(\n",
    "                    dp[i][j-1] + 1,    # 插入\n",
    "                    dp[i-1][j] + 1,    # 删除\n",
    "                    dp[i-1][j-1] + 1   # 替换\n",
    "                )\n",
    "    return dp[m][n]\n",
    "\n",
    "mindie(word1,word2)"
   ]
  }
 ],
 "metadata": {
  "kernelspec": {
   "display_name": "LeetCode",
   "language": "python",
   "name": "python3"
  },
  "language_info": {
   "codemirror_mode": {
    "name": "ipython",
    "version": 3
   },
   "file_extension": ".py",
   "mimetype": "text/x-python",
   "name": "python",
   "nbconvert_exporter": "python",
   "pygments_lexer": "ipython3",
   "version": "3.13.5"
  }
 },
 "nbformat": 4,
 "nbformat_minor": 5
}
