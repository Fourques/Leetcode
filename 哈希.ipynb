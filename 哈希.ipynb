{
 "cells": [
  {
   "cell_type": "markdown",
   "id": "18f38577",
   "metadata": {},
   "source": [
    "# 字典语法"
   ]
  },
  {
   "cell_type": "code",
   "execution_count": 13,
   "id": "1f8aa56f",
   "metadata": {},
   "outputs": [
    {
     "data": {
      "text/plain": [
       "dict_items([('a', 1), ('b', 2)])"
      ]
     },
     "execution_count": 13,
     "metadata": {},
     "output_type": "execute_result"
    }
   ],
   "source": [
    "d = {\"a\": 1, \"b\": 2}\n",
    "\n",
    "len(d)                     # 键值对数量\n",
    "\"a\" in d                   # 只检查“键”是否存在 -> True\n",
    "1 in d.values()            # 检查值需这样写\n",
    "\n",
    "d.keys()    # 动态“视图”，可迭代：dict_keys(['a','b'])\n",
    "d.values()  # dict_values([1,2])\n",
    "d.items()   # dict_items([('a',1), ('b',2)])\n"
   ]
  },
  {
   "cell_type": "markdown",
   "id": "6d9d4734",
   "metadata": {},
   "source": [
    "### 两数之和\n",
    "\n",
    "给定一个整数数组 nums 和一个整数目标值 target，请你在该数组中找出 和为目标值 target  的那 两个 整数，并返回它们的数组下标。\n",
    "\n",
    "你可以假设每种输入只会对应一个答案，并且你不能使用两次相同的元素。\n",
    "\n",
    "你可以按任意顺序返回答案"
   ]
  },
  {
   "cell_type": "code",
   "execution_count": 2,
   "id": "20bc5a13",
   "metadata": {},
   "outputs": [
    {
     "name": "stdout",
     "output_type": "stream",
     "text": [
      "{2: 0}\n"
     ]
    },
    {
     "data": {
      "text/plain": [
       "[0, 1]"
      ]
     },
     "execution_count": 2,
     "metadata": {},
     "output_type": "execute_result"
    }
   ],
   "source": [
    "nums = [2,7,11,15]\n",
    "target = 9\n",
    "\n",
    "def twoSum(nums, target):\n",
    "    hashmap = {}  # 记录值和索引\n",
    "    for i, num in enumerate(nums):\n",
    "        diff = target - num\n",
    "        if diff in hashmap:\n",
    "            return [hashmap[diff], i]\n",
    "        hashmap[num] = i\n",
    "        print(hashmap)\n",
    "\n",
    "twoSum(nums, target)"
   ]
  },
  {
   "cell_type": "markdown",
   "id": "b426cd85",
   "metadata": {},
   "source": [
    "### 字母异位词分组\n",
    "\n",
    "给你一个字符串数组，请你将 字母异位词 组合在一起。可以按任意顺序返回结果列表。"
   ]
  },
  {
   "cell_type": "code",
   "execution_count": 14,
   "id": "244106da",
   "metadata": {},
   "outputs": [
    {
     "data": {
      "text/plain": [
       "[['eat', 'tea', 'ate'], ['tan', 'nat'], ['bat']]"
      ]
     },
     "execution_count": 14,
     "metadata": {},
     "output_type": "execute_result"
    }
   ],
   "source": [
    "strs = [\"eat\", \"tea\", \"tan\", \"ate\", \"nat\", \"bat\"]\n",
    "\n",
    "def main(strs):\n",
    "    es = {}\n",
    "    for e in strs:\n",
    "        key = ''.join(sorted(e))\n",
    "        if key not in es:\n",
    "            es[key] = []\n",
    "        es[key].append(e)\n",
    "    return list(es.values())\n",
    "\n",
    "\n",
    "main(strs)"
   ]
  },
  {
   "cell_type": "code",
   "execution_count": 16,
   "id": "feb2ee60",
   "metadata": {},
   "outputs": [
    {
     "name": "stdout",
     "output_type": "stream",
     "text": [
      "defaultdict(<class 'list'>, {})\n"
     ]
    },
    {
     "data": {
      "text/plain": [
       "[['eat', 'tea', 'ate'], ['tan', 'nat'], ['bat']]"
      ]
     },
     "execution_count": 16,
     "metadata": {},
     "output_type": "execute_result"
    }
   ],
   "source": [
    "from collections import defaultdict\n",
    "\n",
    "def groupAnagrams(strs):\n",
    "    # 用字典存储异位词分组\n",
    "    anagrams = defaultdict(list)\n",
    "    print(anagrams)\n",
    "    for s in strs:\n",
    "        # 将字符串排序作为 key\n",
    "        key = ''.join(sorted(s))\n",
    "        anagrams[key].append(s)\n",
    "    # 返回结果\n",
    "    return list(anagrams.values())\n",
    "\n",
    "groupAnagrams(strs)\n"
   ]
  },
  {
   "cell_type": "markdown",
   "id": "e997b23f",
   "metadata": {},
   "source": [
    "### 最长连续序列\n",
    "\n",
    "给定一个未排序的整数数组 nums ，找出数字连续的最长序列（不要求序列元素在原数组中连续）的长度。\n",
    "\n",
    "请你设计并实现时间复杂度为 O(n) 的算法解决此问题。"
   ]
  },
  {
   "cell_type": "code",
   "execution_count": 53,
   "id": "827b689c",
   "metadata": {},
   "outputs": [
    {
     "name": "stdout",
     "output_type": "stream",
     "text": [
      "200\n"
     ]
    }
   ],
   "source": [
    "nums = [100 ,4 ,200 ,1 ,3 ,2]\n",
    "nums_1 = []\n",
    "print(nums[2])"
   ]
  },
  {
   "cell_type": "code",
   "execution_count": 55,
   "id": "2adcc374",
   "metadata": {},
   "outputs": [
    {
     "name": "stdout",
     "output_type": "stream",
     "text": [
      "[1, 2, 3, 4, 100, 200]\n",
      "2\n",
      "3\n",
      "4\n",
      "[]\n"
     ]
    },
    {
     "data": {
      "text/plain": [
       "0"
      ]
     },
     "execution_count": 55,
     "metadata": {},
     "output_type": "execute_result"
    }
   ],
   "source": [
    "def main(nums):\n",
    "    nums_sorted = sorted(nums)\n",
    "    print(nums_sorted)\n",
    "    count = 1\n",
    "    max_count = 1\n",
    "    if  len(nums_sorted) == 0: \n",
    "        return 0\n",
    "    for i in range(0, len(nums_sorted)-1):\n",
    "        if nums_sorted[i]+ 1 == nums_sorted[i+1]:\n",
    "            count += 1\n",
    "            print(count)\n",
    "        elif nums_sorted[i]+ 1 < nums_sorted[i+1]:\n",
    "            count = 1\n",
    "        else:\n",
    "            continue\n",
    "        if max_count <= count:\n",
    "            max_count = count\n",
    "    if max_count == 1:\n",
    "        max_count = 0\n",
    "    return max_count\n",
    "\n",
    "main(nums)\n",
    "main(nums_1)\n"
   ]
  },
  {
   "cell_type": "code",
   "execution_count": 62,
   "id": "1f6b8ecf",
   "metadata": {},
   "outputs": [
    {
     "name": "stdout",
     "output_type": "stream",
     "text": [
      "{0, 1, 100, 101, 102, 103}\n",
      "4\n",
      "{0, 1, 2, 3, 4, 5, 6, 7, 8}\n",
      "9\n",
      "{0, 1, 2}\n",
      "3\n",
      "0\n"
     ]
    }
   ],
   "source": [
    "def longestConsecutive(nums):\n",
    "    if not nums:\n",
    "        return 0\n",
    "\n",
    "    s = set(nums)        # 去重 + O(1) 查询\n",
    "    print(s)\n",
    "    longest = 0\n",
    "\n",
    "    for x in s:\n",
    "        # 只有当 x 是序列起点（x-1 不存在）时才启动计数\n",
    "        if x - 1 not in s:\n",
    "            y = x\n",
    "            while y in s:\n",
    "                y += 1\n",
    "            longest = max(longest, y - x)\n",
    "\n",
    "    return longest\n",
    "\n",
    "\n",
    "# 测试\n",
    "print(longestConsecutive([0,100,1,101,102,103]))           # 4\n",
    "print(longestConsecutive([0,3,7,2,5,8,4,6,0,1]))       # 9\n",
    "print(longestConsecutive([1,0,1,2]))                   # 3\n",
    "print(longestConsecutive([]))                          # 0\n"
   ]
  },
  {
   "cell_type": "code",
   "execution_count": 86,
   "id": "fa1a8fa6",
   "metadata": {},
   "outputs": [
    {
     "name": "stdout",
     "output_type": "stream",
     "text": [
      "原始列表： [10, 2, 7, 5, 3, 15]\n",
      "转成 set： {2, 3, 5, 7, 10, 15}\n",
      "排序后： [2, 3, 5, 7, 10, 15]\n"
     ]
    }
   ],
   "source": [
    "# 演示 set 的无序性\n",
    "nums = [10, 2, 7, 5, 3, 15]\n",
    "\n",
    "s = set(nums)\n",
    "print(\"原始列表：\", nums)\n",
    "print(\"转成 set：\", s)\n",
    "\n",
    "# 多次运行看看输出\n",
    "# 有时候是 {2, 3, 5, 7, 10, 15}\n",
    "# 有时候可能是 {10, 2, 3, 5, 7, 15}\n",
    "# 顺序不是固定的\n",
    "\n",
    "# 如果要真正排序，必须手动 sorted\n",
    "print(\"排序后：\", sorted(s))\n"
   ]
  }
 ],
 "metadata": {
  "kernelspec": {
   "display_name": "LeetCode",
   "language": "python",
   "name": "python3"
  },
  "language_info": {
   "codemirror_mode": {
    "name": "ipython",
    "version": 3
   },
   "file_extension": ".py",
   "mimetype": "text/x-python",
   "name": "python",
   "nbconvert_exporter": "python",
   "pygments_lexer": "ipython3",
   "version": "3.13.5"
  }
 },
 "nbformat": 4,
 "nbformat_minor": 5
}
