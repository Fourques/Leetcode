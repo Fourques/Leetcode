{
 "cells": [
  {
   "cell_type": "markdown",
   "id": "e76e3580",
   "metadata": {},
   "source": [
    "### 矩阵置零\n",
    "\n",
    "给定一个 m x n 的矩阵，如果一个元素为 0 ，则将其所在行和列的所有元素都设为 0 。请使用 原地 算法。"
   ]
  },
  {
   "cell_type": "code",
   "execution_count": 10,
   "id": "989cef89",
   "metadata": {},
   "outputs": [
    {
     "name": "stdout",
     "output_type": "stream",
     "text": [
      "[0, [1, 0, 1], [1, 1, 1]]\n"
     ]
    }
   ],
   "source": [
    "matrix = [[1,1,1],[1,0,1],[1,1,1]]\n",
    "\n",
    "matrix[0]= 0\n",
    "print(matrix)"
   ]
  },
  {
   "cell_type": "code",
   "execution_count": null,
   "id": "42c9313d",
   "metadata": {},
   "outputs": [
    {
     "name": "stdout",
     "output_type": "stream",
     "text": [
      "[[1, 0, 1], [0, 0, 1], [1, 1, 1]]\n",
      "[[1, 0, 1], [0, 0, 0], [1, 1, 1]]\n",
      "[[1, 0, 1], [0, 0, 0], [1, 0, 1]]\n",
      "[[1, 0, 1], [0, 0, 0], [1, 0, 1]]\n",
      "[[1, 0, 1], [0, 0, 0], [1, 0, 1]]\n"
     ]
    }
   ],
   "source": [
    "matrix = [[1,1,1],[1,0,1],[1,1,1]]\n",
    "\n",
    "def setzero(matrix):\n",
    "    m,n = len(matrix),len(matrix[0])\n",
    "\n",
    "    row0 = any(matrix[0][j]==0 for j in range(n))\n",
    "    col0 = any(matrix[i][0]==0 for i in range(m))\n",
    "\n",
    "    for i in range(1, m):\n",
    "        for j in range(1, n):\n",
    "            if matrix[i][j] == 0:\n",
    "                matrix[i][0] = 0\n",
    "                matrix[0][j] = 0\n",
    "\n",
    "    for i in range(1, m):\n",
    "        if matrix[i][0] == 0:\n",
    "            for j in range(1, n):\n",
    "                matrix[i][j] = 0\n",
    "\n",
    "    for j in range(1, n):\n",
    "        if matrix[0][j] == 0:\n",
    "            for i in range(1, m):\n",
    "                matrix[i][j] = 0\n",
    "\n",
    "    if row0:\n",
    "        for j in range(n):\n",
    "            matrix[0][j] = 0\n",
    "    if col0:\n",
    "        for i in range(m):\n",
    "            matrix[i][0] = 0\n",
    "\n",
    "\n",
    "setzero(matrix)"
   ]
  },
  {
   "cell_type": "markdown",
   "id": "814bc1d3",
   "metadata": {},
   "source": [
    "### 螺旋矩阵\n",
    "\n",
    "给你一个 m 行 n 列的矩阵 matrix ，请按照 顺时针螺旋顺序 ，返回矩阵中的所有元素。"
   ]
  },
  {
   "cell_type": "code",
   "execution_count": 93,
   "id": "2b5670a3",
   "metadata": {},
   "outputs": [
    {
     "name": "stdout",
     "output_type": "stream",
     "text": [
      "[[4, 5, 6]]\n",
      "[1, 2, 3]\n",
      "[1, 2, 3, 9, 8, 7]\n"
     ]
    }
   ],
   "source": [
    "matrix = [[1,2,3],[4,5,6],[7,8,9]]\n",
    "\n",
    "print(matrix[1:2])\n",
    "\n",
    "res = []\n",
    "res += matrix[0][:]\n",
    "print(res)\n",
    "\n",
    "res += matrix[2][::-1]\n",
    "print(res)"
   ]
  },
  {
   "cell_type": "code",
   "execution_count": null,
   "id": "959a35cb",
   "metadata": {},
   "outputs": [
    {
     "data": {
      "text/plain": [
       "[1, 4, 7]"
      ]
     },
     "execution_count": 153,
     "metadata": {},
     "output_type": "execute_result"
    }
   ],
   "source": [
    "matrix = [[1,2,3],[4,5,6],[7,8,9]]\n",
    "\n",
    "def rotate(matrix):\n",
    "    top, left = 0,0\n",
    "    m, n = len(matrix),len(matrix[0])\n",
    "    bottom, right = m-1, n-1\n",
    "\n",
    "    res = []\n",
    "    def back(matrix, res):\n",
    "        m, n = len(matrix),len(matrix[0])\n",
    "        res += matrix[0][:]\n",
    "        if m>=3 or n>=3:\n",
    "            for r in range(1, m-1):\n",
    "                res.append(matrix[r][n-1])\n",
    "        if m>=2:\n",
    "            res += matrix[m-1][::-1]\n",
    "        if m>=3 and n>=3:\n",
    "            for r in range(m-2, 0, -1):\n",
    "                res.append(matrix[r][0])\n",
    "\n",
    "    while top<=right and left<=bottom:\n",
    "        sub = [row[left:right+1] for row in matrix[top:bottom+1]]\n",
    "        back(sub,res)\n",
    "\n",
    "        top += 1\n",
    "        bottom -= 1\n",
    "        left += 1\n",
    "        right -= 1\n",
    "        \n",
    "    return res\n",
    "\n",
    "rotate(matrix)\n",
    "\n"
   ]
  },
  {
   "cell_type": "code",
   "execution_count": null,
   "id": "313925d0",
   "metadata": {},
   "outputs": [],
   "source": [
    "def spiralOrder(matrix):\n",
    "    if not matrix or not matrix[0]:\n",
    "        return []\n",
    "    m, n = len(matrix), len(matrix[0])\n",
    "    top, bottom, left, right = 0, m - 1, 0, n - 1\n",
    "    res = []\n",
    "\n",
    "    while top <= bottom and left <= right:\n",
    "        # 1) 上边：左→右\n",
    "        for j in range(left, right + 1):\n",
    "            res.append(matrix[top][j])\n",
    "        top += 1\n",
    "\n",
    "        # 2) 右边：上→下\n",
    "        for i in range(top, bottom + 1):\n",
    "            res.append(matrix[i][right])\n",
    "        right -= 1\n",
    "\n",
    "        # 3) 下边：右→左（仍有行）\n",
    "        if top <= bottom:\n",
    "            for j in range(right, left - 1, -1):\n",
    "                res.append(matrix[bottom][j])\n",
    "            bottom -= 1\n",
    "\n",
    "        # 4) 左边：下→上（仍有列）\n",
    "        if left <= right:\n",
    "            for i in range(bottom, top - 1, -1):\n",
    "                res.append(matrix[i][left])\n",
    "            left += 1\n",
    "\n",
    "    return res\n"
   ]
  },
  {
   "cell_type": "markdown",
   "id": "5d0d8537",
   "metadata": {},
   "source": [
    "### 旋转图像\n",
    "\n",
    "给定一个 n × n 的二维矩阵 matrix 表示一个图像。请你将图像顺时针旋转 90 度。\n",
    "\n",
    "你必须在 原地 旋转图像，这意味着你需要直接修改输入的二维矩阵。请不要 使用另一个矩阵来旋转图像。"
   ]
  },
  {
   "cell_type": "code",
   "execution_count": 156,
   "id": "3b397d07",
   "metadata": {},
   "outputs": [
    {
     "name": "stdout",
     "output_type": "stream",
     "text": [
      "[[1, 4, 7], [2, 5, 8], [3, 6, 9]]\n",
      "[[7, 4, 1], [8, 5, 2], [9, 6, 3]]\n"
     ]
    }
   ],
   "source": [
    "matrix = [[1,2,3],[4,5,6],[7,8,9]]\n",
    "\n",
    "def rotate_matrix(matrix):\n",
    "    n = len(matrix)\n",
    "    # 1. 转置\n",
    "    for i in range(n):\n",
    "        for j in range(i+1, n):\n",
    "            matrix[i][j], matrix[j][i] = matrix[j][i], matrix[i][j]\n",
    "    print(matrix)\n",
    "    # 2. 每行反转\n",
    "    for i in range(n):\n",
    "        matrix[i].reverse()\n",
    "    print(matrix)\n",
    "\n",
    "rotate_matrix(matrix)\n"
   ]
  },
  {
   "cell_type": "markdown",
   "id": "c9b0a1d0",
   "metadata": {},
   "source": [
    "### 搜索二维矩阵 II\n",
    "\n",
    "编写一个高效的算法来搜索 m x n 矩阵 matrix 中的一个目标值 target 。该矩阵具有以下特性：\n",
    "\n",
    "每行的元素从左到右升序排列。\n",
    "每列的元素从上到下升序排列。"
   ]
  },
  {
   "cell_type": "code",
   "execution_count": 166,
   "id": "a7813ca9",
   "metadata": {},
   "outputs": [],
   "source": [
    "matrix = [[1,4,7,11,15],[2,5,8,12,19],[3,6,9,16,22],[10,13,14,17,24],[18,21,23,26,30]]\n",
    "target = 5\n",
    "\n",
    "def searchMatrix(matrix,target):\n",
    "    m = len(matrix[0])\n",
    "    row_max = 0\n",
    "    if target in matrix[0]:\n",
    "        return True\n",
    "    for i in range(m-1):\n",
    "        if target > matrix[0][-1]:\n",
    "            row_max = m-1\n",
    "        elif target>matrix[0][i] and target<matrix[0][i+1]:\n",
    "            row_max = i\n",
    "    for i in range(m-1):\n",
    "        if target > matrix[0][-1]:\n",
    "            row_max = m-1\n",
    "        elif target>matrix[0][i] and target<matrix[0][i+1]:\n",
    "            row_max = i\n",
    "    \n",
    "\n",
    "searchMatrix(matrix, target)"
   ]
  },
  {
   "cell_type": "code",
   "execution_count": 167,
   "id": "e862e6d8",
   "metadata": {},
   "outputs": [
    {
     "data": {
      "text/plain": [
       "True"
      ]
     },
     "execution_count": 167,
     "metadata": {},
     "output_type": "execute_result"
    }
   ],
   "source": [
    "matrix = [[1,4,7,11,15],[2,5,8,12,19],[3,6,9,16,22],[10,13,14,17,24],[18,21,23,26,30]]\n",
    "target = 5\n",
    "\n",
    "def search(matrix,target):\n",
    "    m, n = len(matrix),len(matrix[0])\n",
    "    r, c = 0, n-1\n",
    "    while r<m and c>=0:\n",
    "        x = matrix[r][c]\n",
    "        if x == target:\n",
    "            return True\n",
    "        elif x > target:\n",
    "            c -= 1\n",
    "        else:\n",
    "            r += 1\n",
    "    return False\n",
    "        \n",
    "search(matrix, target)"
   ]
  }
 ],
 "metadata": {
  "kernelspec": {
   "display_name": "LeetCode",
   "language": "python",
   "name": "python3"
  },
  "language_info": {
   "codemirror_mode": {
    "name": "ipython",
    "version": 3
   },
   "file_extension": ".py",
   "mimetype": "text/x-python",
   "name": "python",
   "nbconvert_exporter": "python",
   "pygments_lexer": "ipython3",
   "version": "3.13.5"
  }
 },
 "nbformat": 4,
 "nbformat_minor": 5
}
