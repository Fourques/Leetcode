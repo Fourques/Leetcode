{
 "cells": [
  {
   "cell_type": "code",
   "execution_count": null,
   "id": "ea7696c9",
   "metadata": {},
   "outputs": [],
   "source": [
    "import sys\n",
    "from io import StringIO\n",
    "\n",
    "input_data = \"\"\"3\n",
    "1 1\n",
    "2\n",
    "5 1\n",
    "1 2 4 7 8\n",
    "5 3\n",
    "6 4 7 10 5\n",
    "\"\"\"\n",
    "\n",
    "sys.stdin = StringIO(input_data)"
   ]
  },
  {
   "cell_type": "markdown",
   "id": "0be7c4c5",
   "metadata": {},
   "source": [
    "### 基础：input()"
   ]
  },
  {
   "cell_type": "code",
   "execution_count": null,
   "id": "77a95a4e",
   "metadata": {},
   "outputs": [],
   "source": [
    "n = int(input())                 # 读一个整数\n",
    "a, b = map(int, input().split()) # 读一行多个整数\n",
    "arr = list(map(int, input().split())) # 读一行整数数组"
   ]
  },
  {
   "cell_type": "markdown",
   "id": "d2c4c8de",
   "metadata": {},
   "source": [
    "### 推荐"
   ]
  },
  {
   "cell_type": "code",
   "execution_count": null,
   "id": "2b0aaed3",
   "metadata": {},
   "outputs": [],
   "source": [
    "import sys\n",
    "input = sys.stdin.readline  # 替换掉 input，更快"
   ]
  },
  {
   "cell_type": "code",
   "execution_count": null,
   "id": "4434f68d",
   "metadata": {},
   "outputs": [],
   "source": [
    "# 读单个整数\n",
    "n = int(input())\n",
    "\n",
    "# 读一行多个整数\n",
    "a, b = map(int, input().split())\n",
    "\n",
    "# 读一行数组\n",
    "arr = list(map(int, input().split()))\n",
    "\n",
    "# 连续多行，循环读\n",
    "for _ in range(n):\n",
    "    x, y = map(int, input().split())\n",
    "    ...\n"
   ]
  },
  {
   "cell_type": "markdown",
   "id": "e390509f",
   "metadata": {},
   "source": [
    "### 批量读取：sys.stdin.read()"
   ]
  },
  {
   "cell_type": "code",
   "execution_count": null,
   "id": "db730fb6",
   "metadata": {},
   "outputs": [],
   "source": [
    "import sys\n",
    "data = sys.stdin.read().split()   # 一次性读所有内容并按空格/换行分割\n",
    "it = iter(data)\n",
    "\n",
    "n = int(next(it))\n",
    "arr = [int(next(it)) for _ in range(n)]"
   ]
  },
  {
   "cell_type": "markdown",
   "id": "43698be9",
   "metadata": {},
   "source": [
    "### 逐行读取：sys.stdin.readlines()"
   ]
  },
  {
   "cell_type": "code",
   "execution_count": null,
   "id": "d4a7a919",
   "metadata": {},
   "outputs": [],
   "source": [
    "import sys\n",
    "lines = sys.stdin.readlines()\n",
    "\n",
    "for line in lines:\n",
    "    a, b = map(int, line.split())\n",
    "    ..."
   ]
  },
  {
   "cell_type": "markdown",
   "id": "95391b59",
   "metadata": {},
   "source": [
    "### 单组数据\n",
    "5\n",
    "\n",
    "1 2 3 4 5\n"
   ]
  },
  {
   "cell_type": "code",
   "execution_count": null,
   "id": "2017716b",
   "metadata": {},
   "outputs": [],
   "source": [
    "n = int(input())\n",
    "arr = list(map(int, input().split()))"
   ]
  },
  {
   "cell_type": "markdown",
   "id": "015b6fdc",
   "metadata": {},
   "source": [
    "### 多组数据（行数固定）\n",
    "\n",
    "3\n",
    "\n",
    "1 2\n",
    "\n",
    "3 4\n",
    "\n",
    "5 6\n"
   ]
  },
  {
   "cell_type": "code",
   "execution_count": null,
   "id": "55a3b9db",
   "metadata": {},
   "outputs": [],
   "source": [
    "t = int(input())\n",
    "for _ in range(t):\n",
    "    a, b = map(int, input().split())"
   ]
  },
  {
   "cell_type": "markdown",
   "id": "bad0a641",
   "metadata": {},
   "source": [
    "### 多组数据（行数不固定，直到 EOF）\n",
    "\n",
    "1 2\n",
    "\n",
    "3 4\n",
    "\n",
    "5 6\n",
    "\n"
   ]
  },
  {
   "cell_type": "code",
   "execution_count": null,
   "id": "82d2a321",
   "metadata": {},
   "outputs": [],
   "source": [
    "import sys\n",
    "for line in sys.stdin:\n",
    "    a, b = map(int, line.split())\n",
    "    ...\n"
   ]
  },
  {
   "cell_type": "markdown",
   "id": "ec8a057a",
   "metadata": {},
   "source": [
    "### 大数据量"
   ]
  },
  {
   "cell_type": "code",
   "execution_count": null,
   "id": "e6bca1da",
   "metadata": {},
   "outputs": [],
   "source": [
    "import sys\n",
    "data = list(map(int, sys.stdin.read().split()))\n"
   ]
  },
  {
   "cell_type": "code",
   "execution_count": 11,
   "id": "2f2704e3",
   "metadata": {},
   "outputs": [
    {
     "name": "stdout",
     "output_type": "stream",
     "text": [
      "最多可保留的元素数: 3\n"
     ]
    }
   ],
   "source": [
    "def max_non_similar_elements(arr, d):\n",
    "    arr.sort()\n",
    "    n = len(arr)\n",
    "    count = 0\n",
    "    i = 0\n",
    "\n",
    "    while i < n:\n",
    "        # 保留当前数\n",
    "        count += 1\n",
    "        current = arr[i]\n",
    "\n",
    "        # 跳过所有和当前数相近的元素\n",
    "        while i < n and abs(arr[i] - current) <= d:\n",
    "            i += 1\n",
    "\n",
    "    return count\n",
    "\n",
    "# 示例输入\n",
    "arr = [1 ,1, 2, 5]\n",
    "d = 0\n",
    "print(\"最多可保留的元素数:\", max_non_similar_elements(arr, d))\n"
   ]
  },
  {
   "cell_type": "code",
   "execution_count": null,
   "id": "d6e34eb0",
   "metadata": {},
   "outputs": [
    {
     "name": "stdout",
     "output_type": "stream",
     "text": [
      "3\n"
     ]
    }
   ],
   "source": [
    "import sys\n",
    "\n",
    "a = [1 ,1, 2, 5]\n",
    "d = 0\n",
    "n =len(a)\n",
    "a.sort()\n",
    "count = 0\n",
    "i = 0\n",
    "\n",
    "while i < n:\n",
    "    count += 1           # 选中 a[i]\n",
    "    j = i + 1\n",
    "    while j < n and a[j] - a[i] <= d:\n",
    "        j += 1           # 跳过所有相近的\n",
    "    i = j                # 下一个候选起点\n",
    "\n",
    "print(count)"
   ]
  }
 ],
 "metadata": {
  "kernelspec": {
   "display_name": "LeetCode",
   "language": "python",
   "name": "python3"
  },
  "language_info": {
   "codemirror_mode": {
    "name": "ipython",
    "version": 3
   },
   "file_extension": ".py",
   "mimetype": "text/x-python",
   "name": "python",
   "nbconvert_exporter": "python",
   "pygments_lexer": "ipython3",
   "version": "3.13.5"
  }
 },
 "nbformat": 4,
 "nbformat_minor": 5
}
