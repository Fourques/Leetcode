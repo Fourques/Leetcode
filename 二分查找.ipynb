{
 "cells": [
  {
   "cell_type": "markdown",
   "id": "2a28e88b",
   "metadata": {},
   "source": [
    "35. 搜索插入位置\n",
    "\n",
    "给定一个排序数组和一个目标值，在数组中找到目标值，并返回其索引。如果目标值不存在于数组中，返回它将会被按顺序插入的位置。\n",
    "\n",
    "请必须使用时间复杂度为 O(log n) 的算法。"
   ]
  },
  {
   "cell_type": "code",
   "execution_count": 1,
   "id": "ed64770a",
   "metadata": {},
   "outputs": [
    {
     "data": {
      "text/plain": [
       "2"
      ]
     },
     "execution_count": 1,
     "metadata": {},
     "output_type": "execute_result"
    }
   ],
   "source": [
    "nums = [1,3,5,6] \n",
    "target = 5\n",
    "\n",
    "def search(nums, target):\n",
    "    l, r = 0, len(nums)\n",
    "\n",
    "    while l<r:\n",
    "        m = (l+r)//2\n",
    "        if nums[m] <target:\n",
    "            l = m+1\n",
    "        else:\n",
    "            r = m\n",
    "    return l\n",
    "\n",
    "search(nums, target)"
   ]
  },
  {
   "cell_type": "markdown",
   "id": "57e5fee7",
   "metadata": {},
   "source": [
    "74. 搜索二维矩阵\n",
    "\n",
    "给你一个满足下述两条属性的 m x n 整数矩阵：\n",
    "\n",
    "- 每行中的整数从左到右按非严格递增顺序排列。\n",
    "\n",
    "- 每行的第一个整数大于前一行的最后一个整数。\n",
    "\n",
    "给你一个整数 target ，如果 target 在矩阵中，返回 true ；否则，返回 false 。"
   ]
  },
  {
   "cell_type": "code",
   "execution_count": null,
   "id": "ec5e8788",
   "metadata": {},
   "outputs": [],
   "source": [
    "matrix = [[1,3,5,7],[10,11,16,20],[23,30,34,60]]\n",
    "target = 3\n",
    "# 转化成为列表\n",
    "def searchm(matrix, target):\n",
    "    if not matrix or not matrix[0]:\n",
    "        return False\n",
    "    m, n = len(matrix), len(matrix[0])\n",
    "    l, r = 0, m * n - 1\n",
    "    while l <= r:\n",
    "        mid = (l + r) // 2\n",
    "        x = matrix[mid // n][mid % n]\n",
    "        if x == target:\n",
    "            return True\n",
    "        if x < target:\n",
    "            l = mid + 1\n",
    "        else:\n",
    "            r = mid - 1\n",
    "    return False\n",
    "    "
   ]
  },
  {
   "cell_type": "markdown",
   "id": "10e180e9",
   "metadata": {},
   "source": [
    "### 在排序数组中查找元素的第一个和最后一个位置\n",
    "\n",
    "给你一个按照非递减顺序排列的整数数组 nums，和一个目标值 target。请你找出给定目标值在数组中的开始位置和结束位置。\n",
    "\n",
    "如果数组中不存在目标值 target，返回 [-1, -1]。\n",
    "\n",
    "你必须设计并实现时间复杂度为 O(log n) 的算法解决此问题。"
   ]
  },
  {
   "cell_type": "code",
   "execution_count": null,
   "id": "c4e84267",
   "metadata": {},
   "outputs": [],
   "source": [
    "nums = [5,7,7,8,8,10]\n",
    "target = 8\n",
    "\n",
    "def searchR(nums, target):\n",
    "    def lower_bound(a, x):  # 第一个 >= x\n",
    "        l, r = 0, len(a)\n",
    "        while l < r:\n",
    "            m = (l + r) // 2\n",
    "            if a[m] < x: l = m + 1\n",
    "            else:        r = m\n",
    "        return l\n",
    "\n",
    "    def upper_bound(a, x):  # 第一个 > x\n",
    "        l, r = 0, len(a)\n",
    "        while l < r:\n",
    "            m = (l + r) // 2\n",
    "            if a[m] <= x: l = m + 1\n",
    "            else:         r = m\n",
    "        return l\n",
    "\n",
    "    L = lower_bound(nums, target)\n",
    "    if L == len(nums) or nums[L] != target:\n",
    "        return [-1, -1]\n",
    "    R = upper_bound(nums, target) - 1\n",
    "    return [L, R]\n"
   ]
  },
  {
   "cell_type": "markdown",
   "id": "78eb0fa8",
   "metadata": {},
   "source": [
    "### 搜索旋转排序数组\n",
    "\n",
    "整数数组 nums 按升序排列，数组中的值 互不相同 。\n",
    "\n",
    "在传递给函数之前，nums 在预先未知的某个下标 k（0 <= k < nums.length）上进行了 向左旋转，使数组变为 [nums[k], nums[k+1], ..., nums[n-1], nums[0], nums[1], ..., nums[k-1]]（下标 从 0 开始 计数）。例如， [0,1,2,4,5,6,7] 下标 3 上向左旋转后可能变为 [4,5,6,7,0,1,2] 。\n",
    "\n",
    "给你 旋转后 的数组 nums 和一个整数 target ，如果 nums 中存在这个目标值 target ，则返回它的下标，否则返回 -1 。\n",
    "\n",
    "你必须设计一个时间复杂度为 O(log n) 的算法解决此问题。"
   ]
  },
  {
   "cell_type": "code",
   "execution_count": 4,
   "id": "d0e5298d",
   "metadata": {},
   "outputs": [
    {
     "data": {
      "text/plain": [
       "-1"
      ]
     },
     "execution_count": 4,
     "metadata": {},
     "output_type": "execute_result"
    }
   ],
   "source": [
    "nums = [4,5,6,7,0,1,2]\n",
    "target = 0\n",
    "\n",
    "def search(nums, target):\n",
    "    l, r = 0, len(nums)\n",
    "\n",
    "    while l<r:\n",
    "        m = (l+r)//2\n",
    "        if nums[m] == target:\n",
    "            return m\n",
    "        if nums[l] <= nums[m]:\n",
    "            if nums[l] <=target<nums[m]:\n",
    "                r = m - 1\n",
    "            else :\n",
    "                l = m + 1\n",
    "\n",
    "        else:\n",
    "            if nums[m] < target <= nums[r]:\n",
    "                l = m + 1\n",
    "            else:\n",
    "                r = m - 1\n",
    "    return -1\n",
    "search(nums, target)\n",
    "\n",
    "\n",
    "\n"
   ]
  },
  {
   "cell_type": "markdown",
   "id": "27874ed9",
   "metadata": {},
   "source": [
    "### 寻找旋转排序数组中的最小值\n",
    "\n",
    "已知一个长度为 n 的数组，预先按照升序排列，经由 1 到 n 次 旋转 后，得到输入数组。例如，原数组 nums = [0,1,2,4,5,6,7] 在变化后可能得到：\n",
    "\n",
    "- 若旋转 4 次，则可以得到 [4,5,6,7,0,1,2]\n",
    "- 若旋转 7 次，则可以得到 [0,1,2,4,5,6,7]\n",
    "\n",
    "注意，数组 [a[0], a[1], a[2], ..., a[n-1]] 旋转一次 的结果为数组 [a[n-1], a[0], a[1], a[2], ..., a[n-2]] 。\n",
    "\n",
    "给你一个元素值 互不相同 的数组 nums ，它原来是一个升序排列的数组，并按上述情形进行了多次旋转。请你找出并返回数组中的 最小元素 。\n",
    "\n",
    "你必须设计一个时间复杂度为 O(log n) 的算法解决此问题。"
   ]
  },
  {
   "cell_type": "code",
   "execution_count": null,
   "id": "3d1f80bd",
   "metadata": {},
   "outputs": [
    {
     "data": {
      "text/plain": [
       "15"
      ]
     },
     "execution_count": 49,
     "metadata": {},
     "output_type": "execute_result"
    }
   ],
   "source": [
    "nums = [11, 13, 15, 17]\n",
    "\n",
    "def findM(nums):\n",
    "    l, r = 0, len(nums) - 1\n",
    "    while l < r:\n",
    "        mid = (l + r) // 2\n",
    "        if nums[mid] > nums[r]:\n",
    "            l = mid + 1\n",
    "        else:\n",
    "            r = mid\n",
    "    return nums[l]\n",
    "\n",
    "findM(nums)\n"
   ]
  },
  {
   "cell_type": "markdown",
   "id": "0aeea1b5",
   "metadata": {},
   "source": [
    "### 寻找两个正序数组的中位数\n",
    "\n",
    "给定两个大小分别为 m 和 n 的正序（从小到大）数组 nums1 和 nums2。请你找出并返回这两个正序数组的 中位数 。\n",
    "\n",
    "算法的时间复杂度应该为 O(log (m+n)) 。"
   ]
  },
  {
   "cell_type": "code",
   "execution_count": 51,
   "id": "46dbbef2",
   "metadata": {},
   "outputs": [
    {
     "data": {
      "text/plain": [
       "5.0"
      ]
     },
     "execution_count": 51,
     "metadata": {},
     "output_type": "execute_result"
    }
   ],
   "source": [
    "nums1 = [1]\n",
    "nums2 = [3,4,5,6,7,8]\n",
    "\n",
    "\n",
    "def findMax(nums1,nums2):\n",
    "    A, B = nums1, nums2\n",
    "    m, n = len(A), len(B)\n",
    "    # 1) 保证 A 更短，只在 A 上二分，log(min(m,n))\n",
    "    if m > n:\n",
    "        A, B, m, n = B, A, n, m\n",
    "\n",
    "    low, high = 0, m\n",
    "    half = (m + n + 1) // 2      # 左边总元素数（奇偶统一）\n",
    "    INF = float('inf')\n",
    "\n",
    "    while low <= high:\n",
    "        i = (low + high) // 2    # A 的切点\n",
    "        j = half - i             # B 的切点（被动确定）\n",
    "\n",
    "        # 2) 取四个边界值（越界用 ±∞ 兜底）\n",
    "        Aleft  = -INF if i == 0 else A[i - 1]\n",
    "        Aright =  INF if i == m else A[i]\n",
    "        Bleft  = -INF if j == 0 else B[j - 1]\n",
    "        Bright =  INF if j == n else B[j]\n",
    "\n",
    "        # 3) 判定切分是否正确\n",
    "        if Aleft <= Bright and Bleft <= Aright:\n",
    "            # 4) 计算中位数\n",
    "            if (m + n) % 2:  # 奇数\n",
    "                return float(max(Aleft, Bleft))\n",
    "            return (max(Aleft, Bleft) + min(Aright, Bright)) / 2.0\n",
    "\n",
    "        # 4) 二分移动方向\n",
    "        elif Aleft > Bright:\n",
    "            high = i - 1      # i 太大，往左\n",
    "        else:\n",
    "            low = i + 1       # i 太小，往右\n",
    "\n",
    "    # 理论上不会走到这\n",
    "    raise ValueError(\"Invalid input\")\n",
    "\n",
    "findMax(nums1,nums2)"
   ]
  }
 ],
 "metadata": {
  "kernelspec": {
   "display_name": "LeetCode",
   "language": "python",
   "name": "python3"
  },
  "language_info": {
   "codemirror_mode": {
    "name": "ipython",
    "version": 3
   },
   "file_extension": ".py",
   "mimetype": "text/x-python",
   "name": "python",
   "nbconvert_exporter": "python",
   "pygments_lexer": "ipython3",
   "version": "3.13.5"
  }
 },
 "nbformat": 4,
 "nbformat_minor": 5
}
