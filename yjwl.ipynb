{
 "cells": [
  {
   "cell_type": "code",
   "execution_count": null,
   "id": "e397da7b",
   "metadata": {},
   "outputs": [],
   "source": [
    "import sys\n",
    "\n",
    "def main():\n",
    "    n, m = map(int, sys.stdin.readline().split())\n",
    "    grid = []\n",
    "    # 读取 n 行地图（只含 '.' 和 '*'）\n",
    "    for _ in range(n):\n",
    "        line = sys.stdin.readline().strip()\n",
    "        # 若存在空行，继续读到非空行\n",
    "        while line == \"\":\n",
    "            line = sys.stdin.readline().strip()\n",
    "        grid.append(line)\n",
    "\n",
    "    # 行前缀和：row_sum[i][j] = 第 i 行前 j 个位置(0..j-1)中 '*' 的数量\n",
    "    row_sum = [[0]*(m+1) for _ in range(n)]\n",
    "    # 列前缀和：col_sum[j][i] = 第 j 列前 i 个位置(0..i-1)中 '*' 的数量\n",
    "    col_sum = [[0]*(n+1) for _ in range(m)]\n",
    "\n",
    "    for i in range(n):\n",
    "        cnt = 0\n",
    "        for j in range(m):\n",
    "            if grid[i][j] == '*':\n",
    "                cnt += 1\n",
    "            row_sum[i][j+1] = cnt\n",
    "            col_sum[j][i+1] = col_sum[j][i] + (1 if grid[i][j] == '*' else 0)\n",
    "\n",
    "    ans = 0\n",
    "    for i in range(n):\n",
    "        for j in range(m):\n",
    "            if grid[i][j] == '.':  # 可站位置\n",
    "                left  = row_sum[i][j]\n",
    "                right = row_sum[i][m] - row_sum[i][j+1]\n",
    "                up    = col_sum[j][i]\n",
    "                down  = col_sum[j][n] - col_sum[j][i+1]\n",
    "                # 四个方向取最大\n",
    "                if left  > ans: ans = left\n",
    "                if right > ans: ans = right\n",
    "                if up    > ans: ans = up\n",
    "                if down  > ans: ans = down\n",
    "\n",
    "    print(ans)\n",
    "\n",
    "if __name__ == \"__main__\":\n",
    "    main()\n"
   ]
  },
  {
   "cell_type": "markdown",
   "id": "7d2cf0b8",
   "metadata": {},
   "source": [
    "3.有n个怪物排成一排，每只怪物的血量为ai。艾雅法拉每次可以攻击一只怪物，对这只怪物造成2点伤害，同时对它相邻的怪物造成1点伤害。(请注意，如果攻击位置怪物已经死亡，仍然可以发动攻击)艾雅法拉可以最多攻击2次，她根知道知道自己最多可以 击杀多少只怪物? 共有q次询问。"
   ]
  },
  {
   "cell_type": "markdown",
   "id": "a0a7ad89",
   "metadata": {},
   "source": []
  }
 ],
 "metadata": {
  "kernelspec": {
   "display_name": "LeetCode",
   "language": "python",
   "name": "python3"
  },
  "language_info": {
   "codemirror_mode": {
    "name": "ipython",
    "version": 3
   },
   "file_extension": ".py",
   "mimetype": "text/x-python",
   "name": "python",
   "nbconvert_exporter": "python",
   "pygments_lexer": "ipython3",
   "version": "3.13.5"
  }
 },
 "nbformat": 4,
 "nbformat_minor": 5
}
