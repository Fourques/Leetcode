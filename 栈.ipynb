{
 "cells": [
  {
   "cell_type": "markdown",
   "id": "40c38f7f",
   "metadata": {},
   "source": [
    "### 有效的括号\n",
    "\n",
    "给定一个只包括 '('，')'，'{'，'}'，'['，']' 的字符串 s ，判断字符串是否有效。\n",
    "\n",
    "有效字符串需满足：\n",
    "\n",
    "- 左括号必须用相同类型的右括号闭合。\n",
    "- 左括号必须以正确的顺序闭合。\n",
    "- 每个右括号都有一个对应的相同类型的左括号。"
   ]
  },
  {
   "cell_type": "code",
   "execution_count": 2,
   "id": "692ebf03",
   "metadata": {},
   "outputs": [
    {
     "name": "stdout",
     "output_type": "stream",
     "text": [
      "(\n"
     ]
    }
   ],
   "source": [
    "mp = {')': '(', ']': '[', '}': '{'}\n",
    "ch = ')'\n",
    "print(mp.get(ch,'#'))"
   ]
  },
  {
   "cell_type": "code",
   "execution_count": 4,
   "id": "bb8541cb",
   "metadata": {},
   "outputs": [
    {
     "data": {
      "text/plain": [
       "True"
      ]
     },
     "execution_count": 4,
     "metadata": {},
     "output_type": "execute_result"
    }
   ],
   "source": [
    "s = \"()[]{}\"\n",
    "\n",
    "def isValid(s):\n",
    "    mp = {')': '(', ']': '[', '}': '{'}\n",
    "    n = len(s)\n",
    "    stk = []\n",
    "    if n % 2 == 1:\n",
    "        return False\n",
    "    \n",
    "    for ch in s:\n",
    "        if ch in '([{':\n",
    "            stk.append(ch)\n",
    "        else:\n",
    "            if not stk or stk[-1] != mp.get(ch):\n",
    "                return False\n",
    "            stk.pop()\n",
    "    return not stk\n",
    "\n",
    "isValid(s)"
   ]
  },
  {
   "cell_type": "markdown",
   "id": "36bc840c",
   "metadata": {},
   "source": [
    "### 最小栈\n",
    "\n",
    "设计一个支持 push ，pop ，top 操作，并能在常数时间内检索到最小元素的栈。\n",
    "\n",
    "实现 MinStack 类:\n",
    "\n",
    "MinStack() 初始化堆栈对象。\n",
    "\n",
    "void push(int val) 将元素val推入堆栈。\n",
    "\n",
    "void pop() 删除堆栈顶部的元素。\n",
    "\n",
    "int top() 获取堆栈顶部的元素。\n",
    "\n",
    "int getMin() 获取堆栈中的最小元素。"
   ]
  },
  {
   "cell_type": "code",
   "execution_count": null,
   "id": "1f9c8868",
   "metadata": {},
   "outputs": [],
   "source": [
    "class MinStack:\n",
    "\n",
    "    def __init__(self):\n",
    "        self.stk = []\n",
    "        self.min_stk = []\n",
    "\n",
    "    def push(self, val: int) -> None:\n",
    "        self.stk.append(val)\n",
    "        if not self.min_stk:\n",
    "            self.min_stk.append(val)\n",
    "        else :\n",
    "            self.min_stk.append(min(val, self.min_stk[-1]))\n",
    "\n",
    "    def pop(self) -> None:\n",
    "        self.stk.pop()\n",
    "        self.min_stk.pop()\n",
    "        \n",
    "\n",
    "    def top(self) -> int:\n",
    "        return self.stk[-1]\n",
    "\n",
    "    def getMin(self) -> int:\n",
    "        return self.min_stk[-1]"
   ]
  },
  {
   "cell_type": "markdown",
   "id": "b8c27157",
   "metadata": {},
   "source": [
    "### 字符串解码\n",
    "\n",
    "给定一个经过编码的字符串，返回它解码后的字符串。\n",
    "\n",
    "编码规则为: k[encoded_string]，表示其中方括号内部的 encoded_string 正好重复 k 次。注意 k 保证为正整数。\n",
    "\n",
    "你可以认为输入字符串总是有效的；输入字符串中没有额外的空格，且输入的方括号总是符合格式要求的。\n",
    "\n",
    "此外，你可以认为原始数据不包含数字，所有的数字只表示重复的次数 k ，例如不会出现像 3a 或 2[4] 的输入。\n",
    "\n",
    "测试用例保证输出的长度不会超过 105。"
   ]
  },
  {
   "cell_type": "code",
   "execution_count": 19,
   "id": "b1ca392d",
   "metadata": {},
   "outputs": [
    {
     "name": "stdout",
     "output_type": "stream",
     "text": [
      "['d']\n",
      "['d', 'q']\n",
      "['d', 'q', 'w']\n",
      "['d', 'q', 'w']\n",
      "['d', 'q', 'w']\n",
      "['d', 'q', 'w', 'a']\n",
      "['d', 'q', 'w', 'a']\n",
      "['d', 'q', 'w', 'a']\n",
      "['d', 'q', 'w', 'a', 'c']\n",
      "['d', 'q', 'w', 'a', 'c']\n",
      "['d', 'q', 'w', 'a', 'c']\n"
     ]
    }
   ],
   "source": [
    "s = \"dqw3[a2[c]]\"\n",
    "\n",
    "def decode(s):\n",
    "    n = len(s)\n",
    "    ans = []\n",
    "    nums = \"123456789\"\n",
    "    cur = 0\n",
    "\n",
    "    temp_a = []\n",
    "    temp_num = []\n",
    "\n",
    "    copy_s = s\n",
    "    c_s = []\n",
    "\n",
    "    for i in range(n):\n",
    "        if s[i] == '[':\n",
    "            temp_a.append(i)\n",
    "            for j in range(max(0,i-3),i):\n",
    "                if s[j] in nums:\n",
    "                    num = int(s[j:i])\n",
    "                    temp_num.append(num)\n",
    "                    break\n",
    "        elif s[i] == ']':\n",
    "            area = temp_a.pop()\n",
    "            count = temp_num.pop()\n",
    "            c_s.append(count*copy_s[area+1:i])\n",
    "        elif s[i] not in nums :\n",
    "            ans.append(s[i])\n",
    "        print(ans)\n",
    "\n",
    "decode(s)\n"
   ]
  },
  {
   "cell_type": "code",
   "execution_count": null,
   "id": "831a394d",
   "metadata": {},
   "outputs": [
    {
     "name": "stdout",
     "output_type": "stream",
     "text": [
      "2 d\n",
      "2 dq\n",
      "2 dqw\n",
      "0 \n",
      "2 a\n",
      "0 \n",
      "2 c\n",
      "5 a\n",
      "1 c\n",
      "5 dqw\n",
      "1 acc\n"
     ]
    },
    {
     "data": {
      "text/plain": [
       "'dqwaccaccacc'"
      ]
     },
     "execution_count": 20,
     "metadata": {},
     "output_type": "execute_result"
    }
   ],
   "source": [
    "def decode_1(s):\n",
    "    num_stack = []\n",
    "    str_stack = []\n",
    "    cur_str = \"\"\n",
    "    cur_num = 0\n",
    "\n",
    "    for ch in s:\n",
    "        if ch.isdigit():\n",
    "            # 数字可能有多位\n",
    "            cur_num = cur_num * 10 + int(ch)\n",
    "        elif ch == \"[\":\n",
    "            # 保存当前状态，进入新一层\n",
    "            num_stack.append(cur_num)\n",
    "            str_stack.append(cur_str)\n",
    "            cur_num = 0\n",
    "            cur_str = \"\"\n",
    "        elif ch == \"]\":\n",
    "            # 弹出栈顶，展开\n",
    "            repeat = num_stack.pop()\n",
    "            last_str = str_stack.pop()\n",
    "            cur_str = last_str + cur_str * repeat\n",
    "        else:\n",
    "            # 普通字符\n",
    "            cur_str += ch\n",
    "\n",
    "    return cur_str\n",
    "\n",
    "decode_1(s)"
   ]
  },
  {
   "cell_type": "markdown",
   "id": "9c9d6dea",
   "metadata": {},
   "source": [
    "### 每日温度\n",
    "\n",
    "给定一个整数数组 temperatures ，表示每天的温度，返回一个数组 answer ，其中 answer[i] 是指对于第 i 天，下一个更高温度出现在几天后。如果气温在这之后都不会升高，请在该位置用 0 来代替。"
   ]
  },
  {
   "cell_type": "code",
   "execution_count": null,
   "id": "791e2492",
   "metadata": {},
   "outputs": [
    {
     "name": "stdout",
     "output_type": "stream",
     "text": [
      "1\n",
      "[0]\n",
      "2\n",
      "[1]\n",
      "5\n",
      "[2, 3, 4]\n",
      "5\n",
      "[2, 3]\n",
      "6\n",
      "[2, 5]\n",
      "6\n",
      "[2]\n"
     ]
    },
    {
     "data": {
      "text/plain": [
       "[1, 1, 4, 2, 1, 1, 0, 0]"
      ]
     },
     "execution_count": 12,
     "metadata": {},
     "output_type": "execute_result"
    }
   ],
   "source": [
    "temperatures = [73,74,75,71,69,72,76,73]\n",
    "\n",
    "def daily(temperatures):\n",
    "    n = len(temperatures)\n",
    "\n",
    "    ans = [0]*n\n",
    "    time_stack =[]\n",
    "    time_stack.append(0)\n",
    "\n",
    "    for i in range(1,n):\n",
    "        if temperatures[i] <= temperatures[time_stack[-1]]:\n",
    "            time_stack.append(i)\n",
    "            continue\n",
    "        else:\n",
    "            while temperatures[i] > temperatures[time_stack[-1]] :\n",
    "                prev = time_stack.pop()\n",
    "                ans[prev] = i - prev\n",
    "                if time_stack == []:\n",
    "                    break\n",
    "            time_stack.append(i)\n",
    "\n",
    "    return ans\n",
    "\n",
    "daily(temperatures)\n",
    "    \n"
   ]
  },
  {
   "cell_type": "code",
   "execution_count": 17,
   "id": "15d905ec",
   "metadata": {},
   "outputs": [
    {
     "data": {
      "text/plain": [
       "[1, 1, 4, 2, 1, 1, 0, 0]"
      ]
     },
     "execution_count": 17,
     "metadata": {},
     "output_type": "execute_result"
    }
   ],
   "source": [
    "temperatures = [73,74,75,71,69,72,76,73]\n",
    "\n",
    "def daily(temperatures):\n",
    "    n = len(temperatures)\n",
    "\n",
    "    ans = [0]*n\n",
    "    time_stack =[]\n",
    "    time_stack.append(0)\n",
    "\n",
    "    for i in range(1,n):\n",
    "        while time_stack and temperatures[i] > temperatures[time_stack[-1]] :\n",
    "            prev = time_stack.pop()\n",
    "            ans[prev] = i - prev\n",
    "        time_stack.append(i)\n",
    "\n",
    "    return ans\n",
    "\n",
    "daily(temperatures)\n",
    "    \n"
   ]
  },
  {
   "cell_type": "markdown",
   "id": "20ee583a",
   "metadata": {},
   "source": [
    "### 柱状图中最大的矩形\n",
    "\n",
    "给定 n 个非负整数，用来表示柱状图中各个柱子的高度。每个柱子彼此相邻，且宽度为 1 。\n",
    "\n",
    "求在该柱状图中，能够勾勒出来的矩形的最大面积。"
   ]
  },
  {
   "cell_type": "code",
   "execution_count": 23,
   "id": "43b5a433",
   "metadata": {},
   "outputs": [
    {
     "name": "stdout",
     "output_type": "stream",
     "text": [
      "5\n",
      "10000\n",
      "4\n",
      "10000\n",
      "3\n",
      "10000\n",
      "2\n",
      "10000\n",
      "1\n",
      "10000\n"
     ]
    }
   ],
   "source": [
    "for i in range(5,0,-1):\n",
    "    print(i)\n",
    "\n",
    "    print(10**4)"
   ]
  },
  {
   "cell_type": "code",
   "execution_count": null,
   "id": "aa0b30ff",
   "metadata": {},
   "outputs": [
    {
     "data": {
      "text/plain": [
       "10"
      ]
     },
     "execution_count": 39,
     "metadata": {},
     "output_type": "execute_result"
    }
   ],
   "source": [
    "heights = [2,1,5,6,2,3]\n",
    "def largest(heights):\n",
    "    n = len(heights)\n",
    "    # if n == 1:\n",
    "    #     return heights[0]\n",
    "    ans = 0\n",
    "\n",
    "    for i in range(n):\n",
    "        min_s = float('inf')\n",
    "        s = 0\n",
    "        for j in range(i,-1,-1):\n",
    "            if heights[j] < min_s:\n",
    "                min_s = heights[j]\n",
    "            s = max((i-j+1) * min_s,s)\n",
    "        ans = max(ans, s)\n",
    "\n",
    "    return ans\n",
    "\n",
    "largest(heights)"
   ]
  },
  {
   "cell_type": "code",
   "execution_count": 57,
   "id": "be04c370",
   "metadata": {},
   "outputs": [
    {
     "name": "stdout",
     "output_type": "stream",
     "text": [
      "1\n",
      "1\n",
      "1\n",
      "1\n",
      "1\n",
      "1\n",
      "0\n",
      "[0, 1, 2, 3, 4, 5]\n",
      "1 [0, 1, 2, 3, 4]\n",
      "[0, 1, 2, 3, 4]\n",
      "1 [0, 1, 2, 3]\n",
      "[0, 1, 2, 3]\n",
      "1 [0, 1, 2]\n",
      "[0, 1, 2]\n",
      "1 [0, 1]\n",
      "[0, 1]\n",
      "1 [0]\n",
      "[0]\n",
      "1 []\n"
     ]
    },
    {
     "data": {
      "text/plain": [
       "6"
      ]
     },
     "execution_count": 57,
     "metadata": {},
     "output_type": "execute_result"
    }
   ],
   "source": [
    "# 如果固定第 i 根柱子为“最矮”高度 h = heights[i]，那么它向左、向右都只能延伸到遇到更矮的柱子为止。\n",
    "heights = [1,1,1,1,1,1]\n",
    "def largest_0(heights):\n",
    "    heights.append(0)             # 尾部哨兵，触发清空栈\n",
    "    st = []                       # 存下标，保持递增（对应高度递增）\n",
    "    ans = 0\n",
    "\n",
    "    for i, h in enumerate(heights):\n",
    "        print(h)\n",
    "        while st and heights[st[-1]] > h:\n",
    "            print(st)\n",
    "            mid = st.pop()\n",
    "            left = st[-1] if st else -1\n",
    "            width = i - left - 1\n",
    "            ans = max(ans, heights[mid] * width)\n",
    "            print(1,st)\n",
    "        st.append(i)\n",
    "\n",
    "    heights.pop()                 # 复原（可选）\n",
    "    return ans\n",
    "\n",
    "largest_0(heights)"
   ]
  }
 ],
 "metadata": {
  "kernelspec": {
   "display_name": "LeetCode",
   "language": "python",
   "name": "python3"
  },
  "language_info": {
   "codemirror_mode": {
    "name": "ipython",
    "version": 3
   },
   "file_extension": ".py",
   "mimetype": "text/x-python",
   "name": "python",
   "nbconvert_exporter": "python",
   "pygments_lexer": "ipython3",
   "version": "3.13.5"
  }
 },
 "nbformat": 4,
 "nbformat_minor": 5
}
