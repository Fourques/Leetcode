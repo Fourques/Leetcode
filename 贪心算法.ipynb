{
 "cells": [
  {
   "cell_type": "markdown",
   "id": "0da2abd3",
   "metadata": {},
   "source": [
    "### 买卖股票的最佳时机\n",
    "\n",
    "给定一个数组 prices ，它的第 i 个元素 prices[i] 表示一支给定股票第 i 天的价格。\n",
    "\n",
    "你只能选择 某一天 买入这只股票，并选择在 未来的某一个不同的日子 卖出该股票。设计一个算法来计算你所能获取的最大利润。\n",
    "\n",
    "返回你可以从这笔交易中获取的最大利润。如果你不能获取任何利润，返回 0 。"
   ]
  },
  {
   "cell_type": "code",
   "execution_count": null,
   "id": "c1b0e43d",
   "metadata": {},
   "outputs": [
    {
     "name": "stdout",
     "output_type": "stream",
     "text": [
      "2 1\n"
     ]
    },
    {
     "data": {
      "text/plain": [
       "1"
      ]
     },
     "execution_count": 14,
     "metadata": {},
     "output_type": "execute_result"
    }
   ],
   "source": [
    "prices = [1, 2]\n",
    "\n",
    "def maxProfit(prices):\n",
    "    ans = 0\n",
    "    short = prices[0]\n",
    "    for i in range(1,len(prices)):\n",
    "        if prices[i] > prices[i-1]:\n",
    "            ans = max(prices[i] - short,ans)\n",
    "        elif prices[i] < short:\n",
    "            short = prices[i]\n",
    "    return ans\n",
    "\n",
    "maxProfit(prices)"
   ]
  },
  {
   "cell_type": "markdown",
   "id": "1e27db41",
   "metadata": {},
   "source": [
    "### 跳跃游戏\n",
    "\n",
    "给你一个非负整数数组 nums ，你最初位于数组的 第一个下标 。数组中的每个元素代表你在该位置可以跳跃的最大长度。\n",
    "\n",
    "判断你是否能够到达最后一个下标，如果可以，返回 true ；否则，返回 false 。"
   ]
  },
  {
   "cell_type": "code",
   "execution_count": null,
   "id": "5ccb831e",
   "metadata": {},
   "outputs": [
    {
     "name": "stdout",
     "output_type": "stream",
     "text": [
      "0 0\n",
      "1 2\n"
     ]
    },
    {
     "data": {
      "text/plain": [
       "True"
      ]
     },
     "execution_count": 18,
     "metadata": {},
     "output_type": "execute_result"
    }
   ],
   "source": [
    "nums = [2,3,1,1,4]\n",
    "  \n",
    "def canjump(nums):\n",
    "    farthest = 0     # 目前能跳到的最远下标\n",
    "    n = len(nums)\n",
    "    for i in range(n):\n",
    "        print(i,farthest)\n",
    "        if  i > farthest:\n",
    "            return False\n",
    "        farthest = max(farthest, i+nums[i])\n",
    "        if farthest >= n-1:\n",
    "            return True\n",
    "    return True\n",
    "\n",
    "canjump(nums)"
   ]
  },
  {
   "cell_type": "markdown",
   "id": "4fb1a016",
   "metadata": {},
   "source": [
    "### 跳跃游戏 II\n",
    "\n",
    "给定一个长度为 n 的 0 索引整数数组 nums。初始位置为 nums[0]。\n",
    "\n",
    "每个元素 nums[i] 表示从索引 i 向后跳转的最大长度。换句话说，如果你在索引 i 处，你可以跳转到任意 (i + j) 处：\n",
    "\n",
    "- 0 <= j <= nums[i] 且\n",
    "\n",
    "- i + j < n\n",
    "\n",
    "返回到达 n - 1 的最小跳跃次数。测试用例保证可以到达 n - 1。"
   ]
  },
  {
   "cell_type": "code",
   "execution_count": 57,
   "id": "b0bfa1fe",
   "metadata": {},
   "outputs": [
    {
     "name": "stdout",
     "output_type": "stream",
     "text": [
      "2 9\n",
      "4 9\n",
      "7 7\n"
     ]
    },
    {
     "data": {
      "text/plain": [
       "2"
      ]
     },
     "execution_count": 57,
     "metadata": {},
     "output_type": "execute_result"
    }
   ],
   "source": [
    "nums_2 = [7,0,9,6,9,6,1,7,9,0,1,2,9,0,3]\n",
    "nums_1 = [2,3,1,1,4]\n",
    "\n",
    "def jump(nums):\n",
    "    n = len(nums)\n",
    "    if n<=1:\n",
    "        return 0\n",
    "    ans = 1\n",
    "    right= nums[0]\n",
    "    left = 0\n",
    "    while right < n-1:\n",
    "        for i in range(left,right+1):\n",
    "            if right< i+nums[i]:\n",
    "                right = i+nums[i]\n",
    "                print(i,nums[i])\n",
    "                left = i\n",
    "        ans +=1\n",
    "    return(ans)\n",
    "\n",
    "\n",
    "jump(nums_2)\n",
    "        "
   ]
  },
  {
   "cell_type": "code",
   "execution_count": null,
   "id": "5de13952",
   "metadata": {},
   "outputs": [],
   "source": [
    "def jump(nums):\n",
    "    n = len(nums)\n",
    "    if n <= 1:\n",
    "        return 0\n",
    "    jumps = 0\n",
    "    end = 0        # 当前层的右边界\n",
    "    farthest = 0   # 遍历到当前位置为止，下一层能到的最远边界\n",
    "    for i in range(n - 1):      # 走到 n-2 即可\n",
    "        farthest = max(farthest, i + nums[i])\n",
    "        if i == end:            # 当前层用尽，需要跳一次\n",
    "            jumps += 1\n",
    "            end = farthest\n",
    "            if end >= n - 1:    # 已覆盖终点，提前结束\n",
    "                break\n",
    "    return jumps\n"
   ]
  },
  {
   "cell_type": "markdown",
   "id": "5059452d",
   "metadata": {},
   "source": [
    "### 763. 划分字母区间\n",
    "\n",
    "给你一个字符串 s 。我们要把这个字符串划分为尽可能多的片段，同一字母最多出现在一个片段中。例如，字符串 \"ababcc\" 能够被分为 [\"abab\", \"cc\"]，但类似 [\"aba\", \"bcc\"] 或 [\"ab\", \"ab\", \"cc\"] 的划分是非法的。\n",
    "\n",
    "注意，划分结果需要满足：将所有划分结果按顺序连接，得到的字符串仍然是 s 。\n",
    "\n",
    "返回一个表示每个字符串片段的长度的列表。"
   ]
  },
  {
   "cell_type": "code",
   "execution_count": 58,
   "id": "b1698ec6",
   "metadata": {},
   "outputs": [
    {
     "name": "stdout",
     "output_type": "stream",
     "text": [
      "24\n"
     ]
    }
   ],
   "source": [
    "s = \"ababcbacadefegdehijhklij\"\n",
    "\n",
    "print(len(s))"
   ]
  },
  {
   "cell_type": "code",
   "execution_count": 80,
   "id": "c8026b81",
   "metadata": {},
   "outputs": [
    {
     "name": "stdout",
     "output_type": "stream",
     "text": [
      "{'a': 8, 'b': 5, 'c': 7, 'd': 14, 'e': 15, 'f': 11, 'g': 13, 'h': 19, 'i': 22, 'j': 23, 'k': 20, 'l': 21}\n"
     ]
    },
    {
     "data": {
      "text/plain": [
       "[9, 7, 8]"
      ]
     },
     "execution_count": 80,
     "metadata": {},
     "output_type": "execute_result"
    }
   ],
   "source": [
    "s = \"ababcbacadefegdehijhklij\"\n",
    "\n",
    "def part(s):\n",
    "    n= len(s)\n",
    "    eh = {}\n",
    "    for i in range(n):\n",
    "        eh[s[i]] = i\n",
    "\n",
    "    print(eh)\n",
    "    \n",
    "    res =[]\n",
    "    start = 0\n",
    "    end = 0\n",
    "    for i,ch in enumerate(s):\n",
    "        end = max(end, eh[ch])\n",
    "        if i ==end:\n",
    "            res.append(end-start+1)\n",
    "            start = i+1\n",
    "    return res\n",
    "\n",
    "part(s)"
   ]
  },
  {
   "cell_type": "code",
   "execution_count": 79,
   "id": "d97d4a1c",
   "metadata": {},
   "outputs": [
    {
     "name": "stdout",
     "output_type": "stream",
     "text": [
      "{'a': 8, 'b': 5, 'c': 7, 'd': 14, 'e': 15, 'f': 11, 'g': 13, 'h': 19, 'i': 22, 'j': 23, 'k': 20, 'l': 21}\n"
     ]
    },
    {
     "data": {
      "text/plain": [
       "[9, 7, 8]"
      ]
     },
     "execution_count": 79,
     "metadata": {},
     "output_type": "execute_result"
    }
   ],
   "source": [
    "s = \"ababcbacadefegdehijhklij\"\n",
    "\n",
    "def partitionLabels(s):\n",
    "    # 1) 记录每个字符的最后一次出现位置\n",
    "    last = {ch: i for i, ch in enumerate(s)}\n",
    "    print(last)\n",
    "    res = []\n",
    "    start = 0\n",
    "    end = 0\n",
    "\n",
    "    # 2) 扫描并扩张当前片段的最远边界\n",
    "    for i, ch in enumerate(s):\n",
    "        end = max(end, last[ch])\n",
    "        # 到达当前片段的边界，切分\n",
    "        if i == end:\n",
    "            res.append(end - start + 1)\n",
    "            start = i + 1\n",
    "    return res\n",
    "\n",
    "partitionLabels(s)"
   ]
  }
 ],
 "metadata": {
  "kernelspec": {
   "display_name": "LeetCode",
   "language": "python",
   "name": "python3"
  },
  "language_info": {
   "codemirror_mode": {
    "name": "ipython",
    "version": 3
   },
   "file_extension": ".py",
   "mimetype": "text/x-python",
   "name": "python",
   "nbconvert_exporter": "python",
   "pygments_lexer": "ipython3",
   "version": "3.13.5"
  }
 },
 "nbformat": 4,
 "nbformat_minor": 5
}
