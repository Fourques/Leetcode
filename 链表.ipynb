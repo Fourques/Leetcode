{
 "cells": [
  {
   "cell_type": "markdown",
   "id": "92a895ae",
   "metadata": {},
   "source": [
    "### 链表"
   ]
  },
  {
   "cell_type": "code",
   "execution_count": 1,
   "id": "a4fa8a8f",
   "metadata": {},
   "outputs": [
    {
     "name": "stdout",
     "output_type": "stream",
     "text": [
      "10 -> 20 -> 30 -> None\n"
     ]
    }
   ],
   "source": [
    "class ListNode:\n",
    "    def __init__(self, val=0, next=None):\n",
    "        self.val = val      # 当前节点的值\n",
    "        self.next = next    # 指向下一个节点（没有则为 None）\n",
    "\n",
    "# 节点\n",
    "n1 = ListNode(10)\n",
    "n2 = ListNode(20)\n",
    "n3 = ListNode(30)\n",
    "\n",
    "# 连接指针\n",
    "n1.next = n2\n",
    "n2.next = n3\n",
    "head = n1   # 链表的入口\n",
    "\n",
    "# 遍历输出：10 -> 20 -> 30 -> None\n",
    "cur = head\n",
    "while cur:\n",
    "    print(cur.val, end=\" -> \")\n",
    "    cur = cur.next\n",
    "print(\"None\")\n"
   ]
  },
  {
   "cell_type": "markdown",
   "id": "4e42b4d8",
   "metadata": {},
   "source": [
    "### 相交链表\n",
    "\n",
    "给你两个单链表的头节点 headA 和 headB ，请你找出并返回两个单链表相交的起始节点。如果两个链表不存在相交节点，返回 null 。\n",
    "\n",
    "图示两个链表在节点 c1 开始相交：\n",
    "\n",
    "![链表](题库图像\\160_statement.png)\n",
    "\n",
    "题目数据 保证 整个链式结构中不存在环。\n",
    "\n",
    "注意，函数返回结果后，链表必须 保持其原始结构 。\n",
    "\n",
    "自定义评测：\n",
    "\n",
    "评测系统 的输入如下（你设计的程序 不适用 此输入）：\n",
    "\n",
    "- intersectVal - 相交的起始节点的值。如果不存在相交节点，这一值为 0\n",
    "- listA - 第一个链表\n",
    "- listB - 第二个链表\n",
    "- skipA - 在 listA 中（从头节点开始）跳到交叉节点的节点数\n",
    "- skipB - 在 listB 中（从头节点开始）跳到交叉节点的节点数\n",
    "\n",
    "评测系统将根据这些输入创建链式数据结构，并将两个头节点 headA 和 headB 传递给你的程序。如果程序能够正确返回相交节点，那么你的解决方案将被 视作正确答案 。"
   ]
  },
  {
   "cell_type": "code",
   "execution_count": null,
   "id": "0dac2b90",
   "metadata": {},
   "outputs": [
    {
     "name": "stdout",
     "output_type": "stream",
     "text": [
      "[1, 1, 4, 4, 4, 5, 5, 5, 6, 8, 8]\n"
     ]
    }
   ],
   "source": [
    "intersectVal = 8\n",
    "listA = [4,1,8,4,5]\n",
    "listB = [5,6,1,8,4,5]\n",
    "skipA = 2\n",
    "skipB = 3\n",
    "\n",
    "def intersection(headA,headB):\n",
    "    list_all = headA + headB\n",
    "    list_all.sort()\n",
    "    print(list_all)\n",
    "\n",
    "intersection(listA,listB)"
   ]
  },
  {
   "cell_type": "code",
   "execution_count": 6,
   "id": "80188217",
   "metadata": {},
   "outputs": [],
   "source": [
    "class ListNode:\n",
    "    def __init__(self, x, next=None):\n",
    "        self.val = x\n",
    "        self.next = next\n",
    "\n",
    "    def __repr__(self):\n",
    "        return f\"ListNode({self.val})\"\n"
   ]
  },
  {
   "cell_type": "code",
   "execution_count": 7,
   "id": "bf1bdd30",
   "metadata": {},
   "outputs": [],
   "source": [
    "def build_list(values):\n",
    "    if not values:\n",
    "        return None\n",
    "    head = ListNode(values[0])\n",
    "    cur = head\n",
    "    for v in values[1:]:\n",
    "        cur.next = ListNode(v)\n",
    "        cur = cur.next\n",
    "    return head\n"
   ]
  },
  {
   "cell_type": "code",
   "execution_count": 8,
   "id": "486af6f4",
   "metadata": {},
   "outputs": [],
   "source": [
    "# 公共部分\n",
    "common = build_list([8, 4, 5])\n",
    "\n",
    "# A = [4,1] + common\n",
    "headA = build_list([4,1])\n",
    "cur = headA\n",
    "while cur.next:\n",
    "    cur = cur.next\n",
    "cur.next = common   # 接到公共部分\n",
    "\n",
    "# B = [5,0,1] + common\n",
    "headB = build_list([5,0,1])\n",
    "cur = headB\n",
    "while cur.next:\n",
    "    cur = cur.next\n",
    "cur.next = common\n"
   ]
  },
  {
   "cell_type": "code",
   "execution_count": 10,
   "id": "574384f0",
   "metadata": {},
   "outputs": [
    {
     "name": "stdout",
     "output_type": "stream",
     "text": [
      "交点节点: ListNode(8)\n"
     ]
    }
   ],
   "source": [
    "def getIntersectionNode(headA: ListNode, headB: ListNode):\n",
    "    if not headA or not headB:\n",
    "        return None\n",
    "    pA, pB = headA, headB\n",
    "    while pA is not pB:\n",
    "        pA = pA.next if pA else headB\n",
    "        pB = pB.next if pB else headA\n",
    "    return pA\n",
    "\n",
    "res = getIntersectionNode(headA, headB)\n",
    "print(\"交点节点:\", res)\n",
    "\n"
   ]
  },
  {
   "cell_type": "markdown",
   "id": "c1fa1fee",
   "metadata": {},
   "source": [
    "### 反转链表\n",
    "\n",
    "给你单链表的头节点 head ，请你反转链表，并返回反转后的链表"
   ]
  },
  {
   "cell_type": "code",
   "execution_count": null,
   "id": "d1f1ce4e",
   "metadata": {},
   "outputs": [
    {
     "name": "stdout",
     "output_type": "stream",
     "text": [
      "原链表 1 -> 2 -> 3 -> 4 -> 5 -> None\n",
      "进入递归: head=1\n",
      "  进入递归: head=2\n",
      "    进入递归: head=3\n",
      "      进入递归: head=4\n",
      "        返回 head=5\n",
      "      回退: head=4, head.next=5\n",
      "    回退: head=3, head.next=4\n",
      "  回退: head=2, head.next=3\n",
      "回退: head=1, head.next=2\n",
      "反转后链表 5 -> 4 -> 3 -> 2 -> 1 -> None\n"
     ]
    }
   ],
   "source": [
    "class ListNode:\n",
    "    def __init__(self, val=0, next=None):\n",
    "        self.val = val\n",
    "        self.next = next\n",
    "\n",
    "def build_linked_list(values):\n",
    "    \"\"\"数组 -> 链表\"\"\"\n",
    "    dummy = ListNode(0)\n",
    "    cur = dummy\n",
    "    for v in values:\n",
    "        cur.next = ListNode(v)\n",
    "        cur = cur.next\n",
    "    return dummy.next\n",
    "\n",
    "def linked_list_to_list(head):\n",
    "    \"\"\"链表 -> 数组\"\"\"\n",
    "    res = []\n",
    "    while head:\n",
    "        res.append(head.val)\n",
    "        head = head.next\n",
    "    return res\n",
    "\n",
    "def print_linked_list(head, prefix=\"链表:\"):\n",
    "    vals = linked_list_to_list(head)\n",
    "    print(prefix, \" -> \".join(map(str, vals)) + \" -> None\")\n",
    "\n",
    "class Solution:\n",
    "    def reverseList(self, head: ListNode, depth=0) -> ListNode:\n",
    "        indent = \"  \" * depth  # 缩进用于看递归层级\n",
    "        if not head or not head.next:\n",
    "            print(f\"{indent}返回 head={head.val if head else None}\")\n",
    "            return head\n",
    "        \n",
    "        print(f\"{indent}进入递归: head={head.val}\")\n",
    "        new_head = self.reverseList(head.next , depth+1)\n",
    "        \n",
    "        print(f\"{indent}回退: head={head.val}, head.next={head.next.val}\")\n",
    "        head.next.next = head  # 把 next 的 next 指回自己\n",
    "        head.next = None       # 断开原本的 next\n",
    "\n",
    "        return new_head\n",
    "\n",
    "# 测试\n",
    "head = build_linked_list([1,2,3,4,5])\n",
    "print_linked_list(head, \"原链表\")\n",
    "\n",
    "sol = Solution()\n",
    "new_head = sol.reverseList(head)\n",
    "\n",
    "print_linked_list(new_head, \"反转后链表\")\n"
   ]
  }
 ],
 "metadata": {
  "kernelspec": {
   "display_name": "LeetCode",
   "language": "python",
   "name": "python3"
  },
  "language_info": {
   "codemirror_mode": {
    "name": "ipython",
    "version": 3
   },
   "file_extension": ".py",
   "mimetype": "text/x-python",
   "name": "python",
   "nbconvert_exporter": "python",
   "pygments_lexer": "ipython3",
   "version": "3.13.5"
  }
 },
 "nbformat": 4,
 "nbformat_minor": 5
}
