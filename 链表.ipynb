{
 "cells": [
  {
   "cell_type": "markdown",
   "id": "92a895ae",
   "metadata": {},
   "source": [
    "### 链表"
   ]
  },
  {
   "cell_type": "code",
   "execution_count": 1,
   "id": "a4fa8a8f",
   "metadata": {},
   "outputs": [
    {
     "name": "stdout",
     "output_type": "stream",
     "text": [
      "10 -> 20 -> 30 -> None\n"
     ]
    }
   ],
   "source": [
    "class ListNode:\n",
    "    def __init__(self, val=0, next=None):\n",
    "        self.val = val      # 当前节点的值\n",
    "        self.next = next    # 指向下一个节点（没有则为 None）\n",
    "\n",
    "# 节点\n",
    "n1 = ListNode(10)\n",
    "n2 = ListNode(20)\n",
    "n3 = ListNode(30)\n",
    "\n",
    "# 连接指针\n",
    "n1.next = n2\n",
    "n2.next = n3\n",
    "head = n1   # 链表的入口\n",
    "\n",
    "# 遍历输出：10 -> 20 -> 30 -> None\n",
    "cur = head\n",
    "while cur:\n",
    "    print(cur.val, end=\" -> \")\n",
    "    cur = cur.next\n",
    "print(\"None\")\n"
   ]
  },
  {
   "cell_type": "markdown",
   "id": "4e42b4d8",
   "metadata": {},
   "source": [
    "### 相交链表\n",
    "\n",
    "给你两个单链表的头节点 headA 和 headB ，请你找出并返回两个单链表相交的起始节点。如果两个链表不存在相交节点，返回 null 。\n",
    "\n",
    "图示两个链表在节点 c1 开始相交：\n",
    "\n",
    "![链表](题库图像\\160_statement.png)\n",
    "\n",
    "题目数据 保证 整个链式结构中不存在环。\n",
    "\n",
    "注意，函数返回结果后，链表必须 保持其原始结构 。\n",
    "\n",
    "自定义评测：\n",
    "\n",
    "评测系统 的输入如下（你设计的程序 不适用 此输入）：\n",
    "\n",
    "- intersectVal - 相交的起始节点的值。如果不存在相交节点，这一值为 0\n",
    "- listA - 第一个链表\n",
    "- listB - 第二个链表\n",
    "- skipA - 在 listA 中（从头节点开始）跳到交叉节点的节点数\n",
    "- skipB - 在 listB 中（从头节点开始）跳到交叉节点的节点数\n",
    "\n",
    "评测系统将根据这些输入创建链式数据结构，并将两个头节点 headA 和 headB 传递给你的程序。如果程序能够正确返回相交节点，那么你的解决方案将被 视作正确答案 。"
   ]
  },
  {
   "cell_type": "code",
   "execution_count": null,
   "id": "0dac2b90",
   "metadata": {},
   "outputs": [
    {
     "name": "stdout",
     "output_type": "stream",
     "text": [
      "[1, 1, 4, 4, 4, 5, 5, 5, 6, 8, 8]\n"
     ]
    }
   ],
   "source": [
    "intersectVal = 8\n",
    "listA = [4,1,8,4,5]\n",
    "listB = [5,6,1,8,4,5]\n",
    "skipA = 2\n",
    "skipB = 3\n",
    "\n",
    "def intersection(headA,headB):\n",
    "    list_all = headA + headB\n",
    "    list_all.sort()\n",
    "    print(list_all)\n",
    "\n",
    "intersection(listA,listB)"
   ]
  },
  {
   "cell_type": "code",
   "execution_count": 6,
   "id": "80188217",
   "metadata": {},
   "outputs": [],
   "source": [
    "class ListNode:\n",
    "    def __init__(self, x, next=None):\n",
    "        self.val = x\n",
    "        self.next = next\n",
    "\n",
    "    def __repr__(self):\n",
    "        return f\"ListNode({self.val})\"\n"
   ]
  },
  {
   "cell_type": "code",
   "execution_count": 7,
   "id": "bf1bdd30",
   "metadata": {},
   "outputs": [],
   "source": [
    "def build_list(values):\n",
    "    if not values:\n",
    "        return None\n",
    "    head = ListNode(values[0])\n",
    "    cur = head\n",
    "    for v in values[1:]:\n",
    "        cur.next = ListNode(v)\n",
    "        cur = cur.next\n",
    "    return head\n"
   ]
  },
  {
   "cell_type": "code",
   "execution_count": 8,
   "id": "486af6f4",
   "metadata": {},
   "outputs": [],
   "source": [
    "# 公共部分\n",
    "common = build_list([8, 4, 5])\n",
    "\n",
    "# A = [4,1] + common\n",
    "headA = build_list([4,1])\n",
    "cur = headA\n",
    "while cur.next:\n",
    "    cur = cur.next\n",
    "cur.next = common   # 接到公共部分\n",
    "\n",
    "# B = [5,0,1] + common\n",
    "headB = build_list([5,0,1])\n",
    "cur = headB\n",
    "while cur.next:\n",
    "    cur = cur.next\n",
    "cur.next = common\n"
   ]
  },
  {
   "cell_type": "code",
   "execution_count": 10,
   "id": "574384f0",
   "metadata": {},
   "outputs": [
    {
     "name": "stdout",
     "output_type": "stream",
     "text": [
      "交点节点: ListNode(8)\n"
     ]
    }
   ],
   "source": [
    "def getIntersectionNode(headA: ListNode, headB: ListNode):\n",
    "    if not headA or not headB:\n",
    "        return None\n",
    "    pA, pB = headA, headB\n",
    "    while pA is not pB:\n",
    "        pA = pA.next if pA else headB\n",
    "        pB = pB.next if pB else headA\n",
    "    return pA\n",
    "\n",
    "res = getIntersectionNode(headA, headB)\n",
    "print(\"交点节点:\", res)\n",
    "\n"
   ]
  },
  {
   "cell_type": "markdown",
   "id": "c1fa1fee",
   "metadata": {},
   "source": [
    "### 反转链表\n",
    "\n",
    "给你单链表的头节点 head ，请你反转链表，并返回反转后的链表"
   ]
  },
  {
   "cell_type": "code",
   "execution_count": null,
   "id": "d1f1ce4e",
   "metadata": {},
   "outputs": [
    {
     "name": "stdout",
     "output_type": "stream",
     "text": [
      "原链表 1 -> 2 -> 3 -> 4 -> 5 -> None\n",
      "进入递归: head=1\n",
      "  进入递归: head=2\n",
      "    进入递归: head=3\n",
      "      进入递归: head=4\n",
      "        返回 head=5\n",
      "      回退: head=4, head.next=5\n",
      "    回退: head=3, head.next=4\n",
      "  回退: head=2, head.next=3\n",
      "回退: head=1, head.next=2\n",
      "反转后链表 5 -> 4 -> 3 -> 2 -> 1 -> None\n"
     ]
    }
   ],
   "source": [
    "class ListNode:\n",
    "    def __init__(self, val=0, next=None):\n",
    "        self.val = val\n",
    "        self.next = next\n",
    "\n",
    "def build_linked_list(values):\n",
    "    \"\"\"数组 -> 链表\"\"\"\n",
    "    dummy = ListNode(0)\n",
    "    cur = dummy\n",
    "    for v in values:\n",
    "        cur.next = ListNode(v)\n",
    "        cur = cur.next\n",
    "    return dummy.next\n",
    "\n",
    "def linked_list_to_list(head):\n",
    "    \"\"\"链表 -> 数组\"\"\"\n",
    "    res = []\n",
    "    while head:\n",
    "        res.append(head.val)\n",
    "        head = head.next\n",
    "    return res\n",
    "\n",
    "def print_linked_list(head, prefix=\"链表:\"):\n",
    "    vals = linked_list_to_list(head)\n",
    "    print(prefix, \" -> \".join(map(str, vals)) + \" -> None\")\n",
    "\n",
    "class Solution:\n",
    "    def reverseList(self, head: ListNode, depth=0) -> ListNode:\n",
    "        indent = \"  \" * depth  # 缩进用于看递归层级\n",
    "        if not head or not head.next:\n",
    "            print(f\"{indent}返回 head={head.val if head else None}\")\n",
    "            return head\n",
    "        \n",
    "        print(f\"{indent}进入递归: head={head.val}\")\n",
    "        new_head = self.reverseList(head.next , depth+1)\n",
    "        \n",
    "        print(f\"{indent}回退: head={head.val}, head.next={head.next.val}\")\n",
    "        head.next.next = head  # 把 next 的 next 指回自己\n",
    "        head.next = None       # 断开原本的 next\n",
    "\n",
    "        return new_head\n",
    "\n",
    "# 测试\n",
    "head = build_linked_list([1,2,3,4,5])\n",
    "print_linked_list(head, \"原链表\")\n",
    "\n",
    "sol = Solution()\n",
    "new_head = sol.reverseList(head)\n",
    "\n",
    "print_linked_list(new_head, \"反转后链表\")\n"
   ]
  },
  {
   "cell_type": "markdown",
   "id": "0a47779d",
   "metadata": {},
   "source": [
    "### 回文链表\n",
    "\n",
    "给你一个单链表的头节点 head ，请你判断该链表是否为回文链表。如果是，返回 true ；否则，返回 false 。"
   ]
  },
  {
   "cell_type": "code",
   "execution_count": null,
   "id": "ea9570e9",
   "metadata": {},
   "outputs": [],
   "source": [
    "class ListNode:\n",
    "    def __init__(self, val=0, next=None):\n",
    "        self.val = val\n",
    "        self.next = next"
   ]
  },
  {
   "cell_type": "code",
   "execution_count": null,
   "id": "9ef4dfbd",
   "metadata": {},
   "outputs": [],
   "source": [
    "class ListNode:\n",
    "    def __init__(self, val=0, next=None):\n",
    "        self.val = val\n",
    "        self.next = next"
   ]
  },
  {
   "cell_type": "code",
   "execution_count": null,
   "id": "f7019743",
   "metadata": {},
   "outputs": [],
   "source": [
    "from operator import truediv\n",
    "\n",
    "\n",
    "class Solution:\n",
    "    def isPalindrome(self, head: ListNode) -> bool:\n",
    "        if not head or not head.next:\n",
    "            return True\n",
    "\n",
    "        # 1) 快慢指针找中点（fast 两步，slow 一步）\n",
    "        slow, fast = head, head\n",
    "        while fast and fast.next:\n",
    "            slow = slow.next\n",
    "            fast = fast.next.next\n",
    "\n",
    "        # 2) 若为奇数长度，slow 在正中间；比较时可以从 slow.next 开始\n",
    "        #    不过直接从 slow 开始反转也可以（偶数也同样适用）\n",
    "        #    这里选择从 slow 开始反转\n",
    "        second = self._reverse(slow)\n",
    "\n",
    "        # 3) 头尾对比\n",
    "        p1, p2 = head, second\n",
    "        ok = True\n",
    "        while p2:  # 后半段不长于前半段\n",
    "            if p1.val != p2.val:\n",
    "                ok = False\n",
    "                break\n",
    "            p1 = p1.next\n",
    "            p2 = p2.next\n",
    "\n",
    "        # 4) 可选：恢复结构\n",
    "        self._reverse(second)\n",
    "\n",
    "        return ok\n",
    "\n",
    "    def _reverse(self, node: ListNode) -> ListNode:\n",
    "        prev, cur = None, node\n",
    "        while cur:\n",
    "            nxt = cur.next\n",
    "            cur.next = prev\n",
    "            prev = cur\n",
    "            cur = nxt\n",
    "        return prev\n"
   ]
  },
  {
   "cell_type": "markdown",
   "id": "5f35cfda",
   "metadata": {},
   "source": [
    "### 环形链表\n",
    "\n",
    "给你一个链表的头节点 head ，判断链表中是否有环。\n",
    "\n",
    "如果链表中有某个节点，可以通过连续跟踪 next 指针再次到达，则链表中存在环。 为了表示给定链表中的环，评测系统内部使用整数 pos 来表示链表尾连接到链表中的位置（索引从 0 开始）。注意：pos 不作为参数进行传递 。仅仅是为了标识链表的实际情况。\n",
    "\n",
    "如果链表中存在环 ，则返回 true 。 否则，返回 false 。"
   ]
  },
  {
   "cell_type": "code",
   "execution_count": null,
   "id": "51500f42",
   "metadata": {},
   "outputs": [],
   "source": [
    "class Solution:\n",
    "    def hasCycle(self, head: Optional[ListNode]) -> bool:\n",
    "        slow, fast = head, head\n",
    "        while fast and fast.next:\n",
    "            slow = slow.next\n",
    "            fast = fast.next.next\n",
    "            if slow is fast:\n",
    "                return True\n",
    "        return False\n"
   ]
  },
  {
   "cell_type": "markdown",
   "id": "ec8eaf57",
   "metadata": {},
   "source": [
    "### 环形链表 II\n",
    "\n",
    "给定一个链表的头节点  head ，返回链表开始入环的第一个节点。 如果链表无环，则返回 null。\n",
    "\n",
    "如果链表中有某个节点，可以通过连续跟踪 next 指针再次到达，则链表中存在环。 为了表示给定链表中的环，评测系统内部使用整数 pos 来表示链表尾连接到链表中的位置（索引从 0 开始）。如果 pos 是 -1，则在该链表中没有环。注意：pos 不作为参数进行传递，仅仅是为了标识链表的实际情况。\n",
    "\n",
    "不允许修改 链表。"
   ]
  },
  {
   "cell_type": "code",
   "execution_count": null,
   "id": "ad1b860c",
   "metadata": {},
   "outputs": [],
   "source": [
    "# a：头到入环点的距离\n",
    "\n",
    "# b：入环点到相遇点的距离\n",
    "\n",
    "# c：相遇点到入环点的距离（环长 L = b + c)\n",
    "\n",
    "# 相遇时快指针走了 2(a+b)，慢指针走了 a+b，两者差走了整数圈：\n",
    "# 2(a+b) - (a+b) = kL => a+b = k(b+c) => a = k(b+c) - b = (k-1)L + c\n",
    "\n",
    "\n",
    "class Solution:\n",
    "    def detectCycle(self, head: Optional[ListNode]) -> Optional[ListNode]:\n",
    "        slow, fast = head, head\n",
    "        while fast and fast.next:\n",
    "            slow = slow.next\n",
    "            fast = fast.next.next\n",
    "            if slow is fast:\n",
    "                break\n",
    "        else:\n",
    "            return None\n",
    "\n",
    "        slow = head\n",
    "        while slow is not fast:\n",
    "            slow = slow.next\n",
    "            fast = fast.next\n",
    "        return slow"
   ]
  },
  {
   "cell_type": "markdown",
   "id": "24761cb1",
   "metadata": {},
   "source": [
    "### 合并两个有序链表\n",
    "\n",
    "将两个升序链表合并为一个新的 升序 链表并返回。新链表是通过拼接给定的两个链表的所有节点组成的。"
   ]
  },
  {
   "cell_type": "code",
   "execution_count": null,
   "id": "90475fa1",
   "metadata": {},
   "outputs": [],
   "source": [
    "class Solution:\n",
    "    def mergeTwoLists(self, list1: Optional[ListNode], list2: Optional[ListNode]) -> Optional[ListNode]:\n",
    "        if not list1: return list2\n",
    "        if not list2: return list1\n",
    "\n",
    "        # 先确定头\n",
    "        if list1.val < list2.val:\n",
    "            head = list1\n",
    "            l1 = list1.next\n",
    "            l2 = list2\n",
    "        else:\n",
    "            head = list2\n",
    "            l2 = list2.next\n",
    "            l1 = list1\n",
    "\n",
    "        cur = head  # 工作指针\n",
    "\n",
    "        # 开始合并\n",
    "        while l1 and l2:\n",
    "            if l1.val < l2.val:\n",
    "                cur.next = l1\n",
    "                l1 = l1.next\n",
    "            else:\n",
    "                cur.next = l2\n",
    "                l2 = l2.next\n",
    "            cur = cur.next  # 别忘了往后走！\n",
    "\n",
    "        # 把剩余的直接挂上\n",
    "        cur.next = l1 if l1 else l2\n",
    "        return head\n"
   ]
  },
  {
   "cell_type": "code",
   "execution_count": null,
   "id": "cba5521c",
   "metadata": {},
   "outputs": [],
   "source": [
    "class Solution:\n",
    "    def mergeTwoLists(self, list1: Optional[ListNode], list2: Optional[ListNode]) -> Optional[ListNode]:\n",
    "        # 哨兵节点（dummy），方便返回结果\n",
    "        dummy = ListNode(-1)\n",
    "        cur = dummy\n",
    "\n",
    "        # 逐一比较，谁小就接到结果链表\n",
    "        while list1 and list2:\n",
    "            if list1.val <= list2.val:\n",
    "                cur.next = list1\n",
    "                list1 = list1.next\n",
    "            else:\n",
    "                cur.next = list2\n",
    "                list2 = list2.next\n",
    "            cur = cur.next\n",
    "\n",
    "        # 剩余部分直接接上\n",
    "        cur.next = list1 if list1 else list2\n",
    "        return dummy.next"
   ]
  },
  {
   "cell_type": "markdown",
   "id": "682293d6",
   "metadata": {},
   "source": [
    "### 两数相加\n",
    "\n",
    "给你两个 非空 的链表，表示两个非负的整数。它们每位数字都是按照 逆序 的方式存储的，并且每个节点只能存储 一位 数字。\n",
    "\n",
    "请你将两个数相加，并以相同形式返回一个表示和的链表。\n",
    "\n",
    "你可以假设除了数字 0 之外，这两个数都不会以 0 开头。"
   ]
  },
  {
   "cell_type": "code",
   "execution_count": null,
   "id": "4e3252b3",
   "metadata": {},
   "outputs": [
    {
     "name": "stdout",
     "output_type": "stream",
     "text": [
      "0 1\n"
     ]
    }
   ],
   "source": [
    "print(10 % 10,10//10)"
   ]
  },
  {
   "cell_type": "code",
   "execution_count": null,
   "id": "4c2a7736",
   "metadata": {},
   "outputs": [],
   "source": [
    "class Solution:\n",
    "    def addTwoNumbers(self, l1: Optional[ListNode], l2: Optional[ListNode]) -> Optional[ListNode]:\n",
    "\n",
    "        dis = ListNode(-1)\n",
    "        cur = dis\n",
    "        m = 0\n",
    "\n",
    "        while l1 and l2:\n",
    "            r = (l1.val + l2.val + m) % 10\n",
    "            cur.next = ListNode(r)\n",
    "            m = (l1.val + l2.val + m) // 10\n",
    "            cur = cur.next\n",
    "            l1 = l1.next\n",
    "            l2 = l2.next\n",
    "\n",
    "        while l1:\n",
    "            r = (l1.val+ m) % 10\n",
    "            cur.next = ListNode(r)\n",
    "            m = (l1.val+ m) // 10\n",
    "            cur = cur.next\n",
    "            l1 = l1.next\n",
    "        while l2:\n",
    "            r = (l2.val+ m) % 10\n",
    "            cur.next = ListNode(r)\n",
    "            m = (l2.val+ m) // 10\n",
    "            cur = cur.next\n",
    "            l2 = l2.next\n",
    "\n",
    "\n",
    "        if not l1 or not l2:\n",
    "            if m:\n",
    "                cur.next = ListNode(m)\n",
    "\n",
    "\n",
    "        return dis.next\n"
   ]
  },
  {
   "cell_type": "markdown",
   "id": "0b3aa706",
   "metadata": {},
   "source": [
    "###  删除链表的倒数第 N 个结点\n",
    "\n",
    "给你一个链表，删除链表的倒数第 n 个结点，并且返回链表的头结点。"
   ]
  },
  {
   "cell_type": "code",
   "execution_count": null,
   "id": "489252a1",
   "metadata": {},
   "outputs": [],
   "source": [
    "class Solution:\n",
    "    def removeNthFromEnd(self, head: Optional[ListNode], n: int) -> Optional[ListNode]:\n",
    "        dummy = ListNode(0, head)\n",
    "        fast = slow = dummy\n",
    "\n",
    "        # fast 先走 n 步\n",
    "        for _ in range(n):\n",
    "            fast = fast.next\n",
    "\n",
    "        # fast 走到末尾，slow 指向待删除结点的前一个\n",
    "        while fast.next:\n",
    "            fast = fast.next\n",
    "            slow = slow.next\n",
    "\n",
    "        # 删除 slow.next\n",
    "        slow.next = slow.next.next\n",
    "        return dummy.next\n"
   ]
  },
  {
   "cell_type": "code",
   "execution_count": null,
   "id": "94c0833d",
   "metadata": {},
   "outputs": [],
   "source": [
    "class Solution:\n",
    "    def swapPairs(self, head: Optional[ListNode]) -> Optional[ListNode]:\n",
    "        prev, cur = None, head\n",
    "\n",
    "        while cur or cur.next:\n",
    "            prev = cur.next\n",
    "            "
   ]
  },
  {
   "cell_type": "markdown",
   "id": "344c9c27",
   "metadata": {},
   "source": [
    "### 两两交换链表中的节点\n",
    "\n",
    "给你一个链表，两两交换其中相邻的节点，并返回交换后链表的头节点。你必须在不修改节点内部的值的情况下完成本题（即，只能进行节点交换）。"
   ]
  },
  {
   "cell_type": "code",
   "execution_count": null,
   "id": "50e34a34",
   "metadata": {},
   "outputs": [],
   "source": [
    "class ListNode:\n",
    "    def __init__(self, val=0, next=None):\n",
    "        self.val = val\n",
    "        self.next = next"
   ]
  },
  {
   "cell_type": "code",
   "execution_count": null,
   "id": "e610f075",
   "metadata": {},
   "outputs": [],
   "source": [
    "class Solution:\n",
    "    def swapPairs(self, head: Optional[ListNode]) -> Optional[ListNode]:\n",
    "        \n",
    "        dummy = ListNode(0, head)\n",
    "        prev = dummy\n",
    "        while prev.next and prev.next.next:\n",
    "            a = prev.next\n",
    "            b = a.next\n",
    "            # 交换\n",
    "            a.next = b.next\n",
    "            b.next = a\n",
    "            prev.next = b\n",
    "            # 前进\n",
    "            prev = a\n",
    "        return dummy.next\n",
    "\n",
    "            "
   ]
  },
  {
   "cell_type": "markdown",
   "id": "2b435c9b",
   "metadata": {},
   "source": [
    "### K 个一组翻转链表\n",
    "\n",
    "给你链表的头节点 head ，每 k 个节点一组进行翻转，请你返回修改后的链表。\n",
    "\n",
    "k 是一个正整数，它的值小于或等于链表的长度。如果节点总数不是 k 的整数倍，那么请将最后剩余的节点保持原有顺序。\n",
    "\n",
    "你不能只是单纯的改变节点内部的值，而是需要实际进行节点交换。"
   ]
  },
  {
   "cell_type": "code",
   "execution_count": null,
   "id": "c811fa8b",
   "metadata": {},
   "outputs": [],
   "source": [
    "class Solution:\n",
    "    def reverseKGroup(self, head: Optional[ListNode], k: int) -> Optional[ListNode]:\n",
    "        if k <= 1 or not head:\n",
    "            return head\n",
    "\n",
    "        dummy = ListNode(0, head)\n",
    "        group_prev = dummy\n",
    "\n",
    "        while True:\n",
    "            # 1) 找到第 k 个节点\n",
    "            kth = group_prev\n",
    "            for _ in range(k):\n",
    "                kth = kth.next\n",
    "                if not kth:  # 不足 k 个，结束\n",
    "                    return dummy.next\n",
    "\n",
    "            group_next = kth.next\n",
    "            # 2) 反转这一组 [start, kth]\n",
    "            prev, cur = group_next, group_prev.next\n",
    "            # 记录本组反转后的尾（反转前的头）\n",
    "            start = cur\n",
    "\n",
    "            while cur is not group_next:\n",
    "                nxt = cur.next\n",
    "                cur.next = prev\n",
    "                prev = cur\n",
    "                cur = nxt\n",
    "\n",
    "            # 3) 收口\n",
    "            group_prev.next = kth     # kth 现在是这组新头\n",
    "            group_prev = start        # 本组尾，作为下一轮的前驱"
   ]
  },
  {
   "cell_type": "markdown",
   "id": "d27514f7",
   "metadata": {},
   "source": [
    "### 随机链表的复制\n",
    "\n",
    "给你一个长度为 n 的链表，每个节点包含一个额外增加的随机指针 random ，该指针可以指向链表中的任何节点或空节点。\n",
    "\n",
    "构造这个链表的 深拷贝。 深拷贝应该正好由 n 个 全新 节点组成，其中每个新节点的值都设为其对应的原节点的值。新节点的 next 指针和 random 指针也都应指向复制链表中的新节点，并使原链表和复制链表中的这些指针能够表示相同的链表状态。复制链表中的指针都不应指向原链表中的节点 。\n",
    "\n",
    "例如，如果原链表中有 X 和 Y 两个节点，其中 X.random --> Y 。那么在复制链表中对应的两个节点 x 和 y ，同样有 x.random --> y 。\n",
    "\n",
    "返回复制链表的头节点。\n",
    "\n",
    "用一个由 n 个节点组成的链表来表示输入/输出中的链表。每个节点用一个 [val, random_index] 表示：\n",
    "\n",
    "- val：一个表示 Node.val 的整数。\n",
    "- random_index：随机指针指向的节点索引（范围从 0 到 n-1）；如果不指向任何节点，则为  null 。\n",
    "\n",
    "你的代码 只 接受原链表的头节点 head 作为传入参数。"
   ]
  },
  {
   "cell_type": "code",
   "execution_count": null,
   "id": "0f08fc62",
   "metadata": {},
   "outputs": [],
   "source": [
    "class Solution:\n",
    "    def copyRandomList(self, head: 'Optional[Node]') -> 'Optional[Node]':\n",
    "        if not head:\n",
    "            return None\n",
    "\n",
    "        old_to_new = dict()\n",
    "        cur = head\n",
    "        while cur:\n",
    "            old_to_new[cur] = Node(cur.val)\n",
    "            cur = cur.next\n",
    "\n",
    "        cur = head\n",
    "        while cur:\n",
    "            node = old_to_new[cur]\n",
    "            node.next = old_to_new.get(cur.next)\n",
    "            node.random = old_to_new.get(cur.random)\n",
    "            cur = cur.next\n",
    "\n",
    "        return old_to_new[head]\n"
   ]
  },
  {
   "cell_type": "markdown",
   "id": "557f86e1",
   "metadata": {},
   "source": [
    "###  排序链表\n",
    "\n",
    "给你链表的头结点 head ，请将其按 升序 排列并返回 排序后的链表 。"
   ]
  },
  {
   "cell_type": "code",
   "execution_count": null,
   "id": "99f6eda9",
   "metadata": {},
   "outputs": [],
   "source": [
    "class Solution:\n",
    "    def sortList(self, head: Optional[ListNode]) -> Optional[ListNode]:\n",
    "        if not head or not head.next:\n",
    "            return head\n",
    "        \n",
    "        slow ,fast = head, head.next\n",
    "        while fast and fast.next:\n",
    "            slow = slow.next\n",
    "            fast = fast.next.next\n",
    "\n",
    "        mid = slow.next\n",
    "        slow.next = None\n",
    "\n",
    "        left = self.sortList(head)\n",
    "        right = self.sortList(mid)\n",
    "\n",
    "        return self.merge(left, right)\n",
    "    \n",
    "    def merge(self, left, right):\n",
    "        st = ListNode(0)\n",
    "        en = st\n",
    "\n",
    "        while left and right:\n",
    "            if left.val < right.val:\n",
    "                en.next = left\n",
    "                left = left.next\n",
    "            else:\n",
    "                en.next = right\n",
    "                right = right.next\n",
    "            en = en.next\n",
    "        en.next = left if left else right\n",
    "        return st.next"
   ]
  },
  {
   "cell_type": "markdown",
   "id": "8b7196a4",
   "metadata": {},
   "source": [
    "### 合并 K 个升序链表\n",
    "\n",
    "给你一个链表数组，每个链表都已经按升序排列。\n",
    "\n",
    "请你将所有链表合并到一个升序链表中，返回合并后的链表。\n",
    "\n"
   ]
  },
  {
   "cell_type": "code",
   "execution_count": null,
   "id": "dddfb773",
   "metadata": {},
   "outputs": [],
   "source": [
    "class Solution:\n",
    "    def mergeKLists(self, lists: List[Optional[ListNode]]) -> Optional[ListNode]:\n",
    "        heap = []\n",
    "        for i, node in enumerate(lists):\n",
    "            if node:\n",
    "                heapq.heappush(heap,(node.val, i, node))\n",
    "        \n",
    "        st = ListNode()\n",
    "        en = st\n",
    "\n",
    "        while heap:\n",
    "            _, i, node = heapq.heappop(heap)\n",
    "            en.next = node\n",
    "            en = en.next\n",
    "            if node.next:\n",
    "                heapq.heappush(heap,(node.next.val, i, node.next))\n",
    "\n",
    "        return st.next\n",
    "    "
   ]
  },
  {
   "cell_type": "markdown",
   "id": "524aefa8",
   "metadata": {},
   "source": [
    "### LRU 缓存\n",
    "\n",
    "请你设计并实现一个满足  LRU (最近最少使用) 缓存 约束的数据结构。\n",
    "\n",
    "实现 LRUCache 类：\n",
    "\n",
    "- LRUCache(int capacity) 以 正整数 作为容量 capacity 初始化 LRU 缓存\n",
    "\n",
    "- int get(int key) 如果关键字 key 存在于缓存中，则返回关键字的值，否则返回 -1 。\n",
    "\n",
    "- void put(int key, int value) 如果关键字 key 已经存在，则变更其数据值 value ；如果不存在，则向缓存中插入该组 key-value 。如果插入操作导致关键字数量超过 capacity ，则应该 逐出 最久未使用的关键字。\n",
    "\n",
    "函数 get 和 put 必须以 O(1) 的平均时间复杂度运行。\n",
    "\n"
   ]
  },
  {
   "cell_type": "code",
   "execution_count": null,
   "id": "15c7dde5",
   "metadata": {},
   "outputs": [],
   "source": [
    "class Node:\n",
    "    __slots__ = (\"k\", \"v\", \"prev\", \"next\")\n",
    "    def __init__(self, k=0, v=0):\n",
    "        self.k, self.v = k, v\n",
    "        self.prev = self.next = None\n",
    "\n",
    "class LRUCache:\n",
    "    def __init__(self, capacity: int):\n",
    "        self.cap = capacity\n",
    "        self.map = {}                 # key -> Node\n",
    "        # 伪头尾，便于统一插删逻辑：head <-> ... <-> tail\n",
    "        self.head, self.tail = Node(), Node()\n",
    "        self.head.next, self.tail.prev = self.tail, self.head\n",
    "\n",
    "    # 在头部后面插入（标记为最近使用）\n",
    "    def _add_to_head(self, node: Node):\n",
    "        node.prev, node.next = self.head, self.head.next\n",
    "        self.head.next.prev = node\n",
    "        self.head.next = node\n",
    "\n",
    "    # 从链表中删除\n",
    "    def _remove(self, node: Node):\n",
    "        p, n = node.prev, node.next\n",
    "        p.next, n.prev = n, p\n",
    "\n",
    "    # 移动到头部（最近使用）\n",
    "    def _move_to_head(self, node: Node):\n",
    "        self._remove(node)\n",
    "        self._add_to_head(node)\n",
    "\n",
    "    # 弹出尾部前一个（最久未使用）\n",
    "    def _pop_tail(self) -> Node:\n",
    "        node = self.tail.prev\n",
    "        self._remove(node)\n",
    "        return node\n",
    "\n",
    "    def get(self, key: int) -> int:\n",
    "        if key not in self.map:\n",
    "            return -1\n",
    "        node = self.map[key]\n",
    "        self._move_to_head(node)\n",
    "        return node.v\n",
    "\n",
    "    def put(self, key: int, value: int) -> None:\n",
    "        if key in self.map:\n",
    "            node = self.map[key]\n",
    "            node.v = value\n",
    "            self._move_to_head(node)\n",
    "        else:\n",
    "            node = Node(key, value)\n",
    "            self.map[key] = node\n",
    "            self._add_to_head(node)\n",
    "            if len(self.map) > self.cap:\n",
    "                tail = self._pop_tail()\n",
    "                del self.map[tail.k]\n"
   ]
  }
 ],
 "metadata": {
  "kernelspec": {
   "display_name": "leetcode",
   "language": "python",
   "name": "python3"
  },
  "language_info": {
   "codemirror_mode": {
    "name": "ipython",
    "version": 3
   },
   "file_extension": ".py",
   "mimetype": "text/x-python",
   "name": "python",
   "nbconvert_exporter": "python",
   "pygments_lexer": "ipython3",
   "version": "3.10.6"
  }
 },
 "nbformat": 4,
 "nbformat_minor": 5
}
