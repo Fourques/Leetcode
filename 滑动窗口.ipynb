{
 "cells": [
  {
   "cell_type": "markdown",
   "id": "e1815483",
   "metadata": {},
   "source": [
    "### 无重复字符的最长子串\n",
    "\n",
    "给定一个字符串 s ，请你找出其中不含有重复字符的 最长 子串 的长度"
   ]
  },
  {
   "cell_type": "code",
   "execution_count": 22,
   "id": "e6c655b6",
   "metadata": {},
   "outputs": [
    {
     "name": "stdout",
     "output_type": "stream",
     "text": [
      "['a', 'b', 'c', 'a', 'b', 'c', 'b', 'b', ' ']\n",
      "3\n"
     ]
    }
   ],
   "source": [
    "s = \"abcabcbb \"\n",
    "print(list(s))\n",
    "s_list = list(s)\n",
    "\n",
    "ef = {'a': 0, 'b': 1, 'c': 2}\n",
    "\n",
    "print(len(ef))\n"
   ]
  },
  {
   "cell_type": "code",
   "execution_count": 27,
   "id": "34ec6441",
   "metadata": {},
   "outputs": [
    {
     "data": {
      "text/plain": [
       "3"
      ]
     },
     "execution_count": 27,
     "metadata": {},
     "output_type": "execute_result"
    }
   ],
   "source": [
    "s = \"abcabcbb\"\n",
    "\n",
    "def main(s):\n",
    "    s_list = list(s)\n",
    "    if len(s_list) == 0:\n",
    "        return 0\n",
    "    l = 0\n",
    "    u_list = []\n",
    "    ef = {}\n",
    "    for i, n in enumerate(s_list):\n",
    "        if n in u_list:\n",
    "            u_list = s_list[ef[n]:i]\n",
    "        else:\n",
    "            u_list += n\n",
    "        l = max(l, len(u_list))\n",
    "        ef[n] = i\n",
    "    return l\n",
    "\n",
    "main(s)\n"
   ]
  },
  {
   "cell_type": "code",
   "execution_count": null,
   "id": "7df7a8ad",
   "metadata": {},
   "outputs": [],
   "source": [
    "s = \"abcabcbb\"\n",
    "\n",
    "def lengthOfLongestSubstring(s: str) -> int:\n",
    "    ef = {}          # char -> 最近一次出现的位置\n",
    "    left = 0           # 当前窗口的左边界（包含）\n",
    "    l = 0\n",
    "    for r, ch in enumerate(s):\n",
    "        if ch in ef and ef[ch] >= left:\n",
    "            # ch 在当前窗口内重复了，左边界跳到重复字符之后\n",
    "            left = ef[ch] + 1\n",
    "        ef[ch] = r\n",
    "        l = max(l, r - left + 1)\n",
    "    return l\n"
   ]
  },
  {
   "cell_type": "markdown",
   "id": "54e40ca1",
   "metadata": {},
   "source": [
    "### 找到字符串中所有字母异位词\n",
    "\n",
    "给定两个字符串 s 和 p，找到 s 中所有 p 的 异位词 的子串，返回这些子串的起始索引。不考虑答案输出的顺序。\n",
    "\n"
   ]
  },
  {
   "cell_type": "code",
   "execution_count": 4,
   "id": "e4299ed4",
   "metadata": {},
   "outputs": [
    {
     "name": "stdout",
     "output_type": "stream",
     "text": [
      "2\n",
      "ab\n"
     ]
    }
   ],
   "source": [
    "p = \"abc\"\n",
    "\n",
    "a = \"a\"\n",
    "\n",
    "if a in p:\n",
    "    print(2)\n",
    "    print(p[0:2])"
   ]
  },
  {
   "cell_type": "code",
   "execution_count": null,
   "id": "32cc55aa",
   "metadata": {},
   "outputs": [
    {
     "data": {
      "text/plain": [
       "[0, 6]"
      ]
     },
     "execution_count": 26,
     "metadata": {},
     "output_type": "execute_result"
    }
   ],
   "source": [
    "\n",
    "\n",
    "s = \"cbaaebabacd\"\n",
    "p = \"aabc\"\n",
    "\n",
    "def find(s,p):\n",
    "    len_p = len(p)\n",
    "    sorted_p = sorted(p)\n",
    "    ans = []\n",
    "    for i in range(len(s)-len(p)+1):\n",
    "        if sorted(s[i:i+len_p]) == sorted_p:\n",
    "            ans.append(i)\n",
    "    return ans\n",
    "\n",
    "find(s,p)1\n",
    "\n",
    "index = ord('c') - ord('a')   # 99 - 97 = 2\n"
   ]
  },
  {
   "cell_type": "code",
   "execution_count": null,
   "id": "c07eeb43",
   "metadata": {},
   "outputs": [
    {
     "name": "stdout",
     "output_type": "stream",
     "text": [
      "[2, 1, 1, 0, 0, 0, 0, 0, 0, 0, 0, 0, 0, 0, 0, 0, 0, 0, 0, 0, 0, 0, 0, 0, 0, 0]\n"
     ]
    },
    {
     "data": {
      "text/plain": [
       "[0, 6]"
      ]
     },
     "execution_count": 25,
     "metadata": {},
     "output_type": "execute_result"
    }
   ],
   "source": [
    "def findAnagrams(s,p):\n",
    "    n, m = len(s), len(p)\n",
    "    if n < m:\n",
    "        return []\n",
    "    res = []\n",
    "    cnt_p = [0] * 26\n",
    "    cnt_w = [0] * 26\n",
    "    a = ord('a')\n",
    "\n",
    "    for ch in p:\n",
    "        cnt_p[ord(ch) - a] += 1\n",
    "    print(cnt_p)\n",
    "\n",
    "    # 处理边界\n",
    "    for i in range(m):\n",
    "        cnt_w[ord(s[i]) - a] += 1\n",
    "    if cnt_w == cnt_p:\n",
    "        res.append(0)\n",
    "\n",
    "    # 滑动窗口\n",
    "    for i in range(m, n):\n",
    "        cnt_w[ord(s[i]) - a] += 1               # 进入窗口的新字符\n",
    "        cnt_w[ord(s[i - m]) - a] -= 1           # 移出窗口的旧字符\n",
    "        if cnt_w == cnt_p:\n",
    "            res.append(i - m + 1)\n",
    "    return res\n",
    "\n",
    "findAnagrams(s,p)"
   ]
  }
 ],
 "metadata": {
  "kernelspec": {
   "display_name": "LeetCode",
   "language": "python",
   "name": "python3"
  },
  "language_info": {
   "codemirror_mode": {
    "name": "ipython",
    "version": 3
   },
   "file_extension": ".py",
   "mimetype": "text/x-python",
   "name": "python",
   "nbconvert_exporter": "python",
   "pygments_lexer": "ipython3",
   "version": "3.13.5"
  }
 },
 "nbformat": 4,
 "nbformat_minor": 5
}
