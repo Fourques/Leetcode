{
 "cells": [
  {
   "cell_type": "code",
   "execution_count": null,
   "id": "e618cd3b",
   "metadata": {},
   "outputs": [],
   "source": [
    "import sys\n",
    "from io import StringIO\n",
    "\n",
    "\n",
    "sample_input = \"\"\"2\n",
    "5 2\n",
    "1 2 4 7 9\n",
    "4 0\n",
    "1 1 2 5\n",
    "\"\"\"\n",
    "\n",
    "sys.stdin = StringIO(sample_input)"
   ]
  }
 ],
 "metadata": {
  "language_info": {
   "name": "python"
  }
 },
 "nbformat": 4,
 "nbformat_minor": 5
}
